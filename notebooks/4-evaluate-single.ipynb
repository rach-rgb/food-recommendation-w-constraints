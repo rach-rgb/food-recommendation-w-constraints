{
 "cells": [
  {
   "cell_type": "code",
   "execution_count": 1,
   "id": "ac9415ea",
   "metadata": {
    "scrolled": true
   },
   "outputs": [],
   "source": [
    "# import modules\n",
    "import copy\n",
    "import time\n",
    "from sys import path\n",
    "from collections import defaultdict"
   ]
  },
  {
   "cell_type": "code",
   "execution_count": 2,
   "id": "b9e04f68",
   "metadata": {},
   "outputs": [],
   "source": [
    "import pandas as pd\n",
    "from surprise import SVD, Reader, Dataset, accuracy\n",
    "from surprise.model_selection import train_test_split"
   ]
  },
  {
   "cell_type": "code",
   "execution_count": 3,
   "id": "728c8e6c",
   "metadata": {},
   "outputs": [],
   "source": [
    "path.append('../code/src')"
   ]
  },
  {
   "cell_type": "code",
   "execution_count": 4,
   "id": "ff8374f5",
   "metadata": {},
   "outputs": [],
   "source": [
    "import svd_constraint\n",
    "from post_rec import PostRec\n",
    "from inter_rec import InterRec\n",
    "from evaluate import Evaluation as ev"
   ]
  },
  {
   "cell_type": "code",
   "execution_count": 5,
   "id": "a10baa26",
   "metadata": {},
   "outputs": [],
   "source": [
    "# constants\n",
    "# file path\n",
    "input_path = \"../data/\"\n",
    "output_path = '../result/'\n",
    "rate_file = 'reduced_rating_data.csv'\n",
    "attr_file = 'recipe_data.csv'\n",
    "\n",
    "# user/item max\n",
    "user_max = 1000\n",
    "food_max = 5000\n",
    "\n",
    "# const count\n",
    "const_count = 3"
   ]
  },
  {
   "cell_type": "code",
   "execution_count": 6,
   "id": "f9db44cd",
   "metadata": {},
   "outputs": [],
   "source": [
    "# Dictionary keys\n",
    "rs1 = 'w/o Constraint'\n",
    "rs2 = 'Post-Single-'\n",
    "rs3 = 'Inter-Single-'\n",
    "val_r1 = 'RMSE'\n",
    "val_r2 = 'nDCG'\n",
    "val_t1 = 'train time(s)'\n",
    "val_t2 = 'exec time(s)'"
   ]
  },
  {
   "cell_type": "code",
   "execution_count": 7,
   "id": "cf48c835",
   "metadata": {},
   "outputs": [],
   "source": [
    "val_dict = {\n",
    "    val_r1: 0,\n",
    "    val_r2: 0,\n",
    "    val_t1: 0,\n",
    "    val_t2: 0\n",
    "}\n",
    "\n",
    "keys = [rs1]\n",
    "keys = keys + [rs2 + str(i) for i in range (1, 4)]\n",
    "keys = keys + [rs3 + str(i) for i in range (1, 4)]\n",
    "\n",
    "result = {key: copy.deepcopy(val_dict) for key in keys}"
   ]
  },
  {
   "cell_type": "code",
   "execution_count": null,
   "id": "b45cce57",
   "metadata": {},
   "outputs": [],
   "source": [
    "# load previous result\n",
    "result_df = pd.read_csv(output_path + 'evaluation_single.csv', index_col = 0).transpose()\n",
    "result.update(result_df.to_dict())\n",
    "result"
   ]
  },
  {
   "cell_type": "markdown",
   "id": "620fe77f",
   "metadata": {},
   "source": [
    "# Evaluate RS w/o Constraint\n",
    "Check Suprise SVD performance with given rating data"
   ]
  },
  {
   "cell_type": "code",
   "execution_count": 8,
   "id": "7ed8490c",
   "metadata": {},
   "outputs": [],
   "source": [
    "# Source From: https://github.com/NicolasHug/Surprise/blob/master/examples/top_n_recommendations.py\n",
    "def get_top_n(predictions, n=10):\n",
    "    # First map the predictions to each user.\n",
    "    top_n = defaultdict(list)\n",
    "    ret = defaultdict(list)\n",
    "    for uid, iid, true_r, est, _ in predictions:\n",
    "        top_n[uid].append((iid, est))\n",
    "\n",
    "    # Then sort the predictions for each user and retrieve the k highest ones.\n",
    "    for uid, user_ratings in top_n.items():\n",
    "        user_ratings.sort(key=lambda x: x[1], reverse=True)\n",
    "        top_n[uid] = user_ratings[:n]\n",
    "        ret[int(uid)] = [int(i) for i, r in top_n[uid]]\n",
    "    \n",
    "    return ret"
   ]
  },
  {
   "cell_type": "code",
   "execution_count": 9,
   "id": "c1f954b7",
   "metadata": {},
   "outputs": [],
   "source": [
    "def run_SVD(k):    \n",
    "    # get data\n",
    "    reader = Reader(line_format='user item rating', sep=',', rating_scale=(0, 5))\n",
    "    data = Dataset.load_from_file(input_path + rate_file, reader = reader)\n",
    "    \n",
    "    train_set, test_set = train_test_split(data, test_size=0.25)\n",
    "    predict_set = train_set.build_anti_testset()\n",
    "    \n",
    "    # use SVD algorithm\n",
    "    algo = SVD()\n",
    "    \n",
    "    # train\n",
    "    start = time.time()\n",
    "    algo.fit(train_set)\n",
    "    t1 = time.time() - start\n",
    "    \n",
    "    # predict rating for test-set\n",
    "    predict_test = algo.test(test_set)\n",
    "    r1 = ev.calculate_rmse(predict_test)\n",
    "\n",
    "    # get top-n for anti-test-set\n",
    "    start = time.time()\n",
    "    predict_full = algo.test(predict_set)\n",
    "    top_n = get_top_n(predict_full, k)\n",
    "    t2 = time.time() - start\n",
    "    \n",
    "    # predict nDCG for test-set\n",
    "    rel_dict = defaultdict(list)\n",
    "    for (u, i, r) in test_set:\n",
    "        if r >= 4:\n",
    "            rel_dict[int(u)].append(int(i))\n",
    "    \n",
    "    top_n_df = pd.DataFrame.from_dict(top_n, orient='index')\n",
    "    top_n_df = top_n_df.reindex(columns=[x for x in range(0, k)])\n",
    "    r2 = ev.calculate_ndcg(rel_dict, top_n_df, k)\n",
    "    \n",
    "    return r1, r2, t1, t2"
   ]
  },
  {
   "cell_type": "code",
   "execution_count": 10,
   "id": "9b2bd74c",
   "metadata": {
    "scrolled": false
   },
   "outputs": [],
   "source": [
    "r1, r2, t1, t2 = run_SVD(500)\n",
    "result[rs1][val_r1] = r1\n",
    "result[rs1][val_r2] = r2\n",
    "result[rs1][val_t1] = t1\n",
    "result[rs1][val_t2] = t2"
   ]
  },
  {
   "cell_type": "markdown",
   "id": "4b55c249",
   "metadata": {},
   "source": [
    "# Evaluate Post-Rec w/ Single Type Constraint"
   ]
  },
  {
   "cell_type": "code",
   "execution_count": 14,
   "id": "b1eeaefc",
   "metadata": {},
   "outputs": [],
   "source": [
    "def run_post(ctype, idx, k, save_result = True):    \n",
    "    # PostRec applies constraint after the rating of each item is predicted\n",
    "    rec = PostRec(input_path + rate_file, input_path + attr_file, \n",
    "                           input_path + 'const_' + str(ctype) + '.' + str(idx) + '.csv',\n",
    "                            need_test = True)\n",
    "    \n",
    "    rec.get_data()  # get rating, attribute, recipe data\n",
    "    rec.set_result_n(k)\n",
    "    \n",
    "    # train with data\n",
    "    start = time.time()\n",
    "    rec.train()  \n",
    "    t1 = time.time() - start\n",
    "    \n",
    "    # predict rating for test-set\n",
    "    predict_test = rec.test_rmse()\n",
    "    r1 = ev.calculate_rmse(predict_test)\n",
    "       \n",
    "    # get top-n for anti-test-set\n",
    "    start = time.time()\n",
    "    rec.test()\n",
    "    top_n_df = rec.get_top_n()\n",
    "    t2 = time.time() - start\n",
    "    \n",
    "    # calculate ndcg\n",
    "    r2 = ev.calculate_ndcg(rec.get_rel(), top_n_df, k)\n",
    "    \n",
    "    if save_result:       \n",
    "        top_n_df.to_csv(output_path + 'PostRec_' + str(ctype) + '.' + str(idx) + '.csv')\n",
    "        \n",
    "    return r1, r2, t1, t2"
   ]
  },
  {
   "cell_type": "code",
   "execution_count": 15,
   "id": "1dfd97ae",
   "metadata": {
    "scrolled": true
   },
   "outputs": [
    {
     "name": "stdout",
     "output_type": "stream",
     "text": [
      "Const_1.1 done\n",
      "Const_1.2 done\n",
      "Const_1.3 done\n",
      "Const_2.1 done\n",
      "Const_2.2 done\n",
      "Const_2.3 done\n",
      "Const_3.1 done\n",
      "Const_3.2 done\n",
      "Const_3.3 done\n"
     ]
    }
   ],
   "source": [
    "for i in range (1, 4):\n",
    "    r1_sum = 0\n",
    "    r2_sum = 0\n",
    "    t1_sum = 0\n",
    "    t2_sum = 0\n",
    "    for j in range (1, const_count + 1):\n",
    "        r1, r2, t1, t2 = run_post(i, j, 500, False)\n",
    "        r1_sum = r1_sum + r1\n",
    "        r2_sum = r2_sum + r2\n",
    "        t1_sum = t1_sum + t1\n",
    "        t2_sum = t2_sum + t2\n",
    "        print('Const_'+str(i)+'.'+str(j)+\" done\")\n",
    "        \n",
    "    result[rs2+str(i)][val_r1] = r1_sum/const_count\n",
    "    result[rs2+str(i)][val_r2] = r2_sum/const_count\n",
    "    result[rs2+str(i)][val_t1] = t1_sum/const_count\n",
    "    result[rs2+str(i)][val_t2] = t2_sum/const_count"
   ]
  },
  {
   "cell_type": "markdown",
   "id": "a345ecf2",
   "metadata": {},
   "source": [
    "# Evaluate Inter-Rec w/ Single Type Constraint"
   ]
  },
  {
   "cell_type": "code",
   "execution_count": 19,
   "id": "b0bec1af",
   "metadata": {},
   "outputs": [],
   "source": [
    "def run_inter(ctype, idx, k, save_result = True):    \n",
    "    # PostRec applies constraint after the rating of each item is predicted\n",
    "    rec = InterRec(input_path + rate_file, input_path + attr_file, \n",
    "                           input_path + 'const_' + str(ctype) + '.' + str(idx) + '.csv', \n",
    "                            svd_constraint.CnstSVD(), need_test = True)\n",
    "    \n",
    "    rec.get_data()  # get rating, attribute, recipe data\n",
    "    rec.set_result_n(k)\n",
    "    \n",
    "    # train with data\n",
    "    start = time.time()\n",
    "    rec.train()  \n",
    "    t1 = time.time() - start\n",
    "    \n",
    "    # predict rating for test-set\n",
    "    predict_test = rec.test_rmse()\n",
    "    r1 = ev.calculate_rmse(predict_test)\n",
    "    \n",
    "    # get top-n for anti-test-set\n",
    "    start = time.time()\n",
    "    rec.test()\n",
    "    top_n_df = rec.get_top_n()\n",
    "    t2 = time.time() - start\n",
    "\n",
    "    # calculate nDCG\n",
    "    r2 = ev.calculate_ndcg(rec.get_rel(), top_n_df, k)\n",
    "    \n",
    "    if save_result:       \n",
    "        top_n_df.to_csv(output_path + 'InterRec_' + str(ctype) + '.' + str(idx) + '.csv')\n",
    "        \n",
    "    return r1, r2, t1, t2"
   ]
  },
  {
   "cell_type": "code",
   "execution_count": 20,
   "id": "9b441faa",
   "metadata": {
    "scrolled": true
   },
   "outputs": [
    {
     "name": "stdout",
     "output_type": "stream",
     "text": [
      "Const_1.1 done\n",
      "Const_1.2 done\n",
      "Const_1.3 done\n",
      "Const_2.1 done\n",
      "Const_2.2 done\n",
      "Const_2.3 done\n",
      "Const_3.1 done\n",
      "Const_3.2 done\n",
      "Const_3.3 done\n"
     ]
    }
   ],
   "source": [
    "for i in range (1, 4):\n",
    "    r1_sum = 0\n",
    "    r2_sum = 0\n",
    "    t1_sum = 0\n",
    "    t2_sum = 0\n",
    "    for j in range (1, const_count + 1):\n",
    "        r1, r2, t1, t2 = run_inter(i, j, 500, False)\n",
    "        r1_sum = r1_sum + r1\n",
    "        r2_sum = r2_sum + r2\n",
    "        t1_sum = t1_sum + t1\n",
    "        t2_sum = t2_sum + t2\n",
    "        print('Const_'+str(i)+'.'+str(j)+\" done\")\n",
    "        \n",
    "    result[rs3+str(i)][val_r1] = r1_sum/const_count\n",
    "    result[rs3+str(i)][val_r2] = r2_sum/const_count\n",
    "    result[rs3+str(i)][val_t1] = t1_sum/const_count\n",
    "    result[rs3+str(i)][val_t2] = t2_sum/const_count"
   ]
  },
  {
   "cell_type": "markdown",
   "id": "72b72df9",
   "metadata": {},
   "source": [
    "# Result"
   ]
  },
  {
   "cell_type": "code",
   "execution_count": 25,
   "id": "910270e7",
   "metadata": {
    "scrolled": true
   },
   "outputs": [
    {
     "data": {
      "text/html": [
       "<div>\n",
       "<style scoped>\n",
       "    .dataframe tbody tr th:only-of-type {\n",
       "        vertical-align: middle;\n",
       "    }\n",
       "\n",
       "    .dataframe tbody tr th {\n",
       "        vertical-align: top;\n",
       "    }\n",
       "\n",
       "    .dataframe thead th {\n",
       "        text-align: right;\n",
       "    }\n",
       "</style>\n",
       "<table border=\"1\" class=\"dataframe\">\n",
       "  <thead>\n",
       "    <tr style=\"text-align: right;\">\n",
       "      <th></th>\n",
       "      <th>RMSE</th>\n",
       "      <th>nDCG</th>\n",
       "      <th>train time(s)</th>\n",
       "      <th>exec time(s)</th>\n",
       "    </tr>\n",
       "  </thead>\n",
       "  <tbody>\n",
       "    <tr>\n",
       "      <th>w/o Constraint</th>\n",
       "      <td>0.706073</td>\n",
       "      <td>0.046131</td>\n",
       "      <td>0.269782</td>\n",
       "      <td>14.747428</td>\n",
       "    </tr>\n",
       "    <tr>\n",
       "      <th>Post-Single-1</th>\n",
       "      <td>4.592492</td>\n",
       "      <td>0.214925</td>\n",
       "      <td>0.265947</td>\n",
       "      <td>250.630925</td>\n",
       "    </tr>\n",
       "    <tr>\n",
       "      <th>Post-Single-2</th>\n",
       "      <td>0.989168</td>\n",
       "      <td>0.055393</td>\n",
       "      <td>0.266286</td>\n",
       "      <td>69.362382</td>\n",
       "    </tr>\n",
       "    <tr>\n",
       "      <th>Post-Single-3</th>\n",
       "      <td>0.839229</td>\n",
       "      <td>0.065824</td>\n",
       "      <td>0.259639</td>\n",
       "      <td>176.790504</td>\n",
       "    </tr>\n",
       "    <tr>\n",
       "      <th>Inter-Single-1</th>\n",
       "      <td>3.897495</td>\n",
       "      <td>0.224253</td>\n",
       "      <td>258.345484</td>\n",
       "      <td>10.339448</td>\n",
       "    </tr>\n",
       "    <tr>\n",
       "      <th>Inter-Single-2</th>\n",
       "      <td>0.927025</td>\n",
       "      <td>0.061335</td>\n",
       "      <td>268.810266</td>\n",
       "      <td>16.657367</td>\n",
       "    </tr>\n",
       "    <tr>\n",
       "      <th>Inter-Single-3</th>\n",
       "      <td>0.827441</td>\n",
       "      <td>0.066673</td>\n",
       "      <td>381.436334</td>\n",
       "      <td>19.531564</td>\n",
       "    </tr>\n",
       "  </tbody>\n",
       "</table>\n",
       "</div>"
      ],
      "text/plain": [
       "                    RMSE      nDCG  train time(s)  exec time(s)\n",
       "w/o Constraint  0.706073  0.046131       0.269782     14.747428\n",
       "Post-Single-1   4.592492  0.214925       0.265947    250.630925\n",
       "Post-Single-2   0.989168  0.055393       0.266286     69.362382\n",
       "Post-Single-3   0.839229  0.065824       0.259639    176.790504\n",
       "Inter-Single-1  3.897495  0.224253     258.345484     10.339448\n",
       "Inter-Single-2  0.927025  0.061335     268.810266     16.657367\n",
       "Inter-Single-3  0.827441  0.066673     381.436334     19.531564"
      ]
     },
     "execution_count": 25,
     "metadata": {},
     "output_type": "execute_result"
    }
   ],
   "source": [
    "result_df = pd.DataFrame.from_dict(result, orient='index', columns=['RMSE', 'nDCG', 'train time(s)', 'exec time(s)'])\n",
    "result_df.to_csv(output_path + 'evaluation_single.csv')\n",
    "result_df"
   ]
  },
  {
   "cell_type": "code",
   "execution_count": null,
   "id": "1ba56285",
   "metadata": {},
   "outputs": [],
   "source": []
  }
 ],
 "metadata": {
  "kernelspec": {
   "display_name": "research1",
   "language": "python",
   "name": "research1"
  },
  "language_info": {
   "codemirror_mode": {
    "name": "ipython",
    "version": 3
   },
   "file_extension": ".py",
   "mimetype": "text/x-python",
   "name": "python",
   "nbconvert_exporter": "python",
   "pygments_lexer": "ipython3",
   "version": "3.8.12"
  }
 },
 "nbformat": 4,
 "nbformat_minor": 5
}
