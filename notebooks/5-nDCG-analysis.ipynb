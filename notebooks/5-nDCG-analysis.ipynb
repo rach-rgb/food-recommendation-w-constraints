{
 "cells": [
  {
   "cell_type": "code",
   "execution_count": 1,
   "id": "1c91c781",
   "metadata": {},
   "outputs": [],
   "source": [
    "# import modules\n",
    "import copy\n",
    "from sys import path\n",
    "from collections import defaultdict"
   ]
  },
  {
   "cell_type": "code",
   "execution_count": 2,
   "id": "d3e78126",
   "metadata": {},
   "outputs": [],
   "source": [
    "import numpy as np\n",
    "import pandas as pd\n",
    "from surprise import SVD, Reader, Dataset\n",
    "from surprise.model_selection import train_test_split"
   ]
  },
  {
   "cell_type": "code",
   "execution_count": 3,
   "id": "d86ad3ce",
   "metadata": {},
   "outputs": [],
   "source": [
    "path.append('../code/src')"
   ]
  },
  {
   "cell_type": "code",
   "execution_count": 4,
   "id": "920358f2",
   "metadata": {},
   "outputs": [],
   "source": [
    "import svd_constraint\n",
    "from post_rec import PostRec\n",
    "from inter_rec import InterRec\n",
    "from evaluate import Evaluation as ev"
   ]
  },
  {
   "cell_type": "code",
   "execution_count": 5,
   "id": "879c8b56",
   "metadata": {},
   "outputs": [],
   "source": [
    "# constants\n",
    "# file path\n",
    "input_path = \"../data/\"\n",
    "output_path = '../result/'\n",
    "rate_file = 'reduced_rating_data.csv'\n",
    "attr_file = 'recipe_data.csv'\n",
    "\n",
    "# user/item max\n",
    "user_max = 1000\n",
    "food_max = 5000"
   ]
  },
  {
   "cell_type": "code",
   "execution_count": 6,
   "id": "e5fd1fed",
   "metadata": {},
   "outputs": [],
   "source": [
    "# Dictionary keys\n",
    "rs1 = 'w/o Constraint'\n",
    "\n",
    "k_list = [10, 50, 100, 200, 300, 500, 1000, 1500, 2000, 2500, 3000]"
   ]
  },
  {
   "cell_type": "code",
   "execution_count": 7,
   "id": "f6a7a34a",
   "metadata": {},
   "outputs": [],
   "source": [
    "val_dict = {\n",
    "\n",
    "}\n",
    "\n",
    "for k in k_list:\n",
    "    val_dict[k] = 0\n",
    "\n",
    "keys = [rs1]\n",
    "\n",
    "result = {key: copy.deepcopy(val_dict) for key in keys}"
   ]
  },
  {
   "cell_type": "markdown",
   "id": "fb491772",
   "metadata": {},
   "source": [
    "# Evaluate nDCG w/o Constraint"
   ]
  },
  {
   "cell_type": "code",
   "execution_count": 8,
   "id": "aeabb7f1",
   "metadata": {},
   "outputs": [],
   "source": [
    "# Source From: https://github.com/NicolasHug/Surprise/blob/master/examples/top_n_recommendations.py\n",
    "def get_top_n(predictions, n=10):\n",
    "    # First map the predictions to each user.\n",
    "    top_n = defaultdict(list)\n",
    "    ret = defaultdict(list)\n",
    "    for uid, iid, true_r, est, _ in predictions:\n",
    "        top_n[uid].append((iid, est))\n",
    "\n",
    "    # Then sort the predictions for each user and retrieve the k highest ones.\n",
    "    for uid, user_ratings in top_n.items():\n",
    "        user_ratings.sort(key=lambda x: x[1], reverse=True)\n",
    "        top_n[uid] = user_ratings[:n]\n",
    "        ret[int(uid)] = [int(i) for i, r in top_n[uid]]\n",
    "    \n",
    "    return ret"
   ]
  },
  {
   "cell_type": "code",
   "execution_count": 9,
   "id": "10e228ab",
   "metadata": {},
   "outputs": [],
   "source": [
    "def run_SVD_nDCG(k_list):    \n",
    "    # get data\n",
    "    reader = Reader(line_format='user item rating', sep=',', rating_scale=(0, 5))\n",
    "    data = Dataset.load_from_file(input_path + rate_file, reader = reader)\n",
    "    \n",
    "    train_set, test_set = train_test_split(data, test_size=0.25)\n",
    "    predict_set = train_set.build_anti_testset()\n",
    "    \n",
    "    # use SVD algorithm\n",
    "    algo = SVD()\n",
    "    \n",
    "    # train\n",
    "    algo.fit(train_set)\n",
    "    \n",
    "    # make prediction\n",
    "    predict = algo.test(predict_set)\n",
    "    \n",
    "    # predict nDCG for test-set\n",
    "    rel_dict = defaultdict(list)\n",
    "    for (u, i, r) in test_set:\n",
    "        if r >= 4:\n",
    "            rel_dict[int(u)].append(int(i))\n",
    "    \n",
    "    r_list = []\n",
    "    top_n = get_top_n(predict, max(k_list))\n",
    "    top_n_df = pd.DataFrame.from_dict(top_n, orient='index')\n",
    "    top_n_df = top_n_df.reindex(columns=[x for x in range(0, max(k_list))])\n",
    "    \n",
    "    for k in k_list:\n",
    "        r = ev.calculate_ndcg(rel_dict, top_n_df, k)\n",
    "        r_list.append(r)\n",
    "    \n",
    "    return r_list"
   ]
  },
  {
   "cell_type": "code",
   "execution_count": 10,
   "id": "22953ca0",
   "metadata": {},
   "outputs": [],
   "source": [
    "r_list = run_SVD_nDCG(k_list)\n",
    "for idx, k in enumerate(k_list):\n",
    "    result[rs1][k] = r_list[idx]"
   ]
  },
  {
   "cell_type": "code",
   "execution_count": 11,
   "id": "f7042106",
   "metadata": {},
   "outputs": [
    {
     "data": {
      "text/plain": [
       "<AxesSubplot:>"
      ]
     },
     "execution_count": 11,
     "metadata": {},
     "output_type": "execute_result"
    },
    {
     "data": {
      "image/png": "[encoded data removed]",
      "text/plain": [
       "<Figure size 432x288 with 1 Axes>"
      ]
     },
     "metadata": {
      "needs_background": "light"
     },
     "output_type": "display_data"
    }
   ],
   "source": [
    "result_df = pd.DataFrame.from_dict(result)\n",
    "result_df.plot()"
   ]
  },
  {
   "cell_type": "code",
   "execution_count": null,
   "id": "329eb240",
   "metadata": {},
   "outputs": [],
   "source": []
  }
 ],
 "metadata": {
  "kernelspec": {
   "display_name": "research1",
   "language": "python",
   "name": "research1"
  },
  "language_info": {
   "codemirror_mode": {
    "name": "ipython",
    "version": 3
   },
   "file_extension": ".py",
   "mimetype": "text/x-python",
   "name": "python",
   "nbconvert_exporter": "python",
   "pygments_lexer": "ipython3",
   "version": "3.8.12"
  }
 },
 "nbformat": 4,
 "nbformat_minor": 5
}
