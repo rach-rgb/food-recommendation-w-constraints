{
 "cells": [
  {
   "cell_type": "code",
   "execution_count": 1,
   "id": "b057c922",
   "metadata": {},
   "outputs": [],
   "source": [
    "# import modules\n",
    "import copy\n",
    "import time\n",
    "from sys import path\n",
    "from collections import defaultdict"
   ]
  },
  {
   "cell_type": "code",
   "execution_count": 2,
   "id": "f4616d1a",
   "metadata": {},
   "outputs": [],
   "source": [
    "import pandas as pd\n",
    "from surprise import SVD\n",
    "from surprise import Reader\n",
    "from surprise import Dataset\n",
    "from surprise import accuracy\n",
    "from surprise.model_selection import train_test_split"
   ]
  },
  {
   "cell_type": "code",
   "execution_count": 3,
   "id": "8c21d105",
   "metadata": {},
   "outputs": [],
   "source": [
    "path.append('../code/src')"
   ]
  },
  {
   "cell_type": "code",
   "execution_count": 4,
   "id": "dca1a643",
   "metadata": {},
   "outputs": [],
   "source": [
    "import svd_constraint\n",
    "from inter_rec import InterRec\n",
    "from evaluate import Evaluation as ev"
   ]
  },
  {
   "cell_type": "code",
   "execution_count": 5,
   "id": "d717b46f",
   "metadata": {},
   "outputs": [],
   "source": [
    "# constants\n",
    "# file path\n",
    "input_path = \"../data/\"\n",
    "output_path = '../result/'\n",
    "rate_file = 'reduced_rating_data.csv'\n",
    "attr_file = 'recipe_data.csv'\n",
    "\n",
    "# user/item max\n",
    "user_max = 1000\n",
    "food_max = 5000\n",
    "\n",
    "# const count\n",
    "const_count = 3"
   ]
  },
  {
   "cell_type": "code",
   "execution_count": 6,
   "id": "19ccedae",
   "metadata": {},
   "outputs": [],
   "source": [
    "# Dictionary keys\n",
    "rs1 = 'CnstSVD'\n",
    "rs2 = 'CnstSVD-all'\n",
    "rs3 = 'CnstSVD-weaker'\n",
    "rs4 = 'CnstSVD-weak'\n",
    "val_r1 = 'RMSE'\n",
    "val_r2 = 'nDCG'\n",
    "val_t1 = 'train time(s)'\n",
    "val_t2 = 'exec time(s)'"
   ]
  },
  {
   "cell_type": "code",
   "execution_count": 7,
   "id": "48f882a2",
   "metadata": {},
   "outputs": [],
   "source": [
    "val_dict = {\n",
    "    val_r1: 0,\n",
    "    val_r2: 0,\n",
    "    val_t1: 0,\n",
    "    val_t2: 0\n",
    "}\n",
    "\n",
    "keys = [rs1]\n",
    "keys = keys + [rs2]\n",
    "keys = keys + [rs3]\n",
    "keys = keys + [rs4]\n",
    "\n",
    "result = {key: copy.deepcopy(val_dict) for key in keys}"
   ]
  },
  {
   "cell_type": "code",
   "execution_count": 8,
   "id": "f54acaa4",
   "metadata": {},
   "outputs": [
    {
     "data": {
      "text/plain": [
       "{'CnstSVD': {'RMSE': 0.9205901113054168,\n",
       "  'nDCG': 0.0069285946967008,\n",
       "  'train time(s)': 101.932088692983,\n",
       "  'exec time(s)': 4.953307310740153},\n",
       " 'CnstSVD-all': {'RMSE': 0.9206537684416954,\n",
       "  'nDCG': 0.0060981969923417,\n",
       "  'train time(s)': 104.46123909950256,\n",
       "  'exec time(s)': 5.509816884994507},\n",
       " 'CnstSVD-weaker': {'RMSE': 0.9207082289951668,\n",
       "  'nDCG': 0.006522022532252,\n",
       "  'train time(s)': 102.43809390068054,\n",
       "  'exec time(s)': 4.956319252649943},\n",
       " 'CnstSVD-weak': {'RMSE': 0.9224348065424328,\n",
       "  'nDCG': 0.0045742313609021,\n",
       "  'train time(s)': 101.47139080365498,\n",
       "  'exec time(s)': 5.133922338485718}}"
      ]
     },
     "execution_count": 8,
     "metadata": {},
     "output_type": "execute_result"
    }
   ],
   "source": [
    "# read previous result\n",
    "result_df = pd.read_csv(output_path + 'SVD_evaluation.csv', index_col = 0).transpose()\n",
    "result.update(result_df.to_dict())\n",
    "result"
   ]
  },
  {
   "cell_type": "markdown",
   "id": "69760ea5",
   "metadata": {},
   "source": [
    "# Evaluate CnstSVD"
   ]
  },
  {
   "cell_type": "code",
   "execution_count": 9,
   "id": "6796b8c1",
   "metadata": {},
   "outputs": [],
   "source": [
    "def run_inter(idx, algo):    \n",
    "    # InterRec applies constraint after the rating of each item is predicted\n",
    "    rec = InterRec(input_path + rate_file, input_path + attr_file, \n",
    "                           input_path + 'const' + '.' + str(idx) + '.csv', \n",
    "                            algo, split = True)\n",
    "    \n",
    "    rec.get_data()  # get rating, attribute, recipe data\n",
    "    \n",
    "    # train with data\n",
    "    start = time.time()\n",
    "    rec.train()  \n",
    "    t1 = time.time() - start\n",
    "    \n",
    "    # predict rating for test-set\n",
    "    predict_test = rec.test_rmse()\n",
    "    r1 = ev.calculate_rmse(predict_test)\n",
    "    \n",
    "    # get top-n for anti-test-set\n",
    "    start = time.time()\n",
    "    rec.test()\n",
    "    top_n_df = rec.get_top_n()\n",
    "    t2 = time.time() - start\n",
    "\n",
    "    # calculate nDCG\n",
    "    r2 = ev.calculate_ndcg(rec.get_rel(), top_n_df, 10)\n",
    "        \n",
    "    return r1, r2, t1, t2"
   ]
  },
  {
   "cell_type": "code",
   "execution_count": 10,
   "id": "a2391bec",
   "metadata": {},
   "outputs": [
    {
     "name": "stdout",
     "output_type": "stream",
     "text": [
      "Const.1 done\n",
      "Const.2 done\n",
      "Const.3 done\n"
     ]
    }
   ],
   "source": [
    "r1_sum = 0\n",
    "r2_sum = 0\n",
    "t1_sum = 0\n",
    "t2_sum = 0\n",
    "for j in range (1, const_count + 1):\n",
    "    r1, r2, t1, t2 = run_inter(j, svd_constraint.CnstSVD())\n",
    "    r1_sum = r1_sum + r1\n",
    "    r2_sum = r2_sum + r2\n",
    "    t1_sum = t1_sum + t1\n",
    "    t2_sum = t2_sum + t2\n",
    "    print('Const'+'.'+str(j)+\" done\")\n",
    "\n",
    "result[rs1][val_r1] = r1_sum/const_count\n",
    "result[rs1][val_r2] = r2_sum/const_count\n",
    "result[rs1][val_t1] = t1_sum/const_count\n",
    "result[rs1][val_t2] = t2_sum/const_count"
   ]
  },
  {
   "cell_type": "markdown",
   "id": "41c63e05",
   "metadata": {},
   "source": [
    "# Evaluate CnstSVD_all"
   ]
  },
  {
   "cell_type": "code",
   "execution_count": 11,
   "id": "12dfc222",
   "metadata": {},
   "outputs": [
    {
     "name": "stdout",
     "output_type": "stream",
     "text": [
      "Const.1 done\n",
      "Const.2 done\n",
      "Const.3 done\n"
     ]
    }
   ],
   "source": [
    "r1_sum = 0\n",
    "r2_sum = 0\n",
    "t1_sum = 0\n",
    "t2_sum = 0\n",
    "for j in range (1, const_count + 1):\n",
    "    r1, r2, t1, t2 = run_inter(j, svd_constraint.CnstSVD_all())\n",
    "    r1_sum = r1_sum + r1\n",
    "    r2_sum = r2_sum + r2\n",
    "    t1_sum = t1_sum + t1\n",
    "    t2_sum = t2_sum + t2\n",
    "    print('Const'+'.'+str(j)+\" done\")\n",
    "\n",
    "result[rs2][val_r1] = r1_sum/const_count\n",
    "result[rs2][val_r2] = r2_sum/const_count\n",
    "result[rs2][val_t1] = t1_sum/const_count\n",
    "result[rs2][val_t2] = t2_sum/const_count"
   ]
  },
  {
   "cell_type": "markdown",
   "id": "751d85db",
   "metadata": {},
   "source": [
    "# Evaluate CnstSVD_weaker"
   ]
  },
  {
   "cell_type": "code",
   "execution_count": 12,
   "id": "23ccc7d8",
   "metadata": {},
   "outputs": [
    {
     "name": "stdout",
     "output_type": "stream",
     "text": [
      "Const.1 done\n",
      "Const.2 done\n",
      "Const.3 done\n"
     ]
    }
   ],
   "source": [
    "r1_sum = 0\n",
    "r2_sum = 0\n",
    "t1_sum = 0\n",
    "t2_sum = 0\n",
    "for j in range (1, const_count + 1):\n",
    "    r1, r2, t1, t2 = run_inter(j, svd_constraint.CnstSVD_weaker())\n",
    "    r1_sum = r1_sum + r1\n",
    "    r2_sum = r2_sum + r2\n",
    "    t1_sum = t1_sum + t1\n",
    "    t2_sum = t2_sum + t2\n",
    "    print('Const'+'.'+str(j)+\" done\")\n",
    "\n",
    "result[rs3][val_r1] = r1_sum/const_count\n",
    "result[rs3][val_r2] = r2_sum/const_count\n",
    "result[rs3][val_t1] = t1_sum/const_count\n",
    "result[rs3][val_t2] = t2_sum/const_count"
   ]
  },
  {
   "cell_type": "markdown",
   "id": "03b071ec",
   "metadata": {},
   "source": [
    "# Evaluate CnstSVD_weak"
   ]
  },
  {
   "cell_type": "code",
   "execution_count": 14,
   "id": "bcdd340b",
   "metadata": {},
   "outputs": [
    {
     "name": "stdout",
     "output_type": "stream",
     "text": [
      "Const.1 done\n",
      "Const.2 done\n",
      "Const.3 done\n"
     ]
    }
   ],
   "source": [
    "r1_sum = 0\n",
    "r2_sum = 0\n",
    "t1_sum = 0\n",
    "t2_sum = 0\n",
    "for j in range (1, const_count + 1):\n",
    "    r1, r2, t1, t2 = run_inter(j, svd_constraint.CnstSVD_weak())\n",
    "    r1_sum = r1_sum + r1\n",
    "    r2_sum = r2_sum + r2\n",
    "    t1_sum = t1_sum + t1\n",
    "    t2_sum = t2_sum + t2\n",
    "    print('Const'+'.'+str(j)+\" done\")\n",
    "\n",
    "result[rs4][val_r1] = r1_sum/const_count\n",
    "result[rs4][val_r2] = r2_sum/const_count\n",
    "result[rs4][val_t1] = t1_sum/const_count\n",
    "result[rs4][val_t2] = t2_sum/const_count"
   ]
  },
  {
   "cell_type": "markdown",
   "id": "38273ef9",
   "metadata": {},
   "source": [
    "# Result"
   ]
  },
  {
   "cell_type": "code",
   "execution_count": 15,
   "id": "3f19e2cd",
   "metadata": {},
   "outputs": [
    {
     "data": {
      "text/html": [
       "<div>\n",
       "<style scoped>\n",
       "    .dataframe tbody tr th:only-of-type {\n",
       "        vertical-align: middle;\n",
       "    }\n",
       "\n",
       "    .dataframe tbody tr th {\n",
       "        vertical-align: top;\n",
       "    }\n",
       "\n",
       "    .dataframe thead th {\n",
       "        text-align: right;\n",
       "    }\n",
       "</style>\n",
       "<table border=\"1\" class=\"dataframe\">\n",
       "  <thead>\n",
       "    <tr style=\"text-align: right;\">\n",
       "      <th></th>\n",
       "      <th>RMSE</th>\n",
       "      <th>nDCG</th>\n",
       "      <th>train time(s)</th>\n",
       "      <th>exec time(s)</th>\n",
       "    </tr>\n",
       "  </thead>\n",
       "  <tbody>\n",
       "    <tr>\n",
       "      <th>CnstSVD</th>\n",
       "      <td>2.755802</td>\n",
       "      <td>0.029961</td>\n",
       "      <td>312.547766</td>\n",
       "      <td>14.778024</td>\n",
       "    </tr>\n",
       "    <tr>\n",
       "      <th>CnstSVD-all</th>\n",
       "      <td>2.755727</td>\n",
       "      <td>0.025348</td>\n",
       "      <td>309.044494</td>\n",
       "      <td>14.776944</td>\n",
       "    </tr>\n",
       "    <tr>\n",
       "      <th>CnstSVD-weaker</th>\n",
       "      <td>2.755852</td>\n",
       "      <td>0.025907</td>\n",
       "      <td>298.256033</td>\n",
       "      <td>14.102205</td>\n",
       "    </tr>\n",
       "    <tr>\n",
       "      <th>CnstSVD-weak</th>\n",
       "      <td>2.761731</td>\n",
       "      <td>0.008917</td>\n",
       "      <td>289.604155</td>\n",
       "      <td>13.581923</td>\n",
       "    </tr>\n",
       "  </tbody>\n",
       "</table>\n",
       "</div>"
      ],
      "text/plain": [
       "                    RMSE      nDCG  train time(s)  exec time(s)\n",
       "CnstSVD         2.755802  0.029961     312.547766     14.778024\n",
       "CnstSVD-all     2.755727  0.025348     309.044494     14.776944\n",
       "CnstSVD-weaker  2.755852  0.025907     298.256033     14.102205\n",
       "CnstSVD-weak    2.761731  0.008917     289.604155     13.581923"
      ]
     },
     "execution_count": 15,
     "metadata": {},
     "output_type": "execute_result"
    }
   ],
   "source": [
    "result_df = pd.DataFrame.from_dict(result, orient='index', columns=['RMSE', 'nDCG', 'train time(s)', 'exec time(s)'])\n",
    "result_df.to_csv(output_path + 'SVD_evaluation.csv')\n",
    "result_df"
   ]
  },
  {
   "cell_type": "code",
   "execution_count": null,
   "id": "50c8dfce",
   "metadata": {},
   "outputs": [],
   "source": []
  }
 ],
 "metadata": {
  "kernelspec": {
   "display_name": "research1",
   "language": "python",
   "name": "research1"
  },
  "language_info": {
   "codemirror_mode": {
    "name": "ipython",
    "version": 3
   },
   "file_extension": ".py",
   "mimetype": "text/x-python",
   "name": "python",
   "nbconvert_exporter": "python",
   "pygments_lexer": "ipython3",
   "version": "3.8.12"
  }
 },
 "nbformat": 4,
 "nbformat_minor": 5
}
