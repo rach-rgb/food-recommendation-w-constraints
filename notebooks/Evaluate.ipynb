{
 "cells": [
  {
   "cell_type": "code",
   "execution_count": 25,
   "id": "0cb9dc6d",
   "metadata": {},
   "outputs": [],
   "source": [
    "import pandas as pd\n",
    "import math"
   ]
  },
  {
   "cell_type": "code",
   "execution_count": 4,
   "id": "86db2faf",
   "metadata": {},
   "outputs": [],
   "source": [
    "path = '../result/'"
   ]
  },
  {
   "cell_type": "code",
   "execution_count": 89,
   "id": "f8bdf9e9",
   "metadata": {},
   "outputs": [],
   "source": [
    "answ = pd.read_csv(path + 'BF_const2.csv')"
   ]
  },
  {
   "cell_type": "code",
   "execution_count": 90,
   "id": "8df97609",
   "metadata": {},
   "outputs": [],
   "source": [
    "result_files = ['SVD_TF_const21.csv', 'SVD_TF_const22.csv', 'SVD_TF_const23.csv']\n",
    "results = []\n",
    "for name in result_files:\n",
    "    results.append(pd.read_csv(path + name))"
   ]
  },
  {
   "cell_type": "code",
   "execution_count": 91,
   "id": "655bd05f",
   "metadata": {},
   "outputs": [
    {
     "data": {
      "text/html": [
       "<div>\n",
       "<style scoped>\n",
       "    .dataframe tbody tr th:only-of-type {\n",
       "        vertical-align: middle;\n",
       "    }\n",
       "\n",
       "    .dataframe tbody tr th {\n",
       "        vertical-align: top;\n",
       "    }\n",
       "\n",
       "    .dataframe thead th {\n",
       "        text-align: right;\n",
       "    }\n",
       "</style>\n",
       "<table border=\"1\" class=\"dataframe\">\n",
       "  <thead>\n",
       "    <tr style=\"text-align: right;\">\n",
       "      <th></th>\n",
       "      <th>user</th>\n",
       "      <th>exclude</th>\n",
       "      <th>item list</th>\n",
       "      <th>len</th>\n",
       "      <th>without constraint</th>\n",
       "    </tr>\n",
       "  </thead>\n",
       "  <tbody>\n",
       "    <tr>\n",
       "      <th>0</th>\n",
       "      <td>0</td>\n",
       "      <td>840.0</td>\n",
       "      <td>[4005, 4270, 2549, 2280, 2274, 105, 276, 935, ...</td>\n",
       "      <td>10</td>\n",
       "      <td>['4005', '1894', '4270', '2549', '2280', '2274...</td>\n",
       "    </tr>\n",
       "    <tr>\n",
       "      <th>1</th>\n",
       "      <td>0</td>\n",
       "      <td>2499.0</td>\n",
       "      <td>[4005, 1894, 4270, 2549, 2280, 2274, 105, 935,...</td>\n",
       "      <td>10</td>\n",
       "      <td>['4005', '1894', '4270', '2549', '2280', '2274...</td>\n",
       "    </tr>\n",
       "    <tr>\n",
       "      <th>2</th>\n",
       "      <td>0</td>\n",
       "      <td>5010.0</td>\n",
       "      <td>[4270, 2549, 2280, 2274, 105, 276, 725, 10, 21...</td>\n",
       "      <td>10</td>\n",
       "      <td>['4005', '1894', '4270', '2549', '2280', '2274...</td>\n",
       "    </tr>\n",
       "    <tr>\n",
       "      <th>3</th>\n",
       "      <td>1</td>\n",
       "      <td>2499.0</td>\n",
       "      <td>[4783, 740, 2658, 3224, 2639, 4642, 3409, 2773...</td>\n",
       "      <td>10</td>\n",
       "      <td>['4783', '740', '2658', '3224', '2639', '98', ...</td>\n",
       "    </tr>\n",
       "    <tr>\n",
       "      <th>4</th>\n",
       "      <td>1</td>\n",
       "      <td>5010.0</td>\n",
       "      <td>[4783, 740, 2658, 3224, 98, 4642, 3409, 2773, ...</td>\n",
       "      <td>10</td>\n",
       "      <td>['4783', '740', '2658', '3224', '2639', '98', ...</td>\n",
       "    </tr>\n",
       "  </tbody>\n",
       "</table>\n",
       "</div>"
      ],
      "text/plain": [
       "   user  exclude                                          item list  len  \\\n",
       "0     0    840.0  [4005, 4270, 2549, 2280, 2274, 105, 276, 935, ...   10   \n",
       "1     0   2499.0  [4005, 1894, 4270, 2549, 2280, 2274, 105, 935,...   10   \n",
       "2     0   5010.0  [4270, 2549, 2280, 2274, 105, 276, 725, 10, 21...   10   \n",
       "3     1   2499.0  [4783, 740, 2658, 3224, 2639, 4642, 3409, 2773...   10   \n",
       "4     1   5010.0  [4783, 740, 2658, 3224, 98, 4642, 3409, 2773, ...   10   \n",
       "\n",
       "                                  without constraint  \n",
       "0  ['4005', '1894', '4270', '2549', '2280', '2274...  \n",
       "1  ['4005', '1894', '4270', '2549', '2280', '2274...  \n",
       "2  ['4005', '1894', '4270', '2549', '2280', '2274...  \n",
       "3  ['4783', '740', '2658', '3224', '2639', '98', ...  \n",
       "4  ['4783', '740', '2658', '3224', '2639', '98', ...  "
      ]
     },
     "execution_count": 91,
     "metadata": {},
     "output_type": "execute_result"
    }
   ],
   "source": [
    "answ.head()"
   ]
  },
  {
   "cell_type": "code",
   "execution_count": 92,
   "id": "1ce0f57a",
   "metadata": {
    "scrolled": true
   },
   "outputs": [
    {
     "name": "stderr",
     "output_type": "stream",
     "text": [
      "C:\\Users\\seha\\AppData\\Local\\Temp/ipykernel_50276/1521515063.py:1: FutureWarning: In a future version of pandas all arguments of concat except for the argument 'objs' will be keyword-only\n",
      "  result = pd.concat([results[0], results[1], results[2]], 0)\n"
     ]
    },
    {
     "data": {
      "text/html": [
       "<div>\n",
       "<style scoped>\n",
       "    .dataframe tbody tr th:only-of-type {\n",
       "        vertical-align: middle;\n",
       "    }\n",
       "\n",
       "    .dataframe tbody tr th {\n",
       "        vertical-align: top;\n",
       "    }\n",
       "\n",
       "    .dataframe thead th {\n",
       "        text-align: right;\n",
       "    }\n",
       "</style>\n",
       "<table border=\"1\" class=\"dataframe\">\n",
       "  <thead>\n",
       "    <tr style=\"text-align: right;\">\n",
       "      <th></th>\n",
       "      <th>user</th>\n",
       "      <th>exclude</th>\n",
       "      <th>item list</th>\n",
       "    </tr>\n",
       "  </thead>\n",
       "  <tbody>\n",
       "    <tr>\n",
       "      <th>0</th>\n",
       "      <td>0</td>\n",
       "      <td>840.0</td>\n",
       "      <td>[1911, 3098, 2274, 940, 3192, 976, 193, 4791, ...</td>\n",
       "    </tr>\n",
       "    <tr>\n",
       "      <th>0</th>\n",
       "      <td>0</td>\n",
       "      <td>2499.0</td>\n",
       "      <td>[4323, 2996, 989, 3078, 3335, 4106, 4918, 2300...</td>\n",
       "    </tr>\n",
       "    <tr>\n",
       "      <th>0</th>\n",
       "      <td>0</td>\n",
       "      <td>5010.0</td>\n",
       "      <td>[532, 2342, 112, 125, 2170, 4738, 856, 80, 307...</td>\n",
       "    </tr>\n",
       "    <tr>\n",
       "      <th>1</th>\n",
       "      <td>1</td>\n",
       "      <td>2499.0</td>\n",
       "      <td>[437, 125, 2342, 2639, 361, 4396, 50, 112, 108...</td>\n",
       "    </tr>\n",
       "    <tr>\n",
       "      <th>1</th>\n",
       "      <td>1</td>\n",
       "      <td>5010.0</td>\n",
       "      <td>[4814, 3048, 4738, 4270, 4642, 1561, 361, 2970...</td>\n",
       "    </tr>\n",
       "  </tbody>\n",
       "</table>\n",
       "</div>"
      ],
      "text/plain": [
       "   user  exclude                                          item list\n",
       "0     0    840.0  [1911, 3098, 2274, 940, 3192, 976, 193, 4791, ...\n",
       "0     0   2499.0  [4323, 2996, 989, 3078, 3335, 4106, 4918, 2300...\n",
       "0     0   5010.0  [532, 2342, 112, 125, 2170, 4738, 856, 80, 307...\n",
       "1     1   2499.0  [437, 125, 2342, 2639, 361, 4396, 50, 112, 108...\n",
       "1     1   5010.0  [4814, 3048, 4738, 4270, 4642, 1561, 361, 2970..."
      ]
     },
     "execution_count": 92,
     "metadata": {},
     "output_type": "execute_result"
    }
   ],
   "source": [
    "result = pd.concat([results[0], results[1], results[2]], 0)\n",
    "result.sort_values('user', inplace = True)\n",
    "result.head()"
   ]
  },
  {
   "cell_type": "markdown",
   "id": "a05027f3",
   "metadata": {},
   "source": [
    "### NDCG calculate function"
   ]
  },
  {
   "cell_type": "code",
   "execution_count": 83,
   "id": "d113d991",
   "metadata": {},
   "outputs": [],
   "source": [
    "# calculate NDCG\n",
    "def nDCG(answ, result):\n",
    "    # initialize\n",
    "    DCG = 0\n",
    "    IDCG = 0\n",
    "    \n",
    "    rel_1 = 0\n",
    "    rel_2 = 0\n",
    "    rel_3 = 0\n",
    "    \n",
    "    for item in result:\n",
    "        if item in answ:\n",
    "            answ_idx = answ.index(item)\n",
    "            res_idx = result.index(item)\n",
    "            if answ_idx == 0:\n",
    "                rel = 3\n",
    "                rel_3 = rel_3 + 1\n",
    "            elif answ_idx < 3:\n",
    "                rel = 2\n",
    "                rel_2 = rel_2 + 1\n",
    "            else:\n",
    "                rel = 1\n",
    "                rel_1 = rel_1 + 1\n",
    "                \n",
    "            DCG = DCG + (rel / math.log(res_idx + 2, 2))\n",
    "            \n",
    "        else: # not relevant\n",
    "            rel = 0\n",
    "    \n",
    "    # calculate IDCG\n",
    "    '''\n",
    "    for i in range (0, rel_3):\n",
    "        IDCG = IDCG + (3 / math.log(i + 2, 2))\n",
    "        # print(3 / math.log(i + 2, 2))\n",
    "    for i in range (rel_3, rel_3 + rel_2):\n",
    "        IDCG = IDCG + (2 / math.log(i + 2, 2))\n",
    "        # print(2 / math.log(i + 2, 2))\n",
    "    for i in range (rel_2 + rel_3, rel_3 + rel_2 + rel_1):\n",
    "        IDCG = IDCG + (1 / math.log(i + 2, 2))\n",
    "        # print(1 / math.log(i + 2, 2)) '''\n",
    "    \n",
    "    IDCG = 3/math.log(2, 2) + 2/math.log(3, 2) + 2/math.log(4, 2) + 1/math.log(5, 2) + 1/math.log(6, 2)\n",
    "    if len(result)==10: \n",
    "        IDCG = IDCG + 1/math.log(7, 2) + 1/math.log(8, 2) + 1/math.log(9, 2) + 1/math.log(10, 2) + 1/math.log(11, 2)\n",
    "    \n",
    "    # print(\"DCG: \", DCG, \", IDCG: \", IDCG)\n",
    "    if IDCG == 0:\n",
    "        return 0\n",
    "    else:\n",
    "        return DCG / IDCG"
   ]
  },
  {
   "cell_type": "markdown",
   "id": "68f02d7d",
   "metadata": {},
   "source": [
    "### Test"
   ]
  },
  {
   "cell_type": "code",
   "execution_count": 87,
   "id": "933cc940",
   "metadata": {
    "scrolled": true
   },
   "outputs": [
    {
     "name": "stdout",
     "output_type": "stream",
     "text": [
      "1.0\n",
      "0.7653468776288559\n"
     ]
    }
   ],
   "source": [
    "print(nDCG([1, 2, 3, 4, 5], [1, 2, 3, 4, 5]))\n",
    "print(nDCG([1, 2, 3, 4, 5], [5, 4, 3, 2, 1]))"
   ]
  },
  {
   "cell_type": "code",
   "execution_count": 86,
   "id": "dcf2c9a3",
   "metadata": {
    "scrolled": true
   },
   "outputs": [
    {
     "name": "stdout",
     "output_type": "stream",
     "text": [
      "0.7832793076819933\n"
     ]
    }
   ],
   "source": [
    "print(nDCG([1, 2, 3, 4, 5], [3, 2, 1]))"
   ]
  },
  {
   "cell_type": "code",
   "execution_count": 88,
   "id": "eab881c6",
   "metadata": {},
   "outputs": [
    {
     "name": "stdout",
     "output_type": "stream",
     "text": [
      "0.0\n",
      "0.7832793076819933\n"
     ]
    }
   ],
   "source": [
    "print(nDCG([1, 2, 3, 4, 5], []))\n",
    "print(nDCG([1, 2, 3, 4, 5], [3, 2, 1]))"
   ]
  },
  {
   "cell_type": "code",
   "execution_count": 84,
   "id": "020ff28c",
   "metadata": {},
   "outputs": [
    {
     "name": "stdout",
     "output_type": "stream",
     "text": [
      "0.8655244166049942\n",
      "0.5156864935590145\n"
     ]
    }
   ],
   "source": [
    "print(nDCG([1, 2, 3, 4, 5], [1, 2, 3, 6, 6]))\n",
    "print(nDCG([1, 2, 3, 4, 5], [6, 6, 1, 2, 3]))"
   ]
  },
  {
   "cell_type": "markdown",
   "id": "c0b2f714",
   "metadata": {},
   "source": [
    "###  Constraint 2 Test"
   ]
  },
  {
   "cell_type": "code",
   "execution_count": 96,
   "id": "c8e126af",
   "metadata": {},
   "outputs": [
    {
     "data": {
      "text/html": [
       "<div>\n",
       "<style scoped>\n",
       "    .dataframe tbody tr th:only-of-type {\n",
       "        vertical-align: middle;\n",
       "    }\n",
       "\n",
       "    .dataframe tbody tr th {\n",
       "        vertical-align: top;\n",
       "    }\n",
       "\n",
       "    .dataframe thead th {\n",
       "        text-align: right;\n",
       "    }\n",
       "</style>\n",
       "<table border=\"1\" class=\"dataframe\">\n",
       "  <thead>\n",
       "    <tr style=\"text-align: right;\">\n",
       "      <th></th>\n",
       "      <th>user</th>\n",
       "      <th>exclude</th>\n",
       "      <th>item list</th>\n",
       "      <th>len</th>\n",
       "      <th>without constraint</th>\n",
       "    </tr>\n",
       "  </thead>\n",
       "  <tbody>\n",
       "    <tr>\n",
       "      <th>0</th>\n",
       "      <td>0</td>\n",
       "      <td>840.0</td>\n",
       "      <td>[4005, 4270, 2549, 2280, 2274, 105, 276, 935, ...</td>\n",
       "      <td>10</td>\n",
       "      <td>['4005', '1894', '4270', '2549', '2280', '2274...</td>\n",
       "    </tr>\n",
       "    <tr>\n",
       "      <th>1</th>\n",
       "      <td>0</td>\n",
       "      <td>2499.0</td>\n",
       "      <td>[4005, 1894, 4270, 2549, 2280, 2274, 105, 935,...</td>\n",
       "      <td>10</td>\n",
       "      <td>['4005', '1894', '4270', '2549', '2280', '2274...</td>\n",
       "    </tr>\n",
       "    <tr>\n",
       "      <th>2</th>\n",
       "      <td>0</td>\n",
       "      <td>5010.0</td>\n",
       "      <td>[4270, 2549, 2280, 2274, 105, 276, 725, 10, 21...</td>\n",
       "      <td>10</td>\n",
       "      <td>['4005', '1894', '4270', '2549', '2280', '2274...</td>\n",
       "    </tr>\n",
       "    <tr>\n",
       "      <th>3</th>\n",
       "      <td>1</td>\n",
       "      <td>2499.0</td>\n",
       "      <td>[4783, 740, 2658, 3224, 2639, 4642, 3409, 2773...</td>\n",
       "      <td>10</td>\n",
       "      <td>['4783', '740', '2658', '3224', '2639', '98', ...</td>\n",
       "    </tr>\n",
       "    <tr>\n",
       "      <th>4</th>\n",
       "      <td>1</td>\n",
       "      <td>5010.0</td>\n",
       "      <td>[4783, 740, 2658, 3224, 98, 4642, 3409, 2773, ...</td>\n",
       "      <td>10</td>\n",
       "      <td>['4783', '740', '2658', '3224', '2639', '98', ...</td>\n",
       "    </tr>\n",
       "  </tbody>\n",
       "</table>\n",
       "</div>"
      ],
      "text/plain": [
       "   user  exclude                                          item list  len  \\\n",
       "0     0    840.0  [4005, 4270, 2549, 2280, 2274, 105, 276, 935, ...   10   \n",
       "1     0   2499.0  [4005, 1894, 4270, 2549, 2280, 2274, 105, 935,...   10   \n",
       "2     0   5010.0  [4270, 2549, 2280, 2274, 105, 276, 725, 10, 21...   10   \n",
       "3     1   2499.0  [4783, 740, 2658, 3224, 2639, 4642, 3409, 2773...   10   \n",
       "4     1   5010.0  [4783, 740, 2658, 3224, 98, 4642, 3409, 2773, ...   10   \n",
       "\n",
       "                                  without constraint  \n",
       "0  ['4005', '1894', '4270', '2549', '2280', '2274...  \n",
       "1  ['4005', '1894', '4270', '2549', '2280', '2274...  \n",
       "2  ['4005', '1894', '4270', '2549', '2280', '2274...  \n",
       "3  ['4783', '740', '2658', '3224', '2639', '98', ...  \n",
       "4  ['4783', '740', '2658', '3224', '2639', '98', ...  "
      ]
     },
     "execution_count": 96,
     "metadata": {},
     "output_type": "execute_result"
    }
   ],
   "source": [
    "answ.head()"
   ]
  },
  {
   "cell_type": "code",
   "execution_count": 97,
   "id": "cc9d37ed",
   "metadata": {
    "scrolled": true
   },
   "outputs": [
    {
     "data": {
      "text/html": [
       "<div>\n",
       "<style scoped>\n",
       "    .dataframe tbody tr th:only-of-type {\n",
       "        vertical-align: middle;\n",
       "    }\n",
       "\n",
       "    .dataframe tbody tr th {\n",
       "        vertical-align: top;\n",
       "    }\n",
       "\n",
       "    .dataframe thead th {\n",
       "        text-align: right;\n",
       "    }\n",
       "</style>\n",
       "<table border=\"1\" class=\"dataframe\">\n",
       "  <thead>\n",
       "    <tr style=\"text-align: right;\">\n",
       "      <th></th>\n",
       "      <th>user</th>\n",
       "      <th>exclude</th>\n",
       "      <th>item list</th>\n",
       "    </tr>\n",
       "  </thead>\n",
       "  <tbody>\n",
       "    <tr>\n",
       "      <th>0</th>\n",
       "      <td>0</td>\n",
       "      <td>840.0</td>\n",
       "      <td>[1911, 3098, 2274, 940, 3192, 976, 193, 4791, ...</td>\n",
       "    </tr>\n",
       "    <tr>\n",
       "      <th>0</th>\n",
       "      <td>0</td>\n",
       "      <td>2499.0</td>\n",
       "      <td>[4323, 2996, 989, 3078, 3335, 4106, 4918, 2300...</td>\n",
       "    </tr>\n",
       "    <tr>\n",
       "      <th>0</th>\n",
       "      <td>0</td>\n",
       "      <td>5010.0</td>\n",
       "      <td>[532, 2342, 112, 125, 2170, 4738, 856, 80, 307...</td>\n",
       "    </tr>\n",
       "    <tr>\n",
       "      <th>1</th>\n",
       "      <td>1</td>\n",
       "      <td>2499.0</td>\n",
       "      <td>[437, 125, 2342, 2639, 361, 4396, 50, 112, 108...</td>\n",
       "    </tr>\n",
       "    <tr>\n",
       "      <th>1</th>\n",
       "      <td>1</td>\n",
       "      <td>5010.0</td>\n",
       "      <td>[4814, 3048, 4738, 4270, 4642, 1561, 361, 2970...</td>\n",
       "    </tr>\n",
       "  </tbody>\n",
       "</table>\n",
       "</div>"
      ],
      "text/plain": [
       "   user  exclude                                          item list\n",
       "0     0    840.0  [1911, 3098, 2274, 940, 3192, 976, 193, 4791, ...\n",
       "0     0   2499.0  [4323, 2996, 989, 3078, 3335, 4106, 4918, 2300...\n",
       "0     0   5010.0  [532, 2342, 112, 125, 2170, 4738, 856, 80, 307...\n",
       "1     1   2499.0  [437, 125, 2342, 2639, 361, 4396, 50, 112, 108...\n",
       "1     1   5010.0  [4814, 3048, 4738, 4270, 4642, 1561, 361, 2970..."
      ]
     },
     "execution_count": 97,
     "metadata": {},
     "output_type": "execute_result"
    }
   ],
   "source": [
    "result.head()"
   ]
  },
  {
   "cell_type": "code",
   "execution_count": null,
   "id": "80686020",
   "metadata": {},
   "outputs": [],
   "source": [
    "for i in range (0, len(answ)):\n",
    "    u = answ.loc[i].user\n",
    "    const = answ.loc[i].user\n",
    "    answ_list = answ.loc[i].item"
   ]
  }
 ],
 "metadata": {
  "kernelspec": {
   "display_name": "Python 3 (ipykernel)",
   "language": "python",
   "name": "python3"
  },
  "language_info": {
   "codemirror_mode": {
    "name": "ipython",
    "version": 3
   },
   "file_extension": ".py",
   "mimetype": "text/x-python",
   "name": "python",
   "nbconvert_exporter": "python",
   "pygments_lexer": "ipython3",
   "version": "3.8.5"
  }
 },
 "nbformat": 4,
 "nbformat_minor": 5
}
