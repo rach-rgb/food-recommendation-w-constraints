{
 "cells": [
  {
   "cell_type": "code",
   "execution_count": 2,
   "id": "4e0dd02e",
   "metadata": {},
   "outputs": [],
   "source": [
    "import pandas as pd\n",
    "import numpy as np\n",
    "from scipy.sparse.linalg import svds"
   ]
  },
  {
   "cell_type": "code",
   "execution_count": 4,
   "id": "aef1b7e4",
   "metadata": {},
   "outputs": [],
   "source": [
    "input_path = \"../../dataset/\"\n",
    "output_path = \"../data/\""
   ]
  },
  {
   "cell_type": "markdown",
   "id": "0a017f82",
   "metadata": {},
   "source": [
    "### recipe_data.csv"
   ]
  },
  {
   "cell_type": "code",
   "execution_count": 7,
   "id": "b05749a5",
   "metadata": {},
   "outputs": [],
   "source": [
    "raw_recipes = pd.read_csv(input_path + 'RAW_recipes.csv')\n",
    "pp_recipes = pd.read_csv(input_path + 'PP_recipes.csv')"
   ]
  },
  {
   "cell_type": "code",
   "execution_count": null,
   "id": "9f44a1ce",
   "metadata": {
    "scrolled": true
   },
   "outputs": [],
   "source": [
    "raw_recipes.head()"
   ]
  },
  {
   "cell_type": "code",
   "execution_count": null,
   "id": "402b3a9c",
   "metadata": {
    "scrolled": true
   },
   "outputs": [],
   "source": [
    "pp_recipes.head()"
   ]
  },
  {
   "cell_type": "code",
   "execution_count": 6,
   "id": "e48f2b45",
   "metadata": {},
   "outputs": [
    {
     "data": {
      "text/html": [
       "<div>\n",
       "<style scoped>\n",
       "    .dataframe tbody tr th:only-of-type {\n",
       "        vertical-align: middle;\n",
       "    }\n",
       "\n",
       "    .dataframe tbody tr th {\n",
       "        vertical-align: top;\n",
       "    }\n",
       "\n",
       "    .dataframe thead th {\n",
       "        text-align: right;\n",
       "    }\n",
       "</style>\n",
       "<table border=\"1\" class=\"dataframe\">\n",
       "  <thead>\n",
       "    <tr style=\"text-align: right;\">\n",
       "      <th></th>\n",
       "      <th>name</th>\n",
       "      <th>id</th>\n",
       "      <th>nutrition</th>\n",
       "    </tr>\n",
       "  </thead>\n",
       "  <tbody>\n",
       "    <tr>\n",
       "      <th>0</th>\n",
       "      <td>arriba   baked winter squash mexican style</td>\n",
       "      <td>137739</td>\n",
       "      <td>[51.5, 0.0, 13.0, 0.0, 2.0, 0.0, 4.0]</td>\n",
       "    </tr>\n",
       "    <tr>\n",
       "      <th>1</th>\n",
       "      <td>a bit different  breakfast pizza</td>\n",
       "      <td>31490</td>\n",
       "      <td>[173.4, 18.0, 0.0, 17.0, 22.0, 35.0, 1.0]</td>\n",
       "    </tr>\n",
       "    <tr>\n",
       "      <th>2</th>\n",
       "      <td>all in the kitchen  chili</td>\n",
       "      <td>112140</td>\n",
       "      <td>[269.8, 22.0, 32.0, 48.0, 39.0, 27.0, 5.0]</td>\n",
       "    </tr>\n",
       "    <tr>\n",
       "      <th>3</th>\n",
       "      <td>alouette  potatoes</td>\n",
       "      <td>59389</td>\n",
       "      <td>[368.1, 17.0, 10.0, 2.0, 14.0, 8.0, 20.0]</td>\n",
       "    </tr>\n",
       "    <tr>\n",
       "      <th>4</th>\n",
       "      <td>amish  tomato ketchup  for canning</td>\n",
       "      <td>44061</td>\n",
       "      <td>[352.9, 1.0, 337.0, 23.0, 3.0, 0.0, 28.0]</td>\n",
       "    </tr>\n",
       "  </tbody>\n",
       "</table>\n",
       "</div>"
      ],
      "text/plain": [
       "                                         name      id  \\\n",
       "0  arriba   baked winter squash mexican style  137739   \n",
       "1            a bit different  breakfast pizza   31490   \n",
       "2                   all in the kitchen  chili  112140   \n",
       "3                          alouette  potatoes   59389   \n",
       "4          amish  tomato ketchup  for canning   44061   \n",
       "\n",
       "                                    nutrition  \n",
       "0       [51.5, 0.0, 13.0, 0.0, 2.0, 0.0, 4.0]  \n",
       "1   [173.4, 18.0, 0.0, 17.0, 22.0, 35.0, 1.0]  \n",
       "2  [269.8, 22.0, 32.0, 48.0, 39.0, 27.0, 5.0]  \n",
       "3   [368.1, 17.0, 10.0, 2.0, 14.0, 8.0, 20.0]  \n",
       "4   [352.9, 1.0, 337.0, 23.0, 3.0, 0.0, 28.0]  "
      ]
     },
     "execution_count": 6,
     "metadata": {},
     "output_type": "execute_result"
    }
   ],
   "source": [
    "raw_recipes_data = raw_recipes.loc[:, ['name', 'id', 'nutrition']]\n",
    "raw_recipes_data.head()"
   ]
  },
  {
   "cell_type": "code",
   "execution_count": 7,
   "id": "eaee510f",
   "metadata": {},
   "outputs": [
    {
     "data": {
      "text/html": [
       "<div>\n",
       "<style scoped>\n",
       "    .dataframe tbody tr th:only-of-type {\n",
       "        vertical-align: middle;\n",
       "    }\n",
       "\n",
       "    .dataframe tbody tr th {\n",
       "        vertical-align: top;\n",
       "    }\n",
       "\n",
       "    .dataframe thead th {\n",
       "        text-align: right;\n",
       "    }\n",
       "</style>\n",
       "<table border=\"1\" class=\"dataframe\">\n",
       "  <thead>\n",
       "    <tr style=\"text-align: right;\">\n",
       "      <th></th>\n",
       "      <th>id</th>\n",
       "      <th>ingredient_ids</th>\n",
       "      <th>i</th>\n",
       "    </tr>\n",
       "  </thead>\n",
       "  <tbody>\n",
       "    <tr>\n",
       "      <th>0</th>\n",
       "      <td>424415</td>\n",
       "      <td>[389, 7655, 6270, 1527, 3406]</td>\n",
       "      <td>23</td>\n",
       "    </tr>\n",
       "    <tr>\n",
       "      <th>1</th>\n",
       "      <td>146223</td>\n",
       "      <td>[2683, 4969, 800, 5298, 840, 2499, 6632, 7022,...</td>\n",
       "      <td>96900</td>\n",
       "    </tr>\n",
       "    <tr>\n",
       "      <th>2</th>\n",
       "      <td>312329</td>\n",
       "      <td>[1257, 7655, 6270, 590, 5024, 1119, 4883, 6696...</td>\n",
       "      <td>120056</td>\n",
       "    </tr>\n",
       "    <tr>\n",
       "      <th>3</th>\n",
       "      <td>74301</td>\n",
       "      <td>[7940, 3609, 7060, 6265, 1170, 6654, 5003, 3561]</td>\n",
       "      <td>168258</td>\n",
       "    </tr>\n",
       "    <tr>\n",
       "      <th>4</th>\n",
       "      <td>76272</td>\n",
       "      <td>[3484, 6324, 7594, 243]</td>\n",
       "      <td>109030</td>\n",
       "    </tr>\n",
       "  </tbody>\n",
       "</table>\n",
       "</div>"
      ],
      "text/plain": [
       "       id                                     ingredient_ids       i\n",
       "0  424415                      [389, 7655, 6270, 1527, 3406]      23\n",
       "1  146223  [2683, 4969, 800, 5298, 840, 2499, 6632, 7022,...   96900\n",
       "2  312329  [1257, 7655, 6270, 590, 5024, 1119, 4883, 6696...  120056\n",
       "3   74301   [7940, 3609, 7060, 6265, 1170, 6654, 5003, 3561]  168258\n",
       "4   76272                            [3484, 6324, 7594, 243]  109030"
      ]
     },
     "execution_count": 7,
     "metadata": {},
     "output_type": "execute_result"
    }
   ],
   "source": [
    "pp_recipes_data = pp_recipes.loc[:, ['id', 'ingredient_ids', 'i']]\n",
    "pp_recipes_data.head()"
   ]
  },
  {
   "cell_type": "code",
   "execution_count": 8,
   "id": "98e07f4d",
   "metadata": {
    "scrolled": true
   },
   "outputs": [
    {
     "data": {
      "text/html": [
       "<div>\n",
       "<style scoped>\n",
       "    .dataframe tbody tr th:only-of-type {\n",
       "        vertical-align: middle;\n",
       "    }\n",
       "\n",
       "    .dataframe tbody tr th {\n",
       "        vertical-align: top;\n",
       "    }\n",
       "\n",
       "    .dataframe thead th {\n",
       "        text-align: right;\n",
       "    }\n",
       "</style>\n",
       "<table border=\"1\" class=\"dataframe\">\n",
       "  <thead>\n",
       "    <tr style=\"text-align: right;\">\n",
       "      <th></th>\n",
       "      <th>name</th>\n",
       "      <th>full_id</th>\n",
       "      <th>nutrition</th>\n",
       "      <th>ingredient_ids</th>\n",
       "    </tr>\n",
       "    <tr>\n",
       "      <th>fid</th>\n",
       "      <th></th>\n",
       "      <th></th>\n",
       "      <th></th>\n",
       "      <th></th>\n",
       "    </tr>\n",
       "  </thead>\n",
       "  <tbody>\n",
       "    <tr>\n",
       "      <th>0</th>\n",
       "      <td>white bean   green chile pepper soup</td>\n",
       "      <td>40893</td>\n",
       "      <td>[204.8, 5.0, 9.0, 26.0, 24.0, 2.0, 10.0]</td>\n",
       "      <td>[3384, 7979, 2127, 3502, 3217, 1257, 2778, 500...</td>\n",
       "    </tr>\n",
       "    <tr>\n",
       "      <th>1</th>\n",
       "      <td>devilicious cookie cake delights</td>\n",
       "      <td>44394</td>\n",
       "      <td>[132.3, 11.0, 39.0, 5.0, 4.0, 11.0, 5.0]</td>\n",
       "      <td>[912, 7557, 2499, 5382]</td>\n",
       "    </tr>\n",
       "    <tr>\n",
       "      <th>2</th>\n",
       "      <td>baked potato toppings</td>\n",
       "      <td>85009</td>\n",
       "      <td>[2786.2, 342.0, 134.0, 290.0, 161.0, 301.0, 42.0]</td>\n",
       "      <td>[4623, 6265, 1168, 6016, 3597, 3440, 7213, 169...</td>\n",
       "    </tr>\n",
       "    <tr>\n",
       "      <th>3</th>\n",
       "      <td>kfc honey bbq strips</td>\n",
       "      <td>134728</td>\n",
       "      <td>[316.0, 4.0, 40.0, 37.0, 78.0, 4.0, 10.0]</td>\n",
       "      <td>[1304, 2683, 3217, 6270, 3532, 869, 7557, 3698...</td>\n",
       "    </tr>\n",
       "    <tr>\n",
       "      <th>4</th>\n",
       "      <td>lamb stew with tomatoes  chickpeas and spices</td>\n",
       "      <td>200236</td>\n",
       "      <td>[606.5, 65.0, 12.0, 34.0, 65.0, 83.0, 7.0]</td>\n",
       "      <td>[4130, 6270, 3486, 7557, 5010, 3203, 2683, 125...</td>\n",
       "    </tr>\n",
       "  </tbody>\n",
       "</table>\n",
       "</div>"
      ],
      "text/plain": [
       "                                              name  full_id  \\\n",
       "fid                                                           \n",
       "0             white bean   green chile pepper soup    40893   \n",
       "1                 devilicious cookie cake delights    44394   \n",
       "2                            baked potato toppings    85009   \n",
       "3                             kfc honey bbq strips   134728   \n",
       "4    lamb stew with tomatoes  chickpeas and spices   200236   \n",
       "\n",
       "                                             nutrition  \\\n",
       "fid                                                      \n",
       "0             [204.8, 5.0, 9.0, 26.0, 24.0, 2.0, 10.0]   \n",
       "1             [132.3, 11.0, 39.0, 5.0, 4.0, 11.0, 5.0]   \n",
       "2    [2786.2, 342.0, 134.0, 290.0, 161.0, 301.0, 42.0]   \n",
       "3            [316.0, 4.0, 40.0, 37.0, 78.0, 4.0, 10.0]   \n",
       "4           [606.5, 65.0, 12.0, 34.0, 65.0, 83.0, 7.0]   \n",
       "\n",
       "                                        ingredient_ids  \n",
       "fid                                                     \n",
       "0    [3384, 7979, 2127, 3502, 3217, 1257, 2778, 500...  \n",
       "1                              [912, 7557, 2499, 5382]  \n",
       "2    [4623, 6265, 1168, 6016, 3597, 3440, 7213, 169...  \n",
       "3    [1304, 2683, 3217, 6270, 3532, 869, 7557, 3698...  \n",
       "4    [4130, 6270, 3486, 7557, 5010, 3203, 2683, 125...  "
      ]
     },
     "execution_count": 8,
     "metadata": {},
     "output_type": "execute_result"
    }
   ],
   "source": [
    "# cleaned up racipe dataframe\n",
    "recipe_data = pd.merge(raw_recipes_data, pp_recipes_data, on = 'id')\n",
    "recipe_data = recipe_data.rename(columns={'i': 'fid', 'id' : 'full_id'})\n",
    "recipe_data.set_index('fid', inplace = True)\n",
    "recipe_data.sort_index(inplace = True)\n",
    "recipe_data.head()\n",
    "\n",
    "# [calories (#), total fat (PDV), sugar (PDV) , sodium (PDV) , protein (PDV) , saturated fat (PDV) , and carbohydrates (PDV)]"
   ]
  },
  {
   "cell_type": "code",
   "execution_count": 9,
   "id": "21aad3ad",
   "metadata": {},
   "outputs": [],
   "source": [
    "recipe_data.to_csv(output_path + 'recipe_data.csv')"
   ]
  },
  {
   "cell_type": "markdown",
   "id": "458a65ca",
   "metadata": {},
   "source": [
    "### ingr_data.csv"
   ]
  },
  {
   "cell_type": "code",
   "execution_count": 13,
   "id": "d7ba425d",
   "metadata": {},
   "outputs": [],
   "source": [
    "ingr_map = pd.read_pickle(input_path + 'ingr_map.pkl')"
   ]
  },
  {
   "cell_type": "code",
   "execution_count": 14,
   "id": "a685f727",
   "metadata": {},
   "outputs": [
    {
     "data": {
      "text/html": [
       "<div>\n",
       "<style scoped>\n",
       "    .dataframe tbody tr th:only-of-type {\n",
       "        vertical-align: middle;\n",
       "    }\n",
       "\n",
       "    .dataframe tbody tr th {\n",
       "        vertical-align: top;\n",
       "    }\n",
       "\n",
       "    .dataframe thead th {\n",
       "        text-align: right;\n",
       "    }\n",
       "</style>\n",
       "<table border=\"1\" class=\"dataframe\">\n",
       "  <thead>\n",
       "    <tr style=\"text-align: right;\">\n",
       "      <th></th>\n",
       "      <th>raw_ingr</th>\n",
       "      <th>raw_words</th>\n",
       "      <th>processed</th>\n",
       "      <th>len_proc</th>\n",
       "      <th>replaced</th>\n",
       "      <th>count</th>\n",
       "      <th>id</th>\n",
       "    </tr>\n",
       "  </thead>\n",
       "  <tbody>\n",
       "    <tr>\n",
       "      <th>0</th>\n",
       "      <td>medium heads bibb or red leaf lettuce, washed,...</td>\n",
       "      <td>13</td>\n",
       "      <td>medium heads bibb or red leaf lettuce, washed,...</td>\n",
       "      <td>73</td>\n",
       "      <td>lettuce</td>\n",
       "      <td>4507</td>\n",
       "      <td>4308</td>\n",
       "    </tr>\n",
       "    <tr>\n",
       "      <th>1</th>\n",
       "      <td>mixed baby lettuces and spring greens</td>\n",
       "      <td>6</td>\n",
       "      <td>mixed baby lettuces and spring green</td>\n",
       "      <td>36</td>\n",
       "      <td>lettuce</td>\n",
       "      <td>4507</td>\n",
       "      <td>4308</td>\n",
       "    </tr>\n",
       "    <tr>\n",
       "      <th>2</th>\n",
       "      <td>romaine lettuce leaf</td>\n",
       "      <td>3</td>\n",
       "      <td>romaine lettuce leaf</td>\n",
       "      <td>20</td>\n",
       "      <td>lettuce</td>\n",
       "      <td>4507</td>\n",
       "      <td>4308</td>\n",
       "    </tr>\n",
       "    <tr>\n",
       "      <th>3</th>\n",
       "      <td>iceberg lettuce leaf</td>\n",
       "      <td>3</td>\n",
       "      <td>iceberg lettuce leaf</td>\n",
       "      <td>20</td>\n",
       "      <td>lettuce</td>\n",
       "      <td>4507</td>\n",
       "      <td>4308</td>\n",
       "    </tr>\n",
       "    <tr>\n",
       "      <th>4</th>\n",
       "      <td>red romaine lettuce</td>\n",
       "      <td>3</td>\n",
       "      <td>red romaine lettuce</td>\n",
       "      <td>19</td>\n",
       "      <td>lettuce</td>\n",
       "      <td>4507</td>\n",
       "      <td>4308</td>\n",
       "    </tr>\n",
       "  </tbody>\n",
       "</table>\n",
       "</div>"
      ],
      "text/plain": [
       "                                            raw_ingr  raw_words  \\\n",
       "0  medium heads bibb or red leaf lettuce, washed,...         13   \n",
       "1              mixed baby lettuces and spring greens          6   \n",
       "2                               romaine lettuce leaf          3   \n",
       "3                               iceberg lettuce leaf          3   \n",
       "4                                red romaine lettuce          3   \n",
       "\n",
       "                                           processed  len_proc replaced  \\\n",
       "0  medium heads bibb or red leaf lettuce, washed,...        73  lettuce   \n",
       "1               mixed baby lettuces and spring green        36  lettuce   \n",
       "2                               romaine lettuce leaf        20  lettuce   \n",
       "3                               iceberg lettuce leaf        20  lettuce   \n",
       "4                                red romaine lettuce        19  lettuce   \n",
       "\n",
       "   count    id  \n",
       "0   4507  4308  \n",
       "1   4507  4308  \n",
       "2   4507  4308  \n",
       "3   4507  4308  \n",
       "4   4507  4308  "
      ]
     },
     "execution_count": 14,
     "metadata": {},
     "output_type": "execute_result"
    }
   ],
   "source": [
    "ingr_map.head()"
   ]
  },
  {
   "cell_type": "code",
   "execution_count": 15,
   "id": "287c57eb",
   "metadata": {
    "scrolled": true
   },
   "outputs": [
    {
     "data": {
      "text/html": [
       "<div>\n",
       "<style scoped>\n",
       "    .dataframe tbody tr th:only-of-type {\n",
       "        vertical-align: middle;\n",
       "    }\n",
       "\n",
       "    .dataframe tbody tr th {\n",
       "        vertical-align: top;\n",
       "    }\n",
       "\n",
       "    .dataframe thead th {\n",
       "        text-align: right;\n",
       "    }\n",
       "</style>\n",
       "<table border=\"1\" class=\"dataframe\">\n",
       "  <thead>\n",
       "    <tr style=\"text-align: right;\">\n",
       "      <th></th>\n",
       "      <th>name</th>\n",
       "      <th>count</th>\n",
       "    </tr>\n",
       "    <tr>\n",
       "      <th>iid</th>\n",
       "      <th></th>\n",
       "      <th></th>\n",
       "    </tr>\n",
       "  </thead>\n",
       "  <tbody>\n",
       "    <tr>\n",
       "      <th>0</th>\n",
       "      <td>'s baking chocolate</td>\n",
       "      <td>2</td>\n",
       "    </tr>\n",
       "    <tr>\n",
       "      <th>1</th>\n",
       "      <td>'s chocolate chip</td>\n",
       "      <td>13</td>\n",
       "    </tr>\n",
       "    <tr>\n",
       "      <th>2</th>\n",
       "      <td>'s hugs chocolate</td>\n",
       "      <td>7</td>\n",
       "    </tr>\n",
       "    <tr>\n",
       "      <th>3</th>\n",
       "      <td>'s sauce</td>\n",
       "      <td>6</td>\n",
       "    </tr>\n",
       "    <tr>\n",
       "      <th>4</th>\n",
       "      <td>'s sour cream</td>\n",
       "      <td>2</td>\n",
       "    </tr>\n",
       "  </tbody>\n",
       "</table>\n",
       "</div>"
      ],
      "text/plain": [
       "                    name  count\n",
       "iid                            \n",
       "0    's baking chocolate      2\n",
       "1      's chocolate chip     13\n",
       "2      's hugs chocolate      7\n",
       "3               's sauce      6\n",
       "4          's sour cream      2"
      ]
     },
     "execution_count": 15,
     "metadata": {},
     "output_type": "execute_result"
    }
   ],
   "source": [
    "ingr_data = ingr_map.loc[:, ['id', 'replaced', 'count']]\n",
    "ingr_data.drop_duplicates(inplace=True)\n",
    "ingr_data.sort_values(by='id', inplace=True)\n",
    "ingr_data.rename(columns = {'replaced' : 'name', 'id': 'iid'}, inplace = True)\n",
    "ingr_data.set_index('iid', inplace = True)\n",
    "ingr_data.sort_index(inplace = True)\n",
    "ingr_data.head()"
   ]
  },
  {
   "cell_type": "code",
   "execution_count": 16,
   "id": "056a3a30",
   "metadata": {},
   "outputs": [],
   "source": [
    "ingr_data.to_csv(output_path + 'ingr_data.csv')"
   ]
  },
  {
   "cell_type": "markdown",
   "id": "deff106e",
   "metadata": {},
   "source": [
    "### rating_data.csv"
   ]
  },
  {
   "cell_type": "code",
   "execution_count": 9,
   "id": "7d63f64f",
   "metadata": {},
   "outputs": [
    {
     "data": {
      "text/html": [
       "<div>\n",
       "<style scoped>\n",
       "    .dataframe tbody tr th:only-of-type {\n",
       "        vertical-align: middle;\n",
       "    }\n",
       "\n",
       "    .dataframe tbody tr th {\n",
       "        vertical-align: top;\n",
       "    }\n",
       "\n",
       "    .dataframe thead th {\n",
       "        text-align: right;\n",
       "    }\n",
       "</style>\n",
       "<table border=\"1\" class=\"dataframe\">\n",
       "  <thead>\n",
       "    <tr style=\"text-align: right;\">\n",
       "      <th></th>\n",
       "      <th>items</th>\n",
       "      <th>ratings</th>\n",
       "    </tr>\n",
       "    <tr>\n",
       "      <th>u</th>\n",
       "      <th></th>\n",
       "      <th></th>\n",
       "    </tr>\n",
       "  </thead>\n",
       "  <tbody>\n",
       "    <tr>\n",
       "      <th>0</th>\n",
       "      <td>[1118, 27680, 32541, 137353, 16428, 28815, 658...</td>\n",
       "      <td>[5.0, 5.0, 5.0, 5.0, 5.0, 5.0, 5.0, 4.0, 4.0, ...</td>\n",
       "    </tr>\n",
       "    <tr>\n",
       "      <th>1</th>\n",
       "      <td>[122140, 77036, 156817, 76957, 68818, 155600, ...</td>\n",
       "      <td>[5.0, 5.0, 5.0, 5.0, 5.0, 5.0, 5.0, 5.0, 5.0, ...</td>\n",
       "    </tr>\n",
       "    <tr>\n",
       "      <th>2</th>\n",
       "      <td>[168054, 87218, 35731, 1, 20475, 9039, 124834,...</td>\n",
       "      <td>[3.0, 4.0, 4.0, 4.0, 4.0, 4.0, 4.0, 4.0, 5.0, ...</td>\n",
       "    </tr>\n",
       "    <tr>\n",
       "      <th>3</th>\n",
       "      <td>[163193, 156352, 102888, 19914, 169438, 55772,...</td>\n",
       "      <td>[5.0, 5.0, 5.0, 5.0, 4.0, 4.0, 5.0, 5.0, 5.0, ...</td>\n",
       "    </tr>\n",
       "    <tr>\n",
       "      <th>4</th>\n",
       "      <td>[72857, 38652, 160427, 55772, 119999, 141777, ...</td>\n",
       "      <td>[5.0, 5.0, 5.0, 5.0, 4.0, 4.0, 5.0, 4.0, 5.0, ...</td>\n",
       "    </tr>\n",
       "  </tbody>\n",
       "</table>\n",
       "</div>"
      ],
      "text/plain": [
       "                                               items  \\\n",
       "u                                                      \n",
       "0  [1118, 27680, 32541, 137353, 16428, 28815, 658...   \n",
       "1  [122140, 77036, 156817, 76957, 68818, 155600, ...   \n",
       "2  [168054, 87218, 35731, 1, 20475, 9039, 124834,...   \n",
       "3  [163193, 156352, 102888, 19914, 169438, 55772,...   \n",
       "4  [72857, 38652, 160427, 55772, 119999, 141777, ...   \n",
       "\n",
       "                                             ratings  \n",
       "u                                                     \n",
       "0  [5.0, 5.0, 5.0, 5.0, 5.0, 5.0, 5.0, 4.0, 4.0, ...  \n",
       "1  [5.0, 5.0, 5.0, 5.0, 5.0, 5.0, 5.0, 5.0, 5.0, ...  \n",
       "2  [3.0, 4.0, 4.0, 4.0, 4.0, 4.0, 4.0, 4.0, 5.0, ...  \n",
       "3  [5.0, 5.0, 5.0, 5.0, 4.0, 4.0, 5.0, 5.0, 5.0, ...  \n",
       "4  [5.0, 5.0, 5.0, 5.0, 4.0, 4.0, 5.0, 4.0, 5.0, ...  "
      ]
     },
     "execution_count": 9,
     "metadata": {},
     "output_type": "execute_result"
    }
   ],
   "source": [
    "PP_users = pd.read_csv(input_path + 'PP_users.csv')\n",
    "rate_data = PP_users.set_index('u').loc[:, ['items', 'ratings']]\n",
    "rate_data.head()"
   ]
  },
  {
   "cell_type": "code",
   "execution_count": 10,
   "id": "c864fdba",
   "metadata": {},
   "outputs": [],
   "source": [
    "rate_data['items'] = rate_data['items'].str.replace(\" \", \"\")\n",
    "rate_data['items'] = rate_data['items'].apply(lambda x: x[1:-1].split(','))"
   ]
  },
  {
   "cell_type": "code",
   "execution_count": 11,
   "id": "6f79597c",
   "metadata": {},
   "outputs": [],
   "source": [
    "rate_data['ratings'] = rate_data['ratings'].str.replace(\" \", \"\")\n",
    "rate_data['ratings'] = rate_data['ratings'].apply(lambda x: x[1:-1].split(','))"
   ]
  },
  {
   "cell_type": "code",
   "execution_count": 12,
   "id": "dc7abce3",
   "metadata": {},
   "outputs": [
    {
     "data": {
      "text/html": [
       "<div>\n",
       "<style scoped>\n",
       "    .dataframe tbody tr th:only-of-type {\n",
       "        vertical-align: middle;\n",
       "    }\n",
       "\n",
       "    .dataframe tbody tr th {\n",
       "        vertical-align: top;\n",
       "    }\n",
       "\n",
       "    .dataframe thead th {\n",
       "        text-align: right;\n",
       "    }\n",
       "</style>\n",
       "<table border=\"1\" class=\"dataframe\">\n",
       "  <thead>\n",
       "    <tr style=\"text-align: right;\">\n",
       "      <th></th>\n",
       "      <th>items</th>\n",
       "      <th>ratings</th>\n",
       "    </tr>\n",
       "    <tr>\n",
       "      <th>u</th>\n",
       "      <th></th>\n",
       "      <th></th>\n",
       "    </tr>\n",
       "  </thead>\n",
       "  <tbody>\n",
       "    <tr>\n",
       "      <th>0</th>\n",
       "      <td>[1118, 27680, 32541, 137353, 16428, 28815, 658...</td>\n",
       "      <td>[5.0, 5.0, 5.0, 5.0, 5.0, 5.0, 5.0, 4.0, 4.0, ...</td>\n",
       "    </tr>\n",
       "    <tr>\n",
       "      <th>1</th>\n",
       "      <td>[122140, 77036, 156817, 76957, 68818, 155600, ...</td>\n",
       "      <td>[5.0, 5.0, 5.0, 5.0, 5.0, 5.0, 5.0, 5.0, 5.0, ...</td>\n",
       "    </tr>\n",
       "    <tr>\n",
       "      <th>2</th>\n",
       "      <td>[168054, 87218, 35731, 1, 20475, 9039, 124834,...</td>\n",
       "      <td>[3.0, 4.0, 4.0, 4.0, 4.0, 4.0, 4.0, 4.0, 5.0, ...</td>\n",
       "    </tr>\n",
       "    <tr>\n",
       "      <th>3</th>\n",
       "      <td>[163193, 156352, 102888, 19914, 169438, 55772,...</td>\n",
       "      <td>[5.0, 5.0, 5.0, 5.0, 4.0, 4.0, 5.0, 5.0, 5.0, ...</td>\n",
       "    </tr>\n",
       "    <tr>\n",
       "      <th>4</th>\n",
       "      <td>[72857, 38652, 160427, 55772, 119999, 141777, ...</td>\n",
       "      <td>[5.0, 5.0, 5.0, 5.0, 4.0, 4.0, 5.0, 4.0, 5.0, ...</td>\n",
       "    </tr>\n",
       "  </tbody>\n",
       "</table>\n",
       "</div>"
      ],
      "text/plain": [
       "                                               items  \\\n",
       "u                                                      \n",
       "0  [1118, 27680, 32541, 137353, 16428, 28815, 658...   \n",
       "1  [122140, 77036, 156817, 76957, 68818, 155600, ...   \n",
       "2  [168054, 87218, 35731, 1, 20475, 9039, 124834,...   \n",
       "3  [163193, 156352, 102888, 19914, 169438, 55772,...   \n",
       "4  [72857, 38652, 160427, 55772, 119999, 141777, ...   \n",
       "\n",
       "                                             ratings  \n",
       "u                                                     \n",
       "0  [5.0, 5.0, 5.0, 5.0, 5.0, 5.0, 5.0, 4.0, 4.0, ...  \n",
       "1  [5.0, 5.0, 5.0, 5.0, 5.0, 5.0, 5.0, 5.0, 5.0, ...  \n",
       "2  [3.0, 4.0, 4.0, 4.0, 4.0, 4.0, 4.0, 4.0, 5.0, ...  \n",
       "3  [5.0, 5.0, 5.0, 5.0, 4.0, 4.0, 5.0, 5.0, 5.0, ...  \n",
       "4  [5.0, 5.0, 5.0, 5.0, 4.0, 4.0, 5.0, 4.0, 5.0, ...  "
      ]
     },
     "execution_count": 12,
     "metadata": {},
     "output_type": "execute_result"
    }
   ],
   "source": [
    "rate_data.head()"
   ]
  },
  {
   "cell_type": "code",
   "execution_count": 19,
   "id": "244481e7",
   "metadata": {},
   "outputs": [],
   "source": [
    "user_list = []\n",
    "item_list = []\n",
    "rating_list = []"
   ]
  },
  {
   "cell_type": "code",
   "execution_count": 22,
   "id": "0084245a",
   "metadata": {},
   "outputs": [],
   "source": [
    "for index, row in rate_data.iterrows():\n",
    "    for x in range (0, len(row['items'])):\n",
    "        item_id = int(row['items'][x])\n",
    "        user_list.append(index)\n",
    "        item_list.append(item_id)\n",
    "        rating_list.append(float(row['ratings'][x]))"
   ]
  },
  {
   "cell_type": "code",
   "execution_count": 24,
   "id": "3508cb9b",
   "metadata": {},
   "outputs": [],
   "source": [
    "rating_data = pd.DataFrame({\"user\": user_list, \"item\": item_list, \"rate\": rating_list})"
   ]
  },
  {
   "cell_type": "code",
   "execution_count": 26,
   "id": "6c30d685",
   "metadata": {},
   "outputs": [],
   "source": [
    "rating_data.to_csv(output_path + 'rating_data.csv', index = False, header = False)"
   ]
  },
  {
   "cell_type": "markdown",
   "id": "6cb6ec8d",
   "metadata": {},
   "source": [
    "### reduce_rating_data.csv"
   ]
  },
  {
   "cell_type": "code",
   "execution_count": 1,
   "id": "90f4dd01",
   "metadata": {},
   "outputs": [],
   "source": [
    "from surprise import Reader\n",
    "from surprise import Dataset"
   ]
  },
  {
   "cell_type": "code",
   "execution_count": 5,
   "id": "4666375d",
   "metadata": {
    "scrolled": true
   },
   "outputs": [
    {
     "data": {
      "text/html": [
       "<div>\n",
       "<style scoped>\n",
       "    .dataframe tbody tr th:only-of-type {\n",
       "        vertical-align: middle;\n",
       "    }\n",
       "\n",
       "    .dataframe tbody tr th {\n",
       "        vertical-align: top;\n",
       "    }\n",
       "\n",
       "    .dataframe thead th {\n",
       "        text-align: right;\n",
       "    }\n",
       "</style>\n",
       "<table border=\"1\" class=\"dataframe\">\n",
       "  <thead>\n",
       "    <tr style=\"text-align: right;\">\n",
       "      <th></th>\n",
       "      <th>userID</th>\n",
       "      <th>itemID</th>\n",
       "      <th>rating</th>\n",
       "    </tr>\n",
       "  </thead>\n",
       "  <tbody>\n",
       "    <tr>\n",
       "      <th>0</th>\n",
       "      <td>0</td>\n",
       "      <td>1118</td>\n",
       "      <td>5.0</td>\n",
       "    </tr>\n",
       "    <tr>\n",
       "      <th>1</th>\n",
       "      <td>0</td>\n",
       "      <td>27680</td>\n",
       "      <td>5.0</td>\n",
       "    </tr>\n",
       "    <tr>\n",
       "      <th>2</th>\n",
       "      <td>0</td>\n",
       "      <td>32541</td>\n",
       "      <td>5.0</td>\n",
       "    </tr>\n",
       "    <tr>\n",
       "      <th>3</th>\n",
       "      <td>0</td>\n",
       "      <td>137353</td>\n",
       "      <td>5.0</td>\n",
       "    </tr>\n",
       "    <tr>\n",
       "      <th>4</th>\n",
       "      <td>0</td>\n",
       "      <td>16428</td>\n",
       "      <td>5.0</td>\n",
       "    </tr>\n",
       "  </tbody>\n",
       "</table>\n",
       "</div>"
      ],
      "text/plain": [
       "   userID  itemID  rating\n",
       "0       0    1118     5.0\n",
       "1       0   27680     5.0\n",
       "2       0   32541     5.0\n",
       "3       0  137353     5.0\n",
       "4       0   16428     5.0"
      ]
     },
     "execution_count": 5,
     "metadata": {},
     "output_type": "execute_result"
    }
   ],
   "source": [
    "df = pd.read_csv(output_path + 'rating_data.csv', names = ['userID', 'itemID', 'rating'])\n",
    "df.head()"
   ]
  },
  {
   "cell_type": "code",
   "execution_count": 11,
   "id": "6e11727d",
   "metadata": {},
   "outputs": [],
   "source": [
    "reduced = df[(df['userID']<=1000) & (df['itemID']<=5000)]"
   ]
  },
  {
   "cell_type": "code",
   "execution_count": 12,
   "id": "33bb6834",
   "metadata": {},
   "outputs": [
    {
     "data": {
      "text/html": [
       "<div>\n",
       "<style scoped>\n",
       "    .dataframe tbody tr th:only-of-type {\n",
       "        vertical-align: middle;\n",
       "    }\n",
       "\n",
       "    .dataframe tbody tr th {\n",
       "        vertical-align: top;\n",
       "    }\n",
       "\n",
       "    .dataframe thead th {\n",
       "        text-align: right;\n",
       "    }\n",
       "</style>\n",
       "<table border=\"1\" class=\"dataframe\">\n",
       "  <thead>\n",
       "    <tr style=\"text-align: right;\">\n",
       "      <th></th>\n",
       "      <th>userID</th>\n",
       "      <th>itemID</th>\n",
       "      <th>rating</th>\n",
       "    </tr>\n",
       "  </thead>\n",
       "  <tbody>\n",
       "    <tr>\n",
       "      <th>0</th>\n",
       "      <td>0</td>\n",
       "      <td>1118</td>\n",
       "      <td>5.0</td>\n",
       "    </tr>\n",
       "    <tr>\n",
       "      <th>18</th>\n",
       "      <td>0</td>\n",
       "      <td>0</td>\n",
       "      <td>4.0</td>\n",
       "    </tr>\n",
       "    <tr>\n",
       "      <th>31</th>\n",
       "      <td>0</td>\n",
       "      <td>1118</td>\n",
       "      <td>5.0</td>\n",
       "    </tr>\n",
       "    <tr>\n",
       "      <th>49</th>\n",
       "      <td>0</td>\n",
       "      <td>0</td>\n",
       "      <td>4.0</td>\n",
       "    </tr>\n",
       "    <tr>\n",
       "      <th>87</th>\n",
       "      <td>1</td>\n",
       "      <td>4446</td>\n",
       "      <td>5.0</td>\n",
       "    </tr>\n",
       "    <tr>\n",
       "      <th>...</th>\n",
       "      <td>...</td>\n",
       "      <td>...</td>\n",
       "      <td>...</td>\n",
       "    </tr>\n",
       "    <tr>\n",
       "      <th>276789</th>\n",
       "      <td>999</td>\n",
       "      <td>2210</td>\n",
       "      <td>5.0</td>\n",
       "    </tr>\n",
       "    <tr>\n",
       "      <th>276832</th>\n",
       "      <td>999</td>\n",
       "      <td>453</td>\n",
       "      <td>5.0</td>\n",
       "    </tr>\n",
       "    <tr>\n",
       "      <th>276833</th>\n",
       "      <td>999</td>\n",
       "      <td>1690</td>\n",
       "      <td>5.0</td>\n",
       "    </tr>\n",
       "    <tr>\n",
       "      <th>276876</th>\n",
       "      <td>1000</td>\n",
       "      <td>610</td>\n",
       "      <td>5.0</td>\n",
       "    </tr>\n",
       "    <tr>\n",
       "      <th>276886</th>\n",
       "      <td>1000</td>\n",
       "      <td>324</td>\n",
       "      <td>4.0</td>\n",
       "    </tr>\n",
       "  </tbody>\n",
       "</table>\n",
       "<p>8814 rows × 3 columns</p>\n",
       "</div>"
      ],
      "text/plain": [
       "        userID  itemID  rating\n",
       "0            0    1118     5.0\n",
       "18           0       0     4.0\n",
       "31           0    1118     5.0\n",
       "49           0       0     4.0\n",
       "87           1    4446     5.0\n",
       "...        ...     ...     ...\n",
       "276789     999    2210     5.0\n",
       "276832     999     453     5.0\n",
       "276833     999    1690     5.0\n",
       "276876    1000     610     5.0\n",
       "276886    1000     324     4.0\n",
       "\n",
       "[8814 rows x 3 columns]"
      ]
     },
     "execution_count": 12,
     "metadata": {},
     "output_type": "execute_result"
    }
   ],
   "source": [
    "reduced"
   ]
  },
  {
   "cell_type": "code",
   "execution_count": 13,
   "id": "fcec06ff",
   "metadata": {},
   "outputs": [],
   "source": [
    "reduced.to_csv(output_path + 'reduced_rating_data.csv', index = False, header = False)"
   ]
  },
  {
   "cell_type": "code",
   "execution_count": 14,
   "id": "9d9d3f86",
   "metadata": {},
   "outputs": [],
   "source": [
    "reader = Reader(rating_scale=(1, 5))\n",
    "data = Dataset.load_from_df(reduced[['userID', 'itemID', 'rating']], reader)"
   ]
  },
  {
   "cell_type": "code",
   "execution_count": 15,
   "id": "3fb81b2d",
   "metadata": {},
   "outputs": [
    {
     "ename": "KeyboardInterrupt",
     "evalue": "",
     "output_type": "error",
     "traceback": [
      "\u001b[1;31m---------------------------------------------------------------------------\u001b[0m",
      "\u001b[1;31mKeyboardInterrupt\u001b[0m                         Traceback (most recent call last)",
      "\u001b[1;32m~\\AppData\\Local\\Temp/ipykernel_14596/3719328917.py\u001b[0m in \u001b[0;36m<module>\u001b[1;34m\u001b[0m\n\u001b[0;32m      1\u001b[0m \u001b[1;31m# build test_set with anti_test\u001b[0m\u001b[1;33m\u001b[0m\u001b[1;33m\u001b[0m\u001b[1;33m\u001b[0m\u001b[0m\n\u001b[0;32m      2\u001b[0m \u001b[0mtrain_set\u001b[0m \u001b[1;33m=\u001b[0m \u001b[0mdata\u001b[0m\u001b[1;33m.\u001b[0m\u001b[0mbuild_full_trainset\u001b[0m\u001b[1;33m(\u001b[0m\u001b[1;33m)\u001b[0m\u001b[1;33m\u001b[0m\u001b[1;33m\u001b[0m\u001b[0m\n\u001b[1;32m----> 3\u001b[1;33m \u001b[0mtest_set\u001b[0m \u001b[1;33m=\u001b[0m \u001b[0mtrain_set\u001b[0m\u001b[1;33m.\u001b[0m\u001b[0mbuild_anti_testset\u001b[0m\u001b[1;33m(\u001b[0m\u001b[1;33m)\u001b[0m\u001b[1;33m\u001b[0m\u001b[1;33m\u001b[0m\u001b[0m\n\u001b[0m",
      "\u001b[1;32m~\\anaconda3\\lib\\site-packages\\surprise\\trainset.py\u001b[0m in \u001b[0;36mbuild_anti_testset\u001b[1;34m(self, fill)\u001b[0m\n\u001b[0;32m    228\u001b[0m         \u001b[1;32mfor\u001b[0m \u001b[0mu\u001b[0m \u001b[1;32min\u001b[0m \u001b[0mself\u001b[0m\u001b[1;33m.\u001b[0m\u001b[0mall_users\u001b[0m\u001b[1;33m(\u001b[0m\u001b[1;33m)\u001b[0m\u001b[1;33m:\u001b[0m\u001b[1;33m\u001b[0m\u001b[1;33m\u001b[0m\u001b[0m\n\u001b[0;32m    229\u001b[0m             \u001b[0muser_items\u001b[0m \u001b[1;33m=\u001b[0m \u001b[0mset\u001b[0m\u001b[1;33m(\u001b[0m\u001b[1;33m[\u001b[0m\u001b[0mj\u001b[0m \u001b[1;32mfor\u001b[0m \u001b[1;33m(\u001b[0m\u001b[0mj\u001b[0m\u001b[1;33m,\u001b[0m \u001b[0m_\u001b[0m\u001b[1;33m)\u001b[0m \u001b[1;32min\u001b[0m \u001b[0mself\u001b[0m\u001b[1;33m.\u001b[0m\u001b[0mur\u001b[0m\u001b[1;33m[\u001b[0m\u001b[0mu\u001b[0m\u001b[1;33m]\u001b[0m\u001b[1;33m]\u001b[0m\u001b[1;33m)\u001b[0m\u001b[1;33m\u001b[0m\u001b[1;33m\u001b[0m\u001b[0m\n\u001b[1;32m--> 230\u001b[1;33m             anti_testset += [(self.to_raw_uid(u), self.to_raw_iid(i), fill) for\n\u001b[0m\u001b[0;32m    231\u001b[0m                              \u001b[0mi\u001b[0m \u001b[1;32min\u001b[0m \u001b[0mself\u001b[0m\u001b[1;33m.\u001b[0m\u001b[0mall_items\u001b[0m\u001b[1;33m(\u001b[0m\u001b[1;33m)\u001b[0m \u001b[1;32mif\u001b[0m\u001b[1;33m\u001b[0m\u001b[1;33m\u001b[0m\u001b[0m\n\u001b[0;32m    232\u001b[0m                              i not in user_items]\n",
      "\u001b[1;32m~\\anaconda3\\lib\\site-packages\\surprise\\trainset.py\u001b[0m in \u001b[0;36m<listcomp>\u001b[1;34m(.0)\u001b[0m\n\u001b[0;32m    228\u001b[0m         \u001b[1;32mfor\u001b[0m \u001b[0mu\u001b[0m \u001b[1;32min\u001b[0m \u001b[0mself\u001b[0m\u001b[1;33m.\u001b[0m\u001b[0mall_users\u001b[0m\u001b[1;33m(\u001b[0m\u001b[1;33m)\u001b[0m\u001b[1;33m:\u001b[0m\u001b[1;33m\u001b[0m\u001b[1;33m\u001b[0m\u001b[0m\n\u001b[0;32m    229\u001b[0m             \u001b[0muser_items\u001b[0m \u001b[1;33m=\u001b[0m \u001b[0mset\u001b[0m\u001b[1;33m(\u001b[0m\u001b[1;33m[\u001b[0m\u001b[0mj\u001b[0m \u001b[1;32mfor\u001b[0m \u001b[1;33m(\u001b[0m\u001b[0mj\u001b[0m\u001b[1;33m,\u001b[0m \u001b[0m_\u001b[0m\u001b[1;33m)\u001b[0m \u001b[1;32min\u001b[0m \u001b[0mself\u001b[0m\u001b[1;33m.\u001b[0m\u001b[0mur\u001b[0m\u001b[1;33m[\u001b[0m\u001b[0mu\u001b[0m\u001b[1;33m]\u001b[0m\u001b[1;33m]\u001b[0m\u001b[1;33m)\u001b[0m\u001b[1;33m\u001b[0m\u001b[1;33m\u001b[0m\u001b[0m\n\u001b[1;32m--> 230\u001b[1;33m             anti_testset += [(self.to_raw_uid(u), self.to_raw_iid(i), fill) for\n\u001b[0m\u001b[0;32m    231\u001b[0m                              \u001b[0mi\u001b[0m \u001b[1;32min\u001b[0m \u001b[0mself\u001b[0m\u001b[1;33m.\u001b[0m\u001b[0mall_items\u001b[0m\u001b[1;33m(\u001b[0m\u001b[1;33m)\u001b[0m \u001b[1;32mif\u001b[0m\u001b[1;33m\u001b[0m\u001b[1;33m\u001b[0m\u001b[0m\n\u001b[0;32m    232\u001b[0m                              i not in user_items]\n",
      "\u001b[1;31mKeyboardInterrupt\u001b[0m: "
     ]
    }
   ],
   "source": [
    "# build test_set with anti_test\n",
    "train_set = data.build_full_trainset()\n",
    "test_set = train_set.build_anti_testset()"
   ]
  }
 ],
 "metadata": {
  "kernelspec": {
   "display_name": "Python 3 (ipykernel)",
   "language": "python",
   "name": "python3"
  },
  "language_info": {
   "codemirror_mode": {
    "name": "ipython",
    "version": 3
   },
   "file_extension": ".py",
   "mimetype": "text/x-python",
   "name": "python",
   "nbconvert_exporter": "python",
   "pygments_lexer": "ipython3",
   "version": "3.8.5"
  }
 },
 "nbformat": 4,
 "nbformat_minor": 5
}
