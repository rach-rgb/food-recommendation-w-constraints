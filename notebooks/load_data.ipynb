{
 "cells": [
  {
   "cell_type": "code",
   "execution_count": 2,
   "id": "a349e512",
   "metadata": {},
   "outputs": [],
   "source": [
    "import pandas as pd\n",
    "from surprise import Reader\n",
    "from surprise import Dataset"
   ]
  },
  {
   "cell_type": "code",
   "execution_count": 5,
   "id": "230e5f39",
   "metadata": {},
   "outputs": [],
   "source": [
    "# load rating data with surprise\n",
    "def load_rating_data(file_path='../data/rating_data.csv'):\n",
    "    reader = Reader(line_format='user item rating', sep=',', rating_scale=(0, 5))\n",
    "    return Dataset.load_from_file(file_path, reader = reader)"
   ]
  },
  {
   "cell_type": "code",
   "execution_count": 6,
   "id": "e4c992e2",
   "metadata": {},
   "outputs": [],
   "source": [
    "data = load_rating_data()"
   ]
  },
  {
   "cell_type": "code",
   "execution_count": 7,
   "id": "b1d67eb0",
   "metadata": {},
   "outputs": [],
   "source": [
    "from surprise.model_selection import train_test_split\n",
    "train_set, test_set = train_test_split(data, test_size=0.25)"
   ]
  },
  {
   "cell_type": "code",
   "execution_count": 95,
   "id": "62f949d9",
   "metadata": {},
   "outputs": [],
   "source": [
    "# cast list of string to list of integer\n",
    "def int_cast(str_list):\n",
    "    for i in range (0, len(str_list)):\n",
    "        if(str_list[i]==''):\n",
    "            continue\n",
    "        str_list[i] = int(str_list[i])\n",
    "    return str_list"
   ]
  },
  {
   "cell_type": "code",
   "execution_count": 96,
   "id": "3fe19899",
   "metadata": {},
   "outputs": [],
   "source": [
    "# cast list of string to list of float\n",
    "def float_cast(str_list):\n",
    "    for i in range (0, len(str_list)):\n",
    "        if(str_list[i]==''):\n",
    "            continue\n",
    "        str_list[i] = float(str_list[i])\n",
    "    return str_list"
   ]
  },
  {
   "cell_type": "code",
   "execution_count": 97,
   "id": "de8e3980",
   "metadata": {},
   "outputs": [],
   "source": [
    "# load recipe data\n",
    "def load_recipe_data(file_path=\"../data/recipe_data.csv\"):\n",
    "    df = pd.read_csv(file_path)\n",
    "    df.set_index('fid', inplace = True)\n",
    "    \n",
    "    # parse ingredient list\n",
    "    df['ingredient_ids'] = df['ingredient_ids'].str.replace(\" \", \"\")\n",
    "    df['ingredient_ids'] = df['ingredient_ids'].apply(lambda x: x[1:-1].split(','))\n",
    "    df['ingredient_ids'] = df['ingredient_ids'].apply(lambda x: int_cast(x))\n",
    "    df['nutrition'] = df['nutrition'].str.replace(\" \", \"\")\n",
    "    df['nutrition'] = df['nutrition'].apply(lambda x: x[1:-1].split(','))\n",
    "    df['nutrition'] = df['nutrition'].apply(lambda x: float_cast(x))\n",
    "    \n",
    "    return df"
   ]
  },
  {
   "cell_type": "code",
   "execution_count": 99,
   "id": "e3040a4e",
   "metadata": {
    "scrolled": true
   },
   "outputs": [
    {
     "data": {
      "text/html": [
       "<div>\n",
       "<style scoped>\n",
       "    .dataframe tbody tr th:only-of-type {\n",
       "        vertical-align: middle;\n",
       "    }\n",
       "\n",
       "    .dataframe tbody tr th {\n",
       "        vertical-align: top;\n",
       "    }\n",
       "\n",
       "    .dataframe thead th {\n",
       "        text-align: right;\n",
       "    }\n",
       "</style>\n",
       "<table border=\"1\" class=\"dataframe\">\n",
       "  <thead>\n",
       "    <tr style=\"text-align: right;\">\n",
       "      <th></th>\n",
       "      <th>name</th>\n",
       "      <th>full_id</th>\n",
       "      <th>nutrition</th>\n",
       "      <th>ingredient_ids</th>\n",
       "    </tr>\n",
       "    <tr>\n",
       "      <th>fid</th>\n",
       "      <th></th>\n",
       "      <th></th>\n",
       "      <th></th>\n",
       "      <th></th>\n",
       "    </tr>\n",
       "  </thead>\n",
       "  <tbody>\n",
       "    <tr>\n",
       "      <th>0</th>\n",
       "      <td>white bean   green chile pepper soup</td>\n",
       "      <td>40893</td>\n",
       "      <td>[204.8, 5.0, 9.0, 26.0, 24.0, 2.0, 10.0]</td>\n",
       "      <td>[3384, 7979, 2127, 3502, 3217, 1257, 2778, 500...</td>\n",
       "    </tr>\n",
       "    <tr>\n",
       "      <th>1</th>\n",
       "      <td>devilicious cookie cake delights</td>\n",
       "      <td>44394</td>\n",
       "      <td>[132.3, 11.0, 39.0, 5.0, 4.0, 11.0, 5.0]</td>\n",
       "      <td>[912, 7557, 2499, 5382]</td>\n",
       "    </tr>\n",
       "    <tr>\n",
       "      <th>2</th>\n",
       "      <td>baked potato toppings</td>\n",
       "      <td>85009</td>\n",
       "      <td>[2786.2, 342.0, 134.0, 290.0, 161.0, 301.0, 42.0]</td>\n",
       "      <td>[4623, 6265, 1168, 6016, 3597, 3440, 7213, 169...</td>\n",
       "    </tr>\n",
       "    <tr>\n",
       "      <th>3</th>\n",
       "      <td>kfc honey bbq strips</td>\n",
       "      <td>134728</td>\n",
       "      <td>[316.0, 4.0, 40.0, 37.0, 78.0, 4.0, 10.0]</td>\n",
       "      <td>[1304, 2683, 3217, 6270, 3532, 869, 7557, 3698...</td>\n",
       "    </tr>\n",
       "    <tr>\n",
       "      <th>4</th>\n",
       "      <td>lamb stew with tomatoes  chickpeas and spices</td>\n",
       "      <td>200236</td>\n",
       "      <td>[606.5, 65.0, 12.0, 34.0, 65.0, 83.0, 7.0]</td>\n",
       "      <td>[4130, 6270, 3486, 7557, 5010, 3203, 2683, 125...</td>\n",
       "    </tr>\n",
       "  </tbody>\n",
       "</table>\n",
       "</div>"
      ],
      "text/plain": [
       "                                              name  full_id  \\\n",
       "fid                                                           \n",
       "0             white bean   green chile pepper soup    40893   \n",
       "1                 devilicious cookie cake delights    44394   \n",
       "2                            baked potato toppings    85009   \n",
       "3                             kfc honey bbq strips   134728   \n",
       "4    lamb stew with tomatoes  chickpeas and spices   200236   \n",
       "\n",
       "                                             nutrition  \\\n",
       "fid                                                      \n",
       "0             [204.8, 5.0, 9.0, 26.0, 24.0, 2.0, 10.0]   \n",
       "1             [132.3, 11.0, 39.0, 5.0, 4.0, 11.0, 5.0]   \n",
       "2    [2786.2, 342.0, 134.0, 290.0, 161.0, 301.0, 42.0]   \n",
       "3            [316.0, 4.0, 40.0, 37.0, 78.0, 4.0, 10.0]   \n",
       "4           [606.5, 65.0, 12.0, 34.0, 65.0, 83.0, 7.0]   \n",
       "\n",
       "                                        ingredient_ids  \n",
       "fid                                                     \n",
       "0    [3384, 7979, 2127, 3502, 3217, 1257, 2778, 500...  \n",
       "1                              [912, 7557, 2499, 5382]  \n",
       "2    [4623, 6265, 1168, 6016, 3597, 3440, 7213, 169...  \n",
       "3    [1304, 2683, 3217, 6270, 3532, 869, 7557, 3698...  \n",
       "4    [4130, 6270, 3486, 7557, 5010, 3203, 2683, 125...  "
      ]
     },
     "execution_count": 99,
     "metadata": {},
     "output_type": "execute_result"
    }
   ],
   "source": [
    "df = load_recipe_data()\n",
    "df.head()"
   ]
  },
  {
   "cell_type": "code",
   "execution_count": 101,
   "id": "99efd9fb",
   "metadata": {},
   "outputs": [
    {
     "data": {
      "text/plain": [
       "204.8"
      ]
     },
     "execution_count": 101,
     "metadata": {},
     "output_type": "execute_result"
    }
   ],
   "source": [
    "df.loc[0]['nutrition'][0]"
   ]
  },
  {
   "cell_type": "code",
   "execution_count": 102,
   "id": "fa914560",
   "metadata": {},
   "outputs": [
    {
     "data": {
      "text/plain": [
       "3384"
      ]
     },
     "execution_count": 102,
     "metadata": {},
     "output_type": "execute_result"
    }
   ],
   "source": [
    "df.loc[0]['ingredient_ids'][0]"
   ]
  },
  {
   "cell_type": "code",
   "execution_count": 84,
   "id": "c568152f",
   "metadata": {},
   "outputs": [],
   "source": [
    "# load ingredient related constraint data\n",
    "def load_ingr_const(file_path=\"../data/ingr_const.csv\"):\n",
    "    df = pd.read_csv(file_path)\n",
    "    df.set_index('u', inplace = True)\n",
    "    \n",
    "    # parse ingredient list\n",
    "    df['include'] = df['include'].str.replace(\" \", \"\")\n",
    "    df['include'] = df['include'].apply(lambda x: x[1:-1].split(','))\n",
    "    df['include'] = df['include'].apply(lambda x: int_cast(x))\n",
    "    df['exclude'] = df['exclude'].str.replace(\" \", \"\")\n",
    "    df['exclude'] = df['exclude'].apply(lambda x: x[1:-1].split(','))\n",
    "    df['exclude'] = df['exclude'].apply(lambda x: int_cast(x))\n",
    "    \n",
    "    return df"
   ]
  },
  {
   "cell_type": "code",
   "execution_count": 103,
   "id": "664f49f8",
   "metadata": {},
   "outputs": [
    {
     "data": {
      "text/html": [
       "<div>\n",
       "<style scoped>\n",
       "    .dataframe tbody tr th:only-of-type {\n",
       "        vertical-align: middle;\n",
       "    }\n",
       "\n",
       "    .dataframe tbody tr th {\n",
       "        vertical-align: top;\n",
       "    }\n",
       "\n",
       "    .dataframe thead th {\n",
       "        text-align: right;\n",
       "    }\n",
       "</style>\n",
       "<table border=\"1\" class=\"dataframe\">\n",
       "  <thead>\n",
       "    <tr style=\"text-align: right;\">\n",
       "      <th></th>\n",
       "      <th>include</th>\n",
       "      <th>exclude</th>\n",
       "    </tr>\n",
       "    <tr>\n",
       "      <th>u</th>\n",
       "      <th></th>\n",
       "      <th></th>\n",
       "    </tr>\n",
       "  </thead>\n",
       "  <tbody>\n",
       "    <tr>\n",
       "      <th>0</th>\n",
       "      <td>[1833, 1257, 335, 5695, 6335]</td>\n",
       "      <td>[63, 1168, 335, 7557, 6696]</td>\n",
       "    </tr>\n",
       "    <tr>\n",
       "      <th>1</th>\n",
       "      <td>[590, 2832, 6324, 1910, 298]</td>\n",
       "      <td>[800, 4253, 7449, 7557, 4623]</td>\n",
       "    </tr>\n",
       "    <tr>\n",
       "      <th>2</th>\n",
       "      <td>[2683, 3497, 7470, 2131, 1329]</td>\n",
       "      <td>[2499, 5006, 7655, 4717, 5319]</td>\n",
       "    </tr>\n",
       "    <tr>\n",
       "      <th>3</th>\n",
       "      <td>[7367, 1257, 4096, 3440, 4623]</td>\n",
       "      <td>[]</td>\n",
       "    </tr>\n",
       "    <tr>\n",
       "      <th>4</th>\n",
       "      <td>[5319, 3440, 5825, 800, 5298]</td>\n",
       "      <td>[5648]</td>\n",
       "    </tr>\n",
       "  </tbody>\n",
       "</table>\n",
       "</div>"
      ],
      "text/plain": [
       "                          include                         exclude\n",
       "u                                                                \n",
       "0   [1833, 1257, 335, 5695, 6335]     [63, 1168, 335, 7557, 6696]\n",
       "1    [590, 2832, 6324, 1910, 298]   [800, 4253, 7449, 7557, 4623]\n",
       "2  [2683, 3497, 7470, 2131, 1329]  [2499, 5006, 7655, 4717, 5319]\n",
       "3  [7367, 1257, 4096, 3440, 4623]                              []\n",
       "4   [5319, 3440, 5825, 800, 5298]                          [5648]"
      ]
     },
     "execution_count": 103,
     "metadata": {},
     "output_type": "execute_result"
    }
   ],
   "source": [
    "df = load_ingr_const()\n",
    "df.head()"
   ]
  },
  {
   "cell_type": "code",
   "execution_count": 88,
   "id": "b79dd3f2",
   "metadata": {},
   "outputs": [],
   "source": [
    "# load food related constraint data\n",
    "def load_food_const(file_path=\"../data/food_const.csv\"):\n",
    "    df = pd.read_csv(file_path)    \n",
    "    return df"
   ]
  },
  {
   "cell_type": "code",
   "execution_count": 92,
   "id": "9c7d1ccc",
   "metadata": {},
   "outputs": [
    {
     "data": {
      "text/html": [
       "<div>\n",
       "<style scoped>\n",
       "    .dataframe tbody tr th:only-of-type {\n",
       "        vertical-align: middle;\n",
       "    }\n",
       "\n",
       "    .dataframe tbody tr th {\n",
       "        vertical-align: top;\n",
       "    }\n",
       "\n",
       "    .dataframe thead th {\n",
       "        text-align: right;\n",
       "    }\n",
       "</style>\n",
       "<table border=\"1\" class=\"dataframe\">\n",
       "  <thead>\n",
       "    <tr style=\"text-align: right;\">\n",
       "      <th></th>\n",
       "      <th>food</th>\n",
       "    </tr>\n",
       "  </thead>\n",
       "  <tbody>\n",
       "    <tr>\n",
       "      <th>0</th>\n",
       "      <td>99787</td>\n",
       "    </tr>\n",
       "    <tr>\n",
       "      <th>1</th>\n",
       "      <td>134610</td>\n",
       "    </tr>\n",
       "    <tr>\n",
       "      <th>2</th>\n",
       "      <td>135961</td>\n",
       "    </tr>\n",
       "    <tr>\n",
       "      <th>3</th>\n",
       "      <td>117899</td>\n",
       "    </tr>\n",
       "    <tr>\n",
       "      <th>4</th>\n",
       "      <td>147374</td>\n",
       "    </tr>\n",
       "  </tbody>\n",
       "</table>\n",
       "</div>"
      ],
      "text/plain": [
       "     food\n",
       "0   99787\n",
       "1  134610\n",
       "2  135961\n",
       "3  117899\n",
       "4  147374"
      ]
     },
     "execution_count": 92,
     "metadata": {},
     "output_type": "execute_result"
    }
   ],
   "source": [
    "df = load_food_const()\n",
    "df.head()"
   ]
  }
 ],
 "metadata": {
  "kernelspec": {
   "display_name": "Python 3 (ipykernel)",
   "language": "python",
   "name": "python3"
  },
  "language_info": {
   "codemirror_mode": {
    "name": "ipython",
    "version": 3
   },
   "file_extension": ".py",
   "mimetype": "text/x-python",
   "name": "python",
   "nbconvert_exporter": "python",
   "pygments_lexer": "ipython3",
   "version": "3.8.5"
  }
 },
 "nbformat": 4,
 "nbformat_minor": 5
}
