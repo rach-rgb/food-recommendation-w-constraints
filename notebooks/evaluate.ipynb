{
 "cells": [
  {
   "cell_type": "code",
   "execution_count": 1,
   "id": "0120ec20",
   "metadata": {},
   "outputs": [],
   "source": [
    "import pandas as pd\n",
    "from sys import path"
   ]
  },
  {
   "cell_type": "code",
   "execution_count": 2,
   "id": "aa89a348",
   "metadata": {},
   "outputs": [],
   "source": [
    "path.append('../code/src')"
   ]
  },
  {
   "cell_type": "code",
   "execution_count": 3,
   "id": "c112b321",
   "metadata": {},
   "outputs": [],
   "source": [
    "import evaluate"
   ]
  },
  {
   "cell_type": "code",
   "execution_count": 4,
   "id": "64420ed1",
   "metadata": {},
   "outputs": [],
   "source": [
    "# constants\n",
    "answer_path = '../result/PostRec_'\n",
    "result_path = '../result/InterRec_'\n",
    "\n",
    "# constraint sets\n",
    "const_count = 3"
   ]
  },
  {
   "cell_type": "code",
   "execution_count": 5,
   "id": "dfcf1066",
   "metadata": {},
   "outputs": [],
   "source": [
    "ev = evaluate.NDCG(100, 10)"
   ]
  },
  {
   "cell_type": "code",
   "execution_count": 6,
   "id": "b6b5727a",
   "metadata": {},
   "outputs": [],
   "source": [
    "def compare(ctype, idx):\n",
    "    adf = pd.read_csv(answer_path+str(ctype)+'.'+str(idx)+'.csv', index_col = 0)\n",
    "    rdf = pd.read_csv(result_path+str(ctype)+'.'+str(idx)+'.csv', index_col = 0)\n",
    "    \n",
    "    return ev.avg_ndcg(adf, rdf)"
   ]
  },
  {
   "cell_type": "markdown",
   "id": "d4d5cfda",
   "metadata": {},
   "source": [
    "### Constraint 1"
   ]
  },
  {
   "cell_type": "code",
   "execution_count": 9,
   "id": "5ec6e6ee",
   "metadata": {},
   "outputs": [],
   "source": [
    "ret1 = []\n",
    "for i in range (0, const_count):\n",
    "    ret1.append(compare(1, i + 1))"
   ]
  },
  {
   "cell_type": "code",
   "execution_count": 10,
   "id": "ea4812db",
   "metadata": {},
   "outputs": [
    {
     "name": "stdout",
     "output_type": "stream",
     "text": [
      "[0.757562596938798, 0.7575688365967035, 0.7495765987951125]\n",
      "0.754902677443538\n"
     ]
    }
   ],
   "source": [
    "print(ret1)\n",
    "print(sum(ret1)/3)"
   ]
  },
  {
   "cell_type": "markdown",
   "id": "53981f3c",
   "metadata": {},
   "source": [
    "### Constraint 2"
   ]
  },
  {
   "cell_type": "code",
   "execution_count": 13,
   "id": "45749924",
   "metadata": {},
   "outputs": [],
   "source": [
    "ret2 = []\n",
    "for i in range (0, const_count):\n",
    "    ret2.append(compare(2, i + 1))"
   ]
  },
  {
   "cell_type": "code",
   "execution_count": 14,
   "id": "5656bfda",
   "metadata": {},
   "outputs": [
    {
     "name": "stdout",
     "output_type": "stream",
     "text": [
      "[0.21849995222327398, 0.22076549638051898, 0.2156119655634233]\n",
      "0.21829247138907207\n"
     ]
    }
   ],
   "source": [
    "print(ret2)\n",
    "print(sum(ret2)/3)"
   ]
  },
  {
   "cell_type": "code",
   "execution_count": null,
   "id": "99a51249",
   "metadata": {},
   "outputs": [],
   "source": []
  }
 ],
 "metadata": {
  "kernelspec": {
   "display_name": "research1",
   "language": "python",
   "name": "research1"
  },
  "language_info": {
   "codemirror_mode": {
    "name": "ipython",
    "version": 3
   },
   "file_extension": ".py",
   "mimetype": "text/x-python",
   "name": "python",
   "nbconvert_exporter": "python",
   "pygments_lexer": "ipython3",
   "version": "3.8.12"
  }
 },
 "nbformat": 4,
 "nbformat_minor": 5
}
