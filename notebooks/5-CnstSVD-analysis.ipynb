{
 "cells": [
  {
   "cell_type": "code",
   "execution_count": 1,
   "id": "b057c922",
   "metadata": {},
   "outputs": [],
   "source": [
    "# import modules\n",
    "import copy\n",
    "import time\n",
    "from sys import path\n",
    "from collections import defaultdict"
   ]
  },
  {
   "cell_type": "code",
   "execution_count": 2,
   "id": "f4616d1a",
   "metadata": {},
   "outputs": [],
   "source": [
    "import pandas as pd\n",
    "from surprise import SVD, Reader, Dataset, accuracy\n",
    "from surprise.model_selection import train_test_split"
   ]
  },
  {
   "cell_type": "code",
   "execution_count": 3,
   "id": "8c21d105",
   "metadata": {},
   "outputs": [],
   "source": [
    "path.append('../code/src')"
   ]
  },
  {
   "cell_type": "code",
   "execution_count": 4,
   "id": "dca1a643",
   "metadata": {},
   "outputs": [],
   "source": [
    "import svd_constraint\n",
    "from inter_rec import InterRec\n",
    "from evaluate import Evaluation as ev"
   ]
  },
  {
   "cell_type": "code",
   "execution_count": 5,
   "id": "d717b46f",
   "metadata": {},
   "outputs": [],
   "source": [
    "# constants\n",
    "# file path\n",
    "input_path = \"../data/\"\n",
    "output_path = '../result/'\n",
    "rate_file = 'reduced_rating_data.csv'\n",
    "attr_file = 'recipe_data.csv'\n",
    "\n",
    "# user/item max\n",
    "user_max = 1000\n",
    "food_max = 5000\n",
    "\n",
    "# const count\n",
    "const_count = 3"
   ]
  },
  {
   "cell_type": "code",
   "execution_count": 6,
   "id": "19ccedae",
   "metadata": {},
   "outputs": [],
   "source": [
    "# Dictionary keys\n",
    "rs1 = 'CnstSVD'\n",
    "rs2 = 'CnstSVD-all'\n",
    "rs3 = 'CnstSVD-hard'\n",
    "rs4 = 'CnstSVD-harder'\n",
    "val_r1 = 'RMSE'\n",
    "val_r2 = 'nDCG'\n",
    "val_t1 = 'train time(s)'\n",
    "val_t2 = 'exec time(s)'"
   ]
  },
  {
   "cell_type": "code",
   "execution_count": 7,
   "id": "48f882a2",
   "metadata": {},
   "outputs": [],
   "source": [
    "val_dict = {\n",
    "    val_r1: 0,\n",
    "    val_r2: 0,\n",
    "    val_t1: 0,\n",
    "    val_t2: 0\n",
    "}\n",
    "\n",
    "keys = [rs1]\n",
    "keys = keys + [rs2]\n",
    "keys = keys + [rs3]\n",
    "keys = keys + [rs4]\n",
    "\n",
    "result = {key: copy.deepcopy(val_dict) for key in keys}"
   ]
  },
  {
   "cell_type": "code",
   "execution_count": 8,
   "id": "f54acaa4",
   "metadata": {},
   "outputs": [
    {
     "data": {
      "text/plain": [
       "{'CnstSVD': {'RMSE': 2.7557092509505217,\n",
       "  'nDCG': 0.0507049115302035,\n",
       "  'train time(s)': 289.63712700208026,\n",
       "  'exec time(s)': 13.816434780756632},\n",
       " 'CnstSVD-all': {'RMSE': 2.755484698077936,\n",
       "  'nDCG': 0.0478820478116224,\n",
       "  'train time(s)': 289.65573898951214,\n",
       "  'exec time(s)': 13.525635798772177},\n",
       " 'CnstSVD-hard': {'RMSE': 2.7617482917114877,\n",
       "  'nDCG': 0.0190228721422972,\n",
       "  'train time(s)': 290.13506960868835,\n",
       "  'exec time(s)': 13.59165088335673},\n",
       " 'CnstSVD-harder': {'RMSE': 2.7557959903092843,\n",
       "  'nDCG': 0.0454090316923035,\n",
       "  'train time(s)': 287.95565215746564,\n",
       "  'exec time(s)': 13.50331203142802}}"
      ]
     },
     "execution_count": 8,
     "metadata": {},
     "output_type": "execute_result"
    }
   ],
   "source": [
    "# read previous result\n",
    "result_df = pd.read_csv(output_path + 'evaluation_SVD.csv', index_col = 0).transpose()\n",
    "result.update(result_df.to_dict())\n",
    "result"
   ]
  },
  {
   "cell_type": "markdown",
   "id": "69760ea5",
   "metadata": {},
   "source": [
    "# Evaluate CnstSVD"
   ]
  },
  {
   "cell_type": "code",
   "execution_count": 10,
   "id": "6796b8c1",
   "metadata": {},
   "outputs": [],
   "source": [
    "def run_inter(idx, algo, k):    \n",
    "    # InterRec applies constraint after the rating of each item is predicted\n",
    "    rec = InterRec(input_path + rate_file, input_path + attr_file, \n",
    "                           input_path + 'const' + '.' + str(idx) + '.csv', \n",
    "                            algo, need_test = True)\n",
    "    rec.set_result_n(k)\n",
    "    rec.get_data()  # get rating, attribute, recipe data\n",
    "    \n",
    "    # train with data\n",
    "    start = time.time()\n",
    "    rec.train()  \n",
    "    t1 = time.time() - start\n",
    "    \n",
    "    # predict rating for test-set\n",
    "    predict_test = rec.test_rmse()\n",
    "    r1 = ev.calculate_rmse(predict_test)\n",
    "    \n",
    "    # get top-n for anti-test-set\n",
    "    start = time.time()\n",
    "    rec.test()\n",
    "    top_n_df = rec.get_top_n()\n",
    "    t2 = time.time() - start\n",
    "\n",
    "    # calculate nDCG\n",
    "    r2 = ev.calculate_ndcg(rec.get_rel(), top_n_df, k)\n",
    "        \n",
    "    return r1, r2, t1, t2"
   ]
  },
  {
   "cell_type": "code",
   "execution_count": 9,
   "id": "a2391bec",
   "metadata": {},
   "outputs": [
    {
     "name": "stdout",
     "output_type": "stream",
     "text": [
      "Const.1 done\n",
      "Const.2 done\n",
      "Const.3 done\n"
     ]
    }
   ],
   "source": [
    "r1_sum = 0\n",
    "r2_sum = 0\n",
    "t1_sum = 0\n",
    "t2_sum = 0\n",
    "for j in range (1, const_count + 1):\n",
    "    r1, r2, t1, t2 = run_inter(j, svd_constraint.CnstSVD(), 50)\n",
    "    r1_sum = r1_sum + r1\n",
    "    r2_sum = r2_sum + r2\n",
    "    t1_sum = t1_sum + t1\n",
    "    t2_sum = t2_sum + t2\n",
    "    print('Const'+'.'+str(j)+\" done\")\n",
    "\n",
    "result[rs1][val_r1] = r1_sum/const_count\n",
    "result[rs1][val_r2] = r2_sum/const_count\n",
    "result[rs1][val_t1] = t1_sum/const_count\n",
    "result[rs1][val_t2] = t2_sum/const_count"
   ]
  },
  {
   "cell_type": "markdown",
   "id": "41c63e05",
   "metadata": {},
   "source": [
    "# Evaluate CnstSVD_all"
   ]
  },
  {
   "cell_type": "code",
   "execution_count": 10,
   "id": "12dfc222",
   "metadata": {},
   "outputs": [
    {
     "name": "stdout",
     "output_type": "stream",
     "text": [
      "Const.1 done\n",
      "Const.2 done\n",
      "Const.3 done\n"
     ]
    }
   ],
   "source": [
    "r1_sum = 0\n",
    "r2_sum = 0\n",
    "t1_sum = 0\n",
    "t2_sum = 0\n",
    "for j in range (1, const_count + 1):\n",
    "    r1, r2, t1, t2 = run_inter(j, svd_constraint.CnstSVD_all(), 50)\n",
    "    r1_sum = r1_sum + r1\n",
    "    r2_sum = r2_sum + r2\n",
    "    t1_sum = t1_sum + t1\n",
    "    t2_sum = t2_sum + t2\n",
    "    print('Const'+'.'+str(j)+\" done\")\n",
    "\n",
    "result[rs2][val_r1] = r1_sum/const_count\n",
    "result[rs2][val_r2] = r2_sum/const_count\n",
    "result[rs2][val_t1] = t1_sum/const_count\n",
    "result[rs2][val_t2] = t2_sum/const_count"
   ]
  },
  {
   "cell_type": "markdown",
   "id": "751d85db",
   "metadata": {},
   "source": [
    "# Evaluate CnstSVD_hard"
   ]
  },
  {
   "cell_type": "code",
   "execution_count": 11,
   "id": "23ccc7d8",
   "metadata": {
    "scrolled": true
   },
   "outputs": [
    {
     "name": "stdout",
     "output_type": "stream",
     "text": [
      "Const.1 done\n",
      "Const.2 done\n",
      "Const.3 done\n"
     ]
    }
   ],
   "source": [
    "r1_sum = 0\n",
    "r2_sum = 0\n",
    "t1_sum = 0\n",
    "t2_sum = 0\n",
    "for j in range (1, const_count + 1):\n",
    "    r1, r2, t1, t2 = run_inter(j, svd_constraint.CnstSVD_hard(), 50)\n",
    "    r1_sum = r1_sum + r1\n",
    "    r2_sum = r2_sum + r2\n",
    "    t1_sum = t1_sum + t1\n",
    "    t2_sum = t2_sum + t2\n",
    "    print('Const'+'.'+str(j)+\" done\")\n",
    "\n",
    "result[rs3][val_r1] = r1_sum/const_count\n",
    "result[rs3][val_r2] = r2_sum/const_count\n",
    "result[rs3][val_t1] = t1_sum/const_count\n",
    "result[rs3][val_t2] = t2_sum/const_count"
   ]
  },
  {
   "cell_type": "markdown",
   "id": "03b071ec",
   "metadata": {},
   "source": [
    "# Evaluate CnstSVD_harder"
   ]
  },
  {
   "cell_type": "code",
   "execution_count": 12,
   "id": "bcdd340b",
   "metadata": {},
   "outputs": [
    {
     "name": "stdout",
     "output_type": "stream",
     "text": [
      "Const.1 done\n",
      "Const.2 done\n",
      "Const.3 done\n"
     ]
    }
   ],
   "source": [
    "r1_sum = 0\n",
    "r2_sum = 0\n",
    "t1_sum = 0\n",
    "t2_sum = 0\n",
    "for j in range (1, const_count + 1):\n",
    "    r1, r2, t1, t2 = run_inter(j, svd_constraint.CnstSVD_harder(), 50)\n",
    "    r1_sum = r1_sum + r1\n",
    "    r2_sum = r2_sum + r2\n",
    "    t1_sum = t1_sum + t1\n",
    "    t2_sum = t2_sum + t2\n",
    "    print('Const'+'.'+str(j)+\" done\")\n",
    "\n",
    "result[rs4][val_r1] = r1_sum/const_count\n",
    "result[rs4][val_r2] = r2_sum/const_count\n",
    "result[rs4][val_t1] = t1_sum/const_count\n",
    "result[rs4][val_t2] = t2_sum/const_count"
   ]
  },
  {
   "cell_type": "markdown",
   "id": "38273ef9",
   "metadata": {},
   "source": [
    "# Result"
   ]
  },
  {
   "cell_type": "code",
   "execution_count": 12,
   "id": "3f19e2cd",
   "metadata": {},
   "outputs": [
    {
     "data": {
      "text/html": [
       "<div>\n",
       "<style scoped>\n",
       "    .dataframe tbody tr th:only-of-type {\n",
       "        vertical-align: middle;\n",
       "    }\n",
       "\n",
       "    .dataframe tbody tr th {\n",
       "        vertical-align: top;\n",
       "    }\n",
       "\n",
       "    .dataframe thead th {\n",
       "        text-align: right;\n",
       "    }\n",
       "</style>\n",
       "<table border=\"1\" class=\"dataframe\">\n",
       "  <thead>\n",
       "    <tr style=\"text-align: right;\">\n",
       "      <th></th>\n",
       "      <th>RMSE</th>\n",
       "      <th>nDCG</th>\n",
       "      <th>train time(s)</th>\n",
       "      <th>exec time(s)</th>\n",
       "    </tr>\n",
       "  </thead>\n",
       "  <tbody>\n",
       "    <tr>\n",
       "      <th>CnstSVD</th>\n",
       "      <td>2.755709</td>\n",
       "      <td>0.050705</td>\n",
       "      <td>289.637127</td>\n",
       "      <td>13.816435</td>\n",
       "    </tr>\n",
       "    <tr>\n",
       "      <th>CnstSVD-all</th>\n",
       "      <td>2.755485</td>\n",
       "      <td>0.047882</td>\n",
       "      <td>289.655739</td>\n",
       "      <td>13.525636</td>\n",
       "    </tr>\n",
       "    <tr>\n",
       "      <th>CnstSVD-hard</th>\n",
       "      <td>2.755557</td>\n",
       "      <td>0.041018</td>\n",
       "      <td>286.625216</td>\n",
       "      <td>13.718161</td>\n",
       "    </tr>\n",
       "    <tr>\n",
       "      <th>CnstSVD-harder</th>\n",
       "      <td>2.755796</td>\n",
       "      <td>0.045409</td>\n",
       "      <td>287.955652</td>\n",
       "      <td>13.503312</td>\n",
       "    </tr>\n",
       "  </tbody>\n",
       "</table>\n",
       "</div>"
      ],
      "text/plain": [
       "                    RMSE      nDCG  train time(s)  exec time(s)\n",
       "CnstSVD         2.755709  0.050705     289.637127     13.816435\n",
       "CnstSVD-all     2.755485  0.047882     289.655739     13.525636\n",
       "CnstSVD-hard    2.755557  0.041018     286.625216     13.718161\n",
       "CnstSVD-harder  2.755796  0.045409     287.955652     13.503312"
      ]
     },
     "execution_count": 12,
     "metadata": {},
     "output_type": "execute_result"
    }
   ],
   "source": [
    "result_df = pd.DataFrame.from_dict(result, orient='index', columns=['RMSE', 'nDCG', 'train time(s)', 'exec time(s)'])\n",
    "result_df.to_csv(output_path + 'evaluation_SVD.csv')\n",
    "result_df"
   ]
  },
  {
   "cell_type": "code",
   "execution_count": null,
   "id": "50c8dfce",
   "metadata": {},
   "outputs": [],
   "source": []
  }
 ],
 "metadata": {
  "kernelspec": {
   "display_name": "research1",
   "language": "python",
   "name": "research1"
  },
  "language_info": {
   "codemirror_mode": {
    "name": "ipython",
    "version": 3
   },
   "file_extension": ".py",
   "mimetype": "text/x-python",
   "name": "python",
   "nbconvert_exporter": "python",
   "pygments_lexer": "ipython3",
   "version": "3.8.12"
  }
 },
 "nbformat": 4,
 "nbformat_minor": 5
}
