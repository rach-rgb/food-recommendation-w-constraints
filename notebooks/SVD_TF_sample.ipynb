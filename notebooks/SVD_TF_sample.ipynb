{
 "cells": [
  {
   "cell_type": "code",
   "execution_count": 1,
   "id": "b291daaf",
   "metadata": {},
   "outputs": [],
   "source": [
    "import pandas as pd\n",
    "import sys"
   ]
  },
  {
   "cell_type": "code",
   "execution_count": 2,
   "id": "b38c0f30",
   "metadata": {},
   "outputs": [],
   "source": [
    "# setting path\n",
    "sys.path.append('../code')"
   ]
  },
  {
   "cell_type": "code",
   "execution_count": 3,
   "id": "a8eae7bf",
   "metadata": {},
   "outputs": [],
   "source": [
    "import attr_model\n",
    "import load_data as ld\n",
    "import SVD_TF"
   ]
  },
  {
   "cell_type": "code",
   "execution_count": 4,
   "id": "95161199",
   "metadata": {},
   "outputs": [],
   "source": [
    "# constant\n",
    "file_name = \"const33\"\n",
    "result_path = \"../result/\"\n",
    "user_max = 1000"
   ]
  },
  {
   "cell_type": "code",
   "execution_count": 5,
   "id": "8cb320c0",
   "metadata": {},
   "outputs": [],
   "source": [
    "rec = attr_model.AttrRec(SVD_TF.SVD_TF(), const_path='../data/' + file_name + \"_data.csv\")"
   ]
  },
  {
   "cell_type": "code",
   "execution_count": 6,
   "id": "7d9f22c4",
   "metadata": {},
   "outputs": [],
   "source": [
    "rec.get_data()"
   ]
  },
  {
   "cell_type": "code",
   "execution_count": 7,
   "id": "1829eb20",
   "metadata": {},
   "outputs": [],
   "source": [
    "rec.train()"
   ]
  },
  {
   "cell_type": "code",
   "execution_count": 8,
   "id": "98cfa84d",
   "metadata": {},
   "outputs": [],
   "source": [
    "rec.test()"
   ]
  },
  {
   "cell_type": "code",
   "execution_count": 9,
   "id": "41fb85e1",
   "metadata": {},
   "outputs": [],
   "source": [
    "rec.get_candidate()"
   ]
  },
  {
   "cell_type": "markdown",
   "id": "3a6126e3",
   "metadata": {},
   "source": [
    "## Constraint 1"
   ]
  },
  {
   "cell_type": "code",
   "execution_count": null,
   "id": "3c3e9c68",
   "metadata": {},
   "outputs": [],
   "source": [
    "data = {\n",
    "    'user': [],\n",
    "    'include': [],\n",
    "    'item list': []\n",
    "}\n",
    "\n",
    "for u in range (0, user_max):\n",
    "    data['user'].append(u)\n",
    "    data['include'].append(rec.const.loc[u].i1)\n",
    "    data['item list'].append(rec.top_n_const_1(str(u), rec.const.loc[u].i1))\n",
    "    "
   ]
  },
  {
   "cell_type": "code",
   "execution_count": null,
   "id": "f59f14ea",
   "metadata": {},
   "outputs": [],
   "source": [
    "df = pd.DataFrame({\n",
    "    'user': data['user'],\n",
    "    'include': data['include'],\n",
    "    'item list': data['item list']\n",
    "})"
   ]
  },
  {
   "cell_type": "markdown",
   "id": "d33809c7",
   "metadata": {},
   "source": [
    "## constraint 2"
   ]
  },
  {
   "cell_type": "code",
   "execution_count": 10,
   "id": "d5371ec9",
   "metadata": {},
   "outputs": [],
   "source": [
    "data = {\n",
    "    'user': [],\n",
    "    'exclude': [],\n",
    "    'item list': []\n",
    "}\n",
    "\n",
    "for i in range (0, len(rec.const)):\n",
    "    user = rec.const.loc[i].u\n",
    "    item = int(rec.const.loc[i].i2)\n",
    "    \n",
    "    data['user'].append(user)\n",
    "    data['exclude'].append(item)\n",
    "    data['item list'].append(rec.top_n_const_2(str(user), item))"
   ]
  },
  {
   "cell_type": "code",
   "execution_count": 11,
   "id": "61d59206",
   "metadata": {},
   "outputs": [],
   "source": [
    "df = pd.DataFrame({\n",
    "    'user': data['user'],\n",
    "    'exclude': data['exclude'],\n",
    "    'item list': data['item list']\n",
    "})"
   ]
  },
  {
   "cell_type": "markdown",
   "id": "bff585ea",
   "metadata": {},
   "source": [
    "## Constraint 3"
   ]
  },
  {
   "cell_type": "code",
   "execution_count": 10,
   "id": "baa2c3f7",
   "metadata": {},
   "outputs": [],
   "source": [
    "data = {\n",
    "    'user': [],\n",
    "    'history': [],\n",
    "    'target': [],\n",
    "    'item list': []\n",
    "}\n",
    "\n",
    "for i in range (0, len(rec.const)):\n",
    "    user = rec.const.loc[i].u\n",
    "    his = int(rec.const.loc[i].hl)\n",
    "    nl = rec.const.loc[i].nl\n",
    "    \n",
    "    data['user'].append(user)\n",
    "    data['history'].append(his)\n",
    "    data['target'].append(nl)\n",
    "    data['item list'].append(rec.top_n_const_3(str(user), his, nl))"
   ]
  },
  {
   "cell_type": "code",
   "execution_count": 11,
   "id": "8ba15bfd",
   "metadata": {},
   "outputs": [],
   "source": [
    "df = pd.DataFrame({\n",
    "    'user': data['user'],\n",
    "    'hist': data['history'],\n",
    "    'target': data['target'],\n",
    "    'item list': data['item list']\n",
    "})"
   ]
  },
  {
   "cell_type": "markdown",
   "id": "1f042dc9",
   "metadata": {},
   "source": [
    "## Save Dataframe"
   ]
  },
  {
   "cell_type": "code",
   "execution_count": 12,
   "id": "4263c6bd",
   "metadata": {},
   "outputs": [],
   "source": [
    "df.to_csv(result_path + 'SVD_TF_' + file_name + \".csv\", index = False)"
   ]
  },
  {
   "cell_type": "code",
   "execution_count": 13,
   "id": "d81c000e",
   "metadata": {},
   "outputs": [
    {
     "data": {
      "text/html": [
       "<div>\n",
       "<style scoped>\n",
       "    .dataframe tbody tr th:only-of-type {\n",
       "        vertical-align: middle;\n",
       "    }\n",
       "\n",
       "    .dataframe tbody tr th {\n",
       "        vertical-align: top;\n",
       "    }\n",
       "\n",
       "    .dataframe thead th {\n",
       "        text-align: right;\n",
       "    }\n",
       "</style>\n",
       "<table border=\"1\" class=\"dataframe\">\n",
       "  <thead>\n",
       "    <tr style=\"text-align: right;\">\n",
       "      <th></th>\n",
       "      <th>user</th>\n",
       "      <th>hist</th>\n",
       "      <th>target</th>\n",
       "      <th>item list</th>\n",
       "    </tr>\n",
       "  </thead>\n",
       "  <tbody>\n",
       "    <tr>\n",
       "      <th>0</th>\n",
       "      <td>0</td>\n",
       "      <td>4064</td>\n",
       "      <td>[159.39, 3.0, 135.0, 0.0, 0.0, 7.0, 11.0]</td>\n",
       "      <td>[4106, 4446, 1, 3823, 4783, 740, 1906, 4091, 4...</td>\n",
       "    </tr>\n",
       "    <tr>\n",
       "      <th>1</th>\n",
       "      <td>1</td>\n",
       "      <td>193</td>\n",
       "      <td>[1284.228, 123.75, 4.95, 48.51, 136.62, 168.3,...</td>\n",
       "      <td>[1118, 1, 3823, 4783, 740, 1906, 4091, 4177, 3...</td>\n",
       "    </tr>\n",
       "    <tr>\n",
       "      <th>2</th>\n",
       "      <td>2</td>\n",
       "      <td>1023</td>\n",
       "      <td>[412.0, 22.0, 4.95, 19.8, 35.64, 29.0, 16.83]</td>\n",
       "      <td>[105, 1118, 0, 4446, 3823, 4783, 740, 1906, 40...</td>\n",
       "    </tr>\n",
       "    <tr>\n",
       "      <th>3</th>\n",
       "      <td>3</td>\n",
       "      <td>1089</td>\n",
       "      <td>[778.4, 46.0, 83.16, 53.46, 158.4, 45.54, 12.87]</td>\n",
       "      <td>[1118, 0, 4446, 1, 773, 4468, 976, 3050, 4026,...</td>\n",
       "    </tr>\n",
       "    <tr>\n",
       "      <th>4</th>\n",
       "      <td>4</td>\n",
       "      <td>1418</td>\n",
       "      <td>[1642.6, 83.0, 58.41, 40.0, 212.85, 64.0, 46.0]</td>\n",
       "      <td>[1821, 1118, 0, 4446, 1, 3823, 4783, 740, 1906...</td>\n",
       "    </tr>\n",
       "    <tr>\n",
       "      <th>...</th>\n",
       "      <td>...</td>\n",
       "      <td>...</td>\n",
       "      <td>...</td>\n",
       "      <td>...</td>\n",
       "    </tr>\n",
       "    <tr>\n",
       "      <th>951</th>\n",
       "      <td>995</td>\n",
       "      <td>465</td>\n",
       "      <td>[191.961, 17.82, 46.0, 76.0, 5.0, 36.63, 6.0]</td>\n",
       "      <td>[397, 1118, 0, 4446, 1, 3823, 4783, 740, 1906,...</td>\n",
       "    </tr>\n",
       "    <tr>\n",
       "      <th>952</th>\n",
       "      <td>996</td>\n",
       "      <td>1646</td>\n",
       "      <td>[729.2, 36.0, 198.0, 13.0, 28.71, 46.0, 37.62]</td>\n",
       "      <td>[1118, 0, 4446, 1, 3823, 4783, 740, 1906, 4091...</td>\n",
       "    </tr>\n",
       "    <tr>\n",
       "      <th>953</th>\n",
       "      <td>997</td>\n",
       "      <td>2355</td>\n",
       "      <td>[1022.0760000000001, 65.0, 274.0, 176.22, 142....</td>\n",
       "      <td>[1665, 1118, 0, 4446, 1, 3823, 4783, 740, 1906...</td>\n",
       "    </tr>\n",
       "    <tr>\n",
       "      <th>954</th>\n",
       "      <td>998</td>\n",
       "      <td>647</td>\n",
       "      <td>[3750.12, 509.85, 341.0, 97.0, 186.12, 177.0, ...</td>\n",
       "      <td>[1118, 0, 4446, 1, 3823, 4783, 740, 1906, 4091...</td>\n",
       "    </tr>\n",
       "    <tr>\n",
       "      <th>955</th>\n",
       "      <td>999</td>\n",
       "      <td>2274</td>\n",
       "      <td>[634.59, 26.73, 170.28, 78.21, 44.0, 20.0, 23....</td>\n",
       "      <td>[1118, 0, 4446, 1, 3823, 4783, 740, 1906, 4091...</td>\n",
       "    </tr>\n",
       "  </tbody>\n",
       "</table>\n",
       "<p>956 rows × 4 columns</p>\n",
       "</div>"
      ],
      "text/plain": [
       "     user  hist                                             target  \\\n",
       "0       0  4064          [159.39, 3.0, 135.0, 0.0, 0.0, 7.0, 11.0]   \n",
       "1       1   193  [1284.228, 123.75, 4.95, 48.51, 136.62, 168.3,...   \n",
       "2       2  1023      [412.0, 22.0, 4.95, 19.8, 35.64, 29.0, 16.83]   \n",
       "3       3  1089   [778.4, 46.0, 83.16, 53.46, 158.4, 45.54, 12.87]   \n",
       "4       4  1418    [1642.6, 83.0, 58.41, 40.0, 212.85, 64.0, 46.0]   \n",
       "..    ...   ...                                                ...   \n",
       "951   995   465      [191.961, 17.82, 46.0, 76.0, 5.0, 36.63, 6.0]   \n",
       "952   996  1646     [729.2, 36.0, 198.0, 13.0, 28.71, 46.0, 37.62]   \n",
       "953   997  2355  [1022.0760000000001, 65.0, 274.0, 176.22, 142....   \n",
       "954   998   647  [3750.12, 509.85, 341.0, 97.0, 186.12, 177.0, ...   \n",
       "955   999  2274  [634.59, 26.73, 170.28, 78.21, 44.0, 20.0, 23....   \n",
       "\n",
       "                                             item list  \n",
       "0    [4106, 4446, 1, 3823, 4783, 740, 1906, 4091, 4...  \n",
       "1    [1118, 1, 3823, 4783, 740, 1906, 4091, 4177, 3...  \n",
       "2    [105, 1118, 0, 4446, 3823, 4783, 740, 1906, 40...  \n",
       "3    [1118, 0, 4446, 1, 773, 4468, 976, 3050, 4026,...  \n",
       "4    [1821, 1118, 0, 4446, 1, 3823, 4783, 740, 1906...  \n",
       "..                                                 ...  \n",
       "951  [397, 1118, 0, 4446, 1, 3823, 4783, 740, 1906,...  \n",
       "952  [1118, 0, 4446, 1, 3823, 4783, 740, 1906, 4091...  \n",
       "953  [1665, 1118, 0, 4446, 1, 3823, 4783, 740, 1906...  \n",
       "954  [1118, 0, 4446, 1, 3823, 4783, 740, 1906, 4091...  \n",
       "955  [1118, 0, 4446, 1, 3823, 4783, 740, 1906, 4091...  \n",
       "\n",
       "[956 rows x 4 columns]"
      ]
     },
     "execution_count": 13,
     "metadata": {},
     "output_type": "execute_result"
    }
   ],
   "source": [
    "pd.read_csv(result_path + 'SVD_TF_' + file_name + \".csv\")"
   ]
  },
  {
   "cell_type": "code",
   "execution_count": null,
   "id": "6a900f2d",
   "metadata": {},
   "outputs": [],
   "source": []
  }
 ],
 "metadata": {
  "kernelspec": {
   "display_name": "Python 3 (ipykernel)",
   "language": "python",
   "name": "python3"
  },
  "language_info": {
   "codemirror_mode": {
    "name": "ipython",
    "version": 3
   },
   "file_extension": ".py",
   "mimetype": "text/x-python",
   "name": "python",
   "nbconvert_exporter": "python",
   "pygments_lexer": "ipython3",
   "version": "3.8.5"
  }
 },
 "nbformat": 4,
 "nbformat_minor": 5
}
