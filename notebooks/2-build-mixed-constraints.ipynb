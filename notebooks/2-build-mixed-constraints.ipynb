{
 "cells": [
  {
   "cell_type": "code",
   "execution_count": 1,
   "id": "fa5d0112",
   "metadata": {},
   "outputs": [],
   "source": [
    "import pandas as pd"
   ]
  },
  {
   "cell_type": "code",
   "execution_count": 32,
   "id": "7a6b3cf9",
   "metadata": {},
   "outputs": [],
   "source": [
    "# constants\n",
    "# file path\n",
    "input_path = '../data/'\n",
    "output_path = '../data/'\n",
    "\n",
    "# number of dataset of each type of constraint\n",
    "const_num = 3\n",
    "\n",
    "# size\n",
    "user_max = 1000\n",
    "item_max = 5000\n",
    "\n",
    "# anchors\n",
    "anc = [x*(user_max/8) for x in range (0, 9)]\n",
    "\n",
    "# constraint column names\n",
    "ul_name = 'u'\n",
    "i1_name = 'i1'\n",
    "i2_name = 'i2'\n",
    "nl_name = 'nl'"
   ]
  },
  {
   "cell_type": "code",
   "execution_count": 37,
   "id": "7b3f9d69",
   "metadata": {},
   "outputs": [],
   "source": [
    "def read_cnst(const_num):\n",
    "    const1 = pd.read_csv(input_path + 'const_1.' + str(const_num) + '.csv', index_col = 'u')\n",
    "    const2 = pd.read_csv(input_path + 'const_2.' + str(const_num) + '.csv', index_col = 'u')\n",
    "    const3 = pd.read_csv(input_path + 'const_3.' + str(const_num) + '.csv', index_col = 'u')\n",
    "    return const1, const2, const3"
   ]
  },
  {
   "cell_type": "code",
   "execution_count": 42,
   "id": "6757070f",
   "metadata": {},
   "outputs": [],
   "source": [
    "def make_cnst(const_num, const1, const2, const3):\n",
    "    ul = []\n",
    "    i1 = []\n",
    "    i2 = []\n",
    "    nl = []\n",
    "\n",
    "    for u in range(int(anc[0]), int(anc[1])):\n",
    "        ul.append(u)\n",
    "        i1.append(const1.iloc[u].i1)\n",
    "        i2.append(None)\n",
    "        nl.append(None)\n",
    "\n",
    "    for u in range(int(anc[1]), int(anc[2])):\n",
    "        ul.append(u)\n",
    "        i1.append(None)\n",
    "        i2.append(const2.iloc[u].i2)\n",
    "        nl.append(None)\n",
    "\n",
    "    for u in range(int(anc[2]), int(anc[3])):\n",
    "        ul.append(u)\n",
    "        i1.append(None)\n",
    "        i2.append(None)\n",
    "        nl.append(const3.iloc[u].nl)\n",
    "\n",
    "    for u in range(int(anc[3]), int(anc[4])):\n",
    "        ul.append(u)\n",
    "        i1.append(const1.iloc[u].i1)\n",
    "        i2.append(const2.iloc[u].i2)\n",
    "        nl.append(None)\n",
    "\n",
    "    for u in range(int(anc[4]), int(anc[5])):\n",
    "        ul.append(u)\n",
    "        i1.append(None)\n",
    "        i2.append(const2.iloc[u].i2)\n",
    "        nl.append(const3.iloc[u].nl)\n",
    "\n",
    "    for u in range(int(anc[5]), int(anc[6])):\n",
    "        ul.append(u)\n",
    "        i1.append(const1.iloc[u].i1)\n",
    "        i2.append(None)\n",
    "        nl.append(const3.iloc[u].nl)\n",
    "\n",
    "    for u in range(int(anc[6]), int(anc[7])):\n",
    "        ul.append(u)\n",
    "        i1.append(const1.iloc[u].i1)\n",
    "        i2.append(const2.iloc[u].i2)\n",
    "        nl.append(const3.iloc[u].nl)\n",
    "\n",
    "    for u in range(int(anc[7]), int(anc[8])):\n",
    "        ul.append(u)\n",
    "        i1.append(None)\n",
    "        i2.append(None)\n",
    "        nl.append(None)\n",
    "\n",
    "\n",
    "    data = {\n",
    "        ul_name: ul,\n",
    "        i1_name: i1,\n",
    "        i2_name: i2,\n",
    "        nl_name: nl\n",
    "    }\n",
    "\n",
    "    df = pd.DataFrame(data)\n",
    "    df.to_csv(output_path + 'const.' + str(const_num) + '.csv', index = False)\n",
    "    return df"
   ]
  },
  {
   "cell_type": "code",
   "execution_count": 43,
   "id": "6348b91c",
   "metadata": {},
   "outputs": [],
   "source": [
    "for i in range (1, const_num+1):\n",
    "    a, b, c = read_cnst(i)\n",
    "    make_cnst(i, a, b, c)"
   ]
  }
 ],
 "metadata": {
  "kernelspec": {
   "display_name": "research1",
   "language": "python",
   "name": "research1"
  },
  "language_info": {
   "codemirror_mode": {
    "name": "ipython",
    "version": 3
   },
   "file_extension": ".py",
   "mimetype": "text/x-python",
   "name": "python",
   "nbconvert_exporter": "python",
   "pygments_lexer": "ipython3",
   "version": "3.8.12"
  }
 },
 "nbformat": 4,
 "nbformat_minor": 5
}
