{
 "cells": [
  {
   "cell_type": "code",
   "execution_count": 1,
   "id": "ac9415ea",
   "metadata": {
    "scrolled": true
   },
   "outputs": [],
   "source": [
    "import pandas as pd"
   ]
  },
  {
   "cell_type": "code",
   "execution_count": 44,
   "id": "728c8e6c",
   "metadata": {},
   "outputs": [],
   "source": [
    "from surprise import SVD\n",
    "from surprise import Reader\n",
    "from surprise import Dataset\n",
    "from surprise.model_selection import train_test_split\n",
    "from surprise.model_selection import cross_validate\n",
    "from surprise import accuracy\n",
    "from surprise.model_selection import GridSearchCV"
   ]
  },
  {
   "cell_type": "code",
   "execution_count": 25,
   "id": "60d1c4ca",
   "metadata": {},
   "outputs": [],
   "source": [
    "file_path = '../data/rating_data.csv'"
   ]
  },
  {
   "cell_type": "code",
   "execution_count": 26,
   "id": "6f6cf885",
   "metadata": {},
   "outputs": [],
   "source": [
    "reader = Reader(line_format='user item rating', sep=',', rating_scale=(0, 5))\n",
    "data = Dataset.load_from_file(file_path, reader = reader)"
   ]
  },
  {
   "cell_type": "code",
   "execution_count": 27,
   "id": "ac59b1e1",
   "metadata": {},
   "outputs": [],
   "source": [
    "# split train set and test set\n",
    "train_set, test_set = train_test_split(data, test_size=0.25)"
   ]
  },
  {
   "cell_type": "code",
   "execution_count": 28,
   "id": "9182cfe0",
   "metadata": {},
   "outputs": [],
   "source": [
    "# use SVD algorithm\n",
    "algo = SVD()"
   ]
  },
  {
   "cell_type": "code",
   "execution_count": 29,
   "id": "cb36d790",
   "metadata": {},
   "outputs": [
    {
     "data": {
      "text/plain": [
       "<surprise.prediction_algorithms.matrix_factorization.SVD at 0x148053dc100>"
      ]
     },
     "execution_count": 29,
     "metadata": {},
     "output_type": "execute_result"
    }
   ],
   "source": [
    "# train\n",
    "algo.fit(train_set)"
   ]
  },
  {
   "cell_type": "code",
   "execution_count": 30,
   "id": "2bf39b10",
   "metadata": {},
   "outputs": [],
   "source": [
    "# predict rating for test set\n",
    "predictions = algo.test(test_set)"
   ]
  },
  {
   "cell_type": "code",
   "execution_count": 31,
   "id": "9f8030fc",
   "metadata": {},
   "outputs": [
    {
     "name": "stdout",
     "output_type": "stream",
     "text": [
      "[('1878242', '110140', 4.780281933695378), ('674022', '130820', 4.6866340843197705), ('2002194188', '278274', 4.21106584432967), ('236933', '103060', 4.851216356497362), ('1636975', '499913', 4.4895781627667875)]\n"
     ]
    }
   ],
   "source": [
    "# prediction for all test set\n",
    "result = [(pred.uid, pred.iid, pred.est) for pred in predictions[:5]]\n",
    "print(result)"
   ]
  },
  {
   "cell_type": "code",
   "execution_count": 32,
   "id": "61fc4f03",
   "metadata": {},
   "outputs": [
    {
     "name": "stdout",
     "output_type": "stream",
     "text": [
      "user: 2828658    item: 26339      r_ui = None   est = 4.25   {'was_impossible': False}\n"
     ]
    }
   ],
   "source": [
    "# prediction for certain user - item interationc\n",
    "uid = str(2828658)\n",
    "iid = str(26339)\n",
    "\n",
    "pred = algo.predict(uid, iid)\n",
    "print(pred)"
   ]
  },
  {
   "cell_type": "code",
   "execution_count": 34,
   "id": "9b2bd74c",
   "metadata": {},
   "outputs": [
    {
     "name": "stdout",
     "output_type": "stream",
     "text": [
      "RMSE: 1.2173\n"
     ]
    },
    {
     "data": {
      "text/plain": [
       "1.217326828315341"
      ]
     },
     "execution_count": 34,
     "metadata": {},
     "output_type": "execute_result"
    }
   ],
   "source": [
    "# compute RMSE\n",
    "accuracy.rmse(predictions)"
   ]
  },
  {
   "cell_type": "code",
   "execution_count": 37,
   "id": "6255978b",
   "metadata": {},
   "outputs": [
    {
     "name": "stdout",
     "output_type": "stream",
     "text": [
      "Evaluating RMSE, MAE of algorithm SVD on 5 split(s).\n",
      "\n",
      "                  Fold 1  Fold 2  Fold 3  Fold 4  Fold 5  Mean    Std     \n",
      "RMSE (testset)    1.2195  1.2232  1.2159  1.2197  1.2237  1.2204  0.0028  \n",
      "MAE (testset)     0.7379  0.7415  0.7374  0.7398  0.7418  0.7397  0.0018  \n",
      "Fit time          158.42  142.04  157.71  148.47  146.84  150.70  6.38    \n",
      "Test time         4.30    4.48    4.53    5.96    4.51    4.76    0.61    \n"
     ]
    },
    {
     "data": {
      "text/plain": [
       "{'test_rmse': array([1.21945831, 1.22317259, 1.21594174, 1.21971801, 1.22373999]),\n",
       " 'test_mae': array([0.737869  , 0.74149174, 0.73743633, 0.73980366, 0.74181717]),\n",
       " 'fit_time': (158.42019271850586,\n",
       "  142.0373420715332,\n",
       "  157.71310329437256,\n",
       "  148.46589350700378,\n",
       "  146.8419542312622),\n",
       " 'test_time': (4.303532838821411,\n",
       "  4.482123613357544,\n",
       "  4.533873796463013,\n",
       "  5.957058906555176,\n",
       "  4.507996559143066)}"
      ]
     },
     "execution_count": 37,
     "metadata": {},
     "output_type": "execute_result"
    }
   ],
   "source": [
    "# cross_validate\n",
    "cross_validate(algo, data, measures=['RMSE', \"MAE\"], cv=5, verbose=True)"
   ]
  },
  {
   "cell_type": "code",
   "execution_count": 41,
   "id": "f33787da",
   "metadata": {},
   "outputs": [],
   "source": [
    "# GridSearch - tuning hyperparameters\n",
    "param_grid = {'n_epochs':[20, 40]}\n",
    "grid = GridSearchCV(SVD, param_grid=param_grid, measures=['rmse', 'mae'], cv=3)"
   ]
  },
  {
   "cell_type": "code",
   "execution_count": 42,
   "id": "79d4fb31",
   "metadata": {},
   "outputs": [],
   "source": [
    "grid.fit(data)"
   ]
  },
  {
   "cell_type": "code",
   "execution_count": 43,
   "id": "78728647",
   "metadata": {
    "scrolled": true
   },
   "outputs": [
    {
     "name": "stdout",
     "output_type": "stream",
     "text": [
      "1.2220635221476295\n",
      "{'n_epochs': 20}\n"
     ]
    }
   ],
   "source": [
    "print(grid.best_score['rmse'])\n",
    "print(grid.best_params['rmse'])"
   ]
  }
 ],
 "metadata": {
  "kernelspec": {
   "display_name": "Python 3 (ipykernel)",
   "language": "python",
   "name": "python3"
  },
  "language_info": {
   "codemirror_mode": {
    "name": "ipython",
    "version": 3
   },
   "file_extension": ".py",
   "mimetype": "text/x-python",
   "name": "python",
   "nbconvert_exporter": "python",
   "pygments_lexer": "ipython3",
   "version": "3.8.5"
  }
 },
 "nbformat": 4,
 "nbformat_minor": 5
}
