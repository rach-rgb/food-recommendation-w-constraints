{
 "cells": [
  {
   "cell_type": "code",
   "execution_count": 1,
   "id": "0120ec20",
   "metadata": {},
   "outputs": [],
   "source": [
    "import pandas as pd\n",
    "from sys import path\n",
    "from surprise import accuracy"
   ]
  },
  {
   "cell_type": "code",
   "execution_count": 2,
   "id": "aa89a348",
   "metadata": {},
   "outputs": [],
   "source": [
    "path.append('../code/src')"
   ]
  },
  {
   "cell_type": "markdown",
   "id": "8eef7456",
   "metadata": {},
   "source": [
    "## RMSE of inter_rec"
   ]
  },
  {
   "cell_type": "code",
   "execution_count": 3,
   "id": "c112b321",
   "metadata": {},
   "outputs": [],
   "source": [
    "import inter_rec\n",
    "import load_data as ld\n",
    "import TF_algo"
   ]
  },
  {
   "cell_type": "code",
   "execution_count": 4,
   "id": "64420ed1",
   "metadata": {},
   "outputs": [],
   "source": [
    "# constants\n",
    "# file path\n",
    "input_path = \"../data/\"\n",
    "output_path = '../result/'\n",
    "\n",
    "# user/item max\n",
    "user_max = 1000\n",
    "food_max = 5000\n",
    "\n",
    "# const count\n",
    "const_count = 3"
   ]
  },
  {
   "cell_type": "code",
   "execution_count": 5,
   "id": "99a51249",
   "metadata": {},
   "outputs": [],
   "source": [
    "def run_model_RMSE(ctype, idx):\n",
    "    # PostRec applies constraint after the rating of each item is predicted\n",
    "    rec = inter_rec.InterRec(input_path +'reduced_rating_data.csv', input_path + 'recipe_data.csv', \n",
    "                           input_path + 'const_' + str(ctype) + '.' + str(idx) + '.csv', \n",
    "                            TF_algo.SVDtf(), split = True)\n",
    "    rec.get_data()  # get rating, attribute, recipe data\n",
    "    rec.train()  # train with data\n",
    "    predict = rec.test_rmse()  # predict splitted test set\n",
    "    \n",
    "    return accuracy.rmse(predict) "
   ]
  },
  {
   "cell_type": "markdown",
   "id": "b648ad56",
   "metadata": {},
   "source": [
    "### Constraint 1"
   ]
  },
  {
   "cell_type": "code",
   "execution_count": 8,
   "id": "86ecfad5",
   "metadata": {},
   "outputs": [
    {
     "name": "stdout",
     "output_type": "stream",
     "text": [
      "RMSE: 4.5465\n",
      "Done:  1\n",
      "RMSE: 4.5443\n",
      "Done:  2\n",
      "RMSE: 4.5402\n",
      "Done:  3\n"
     ]
    }
   ],
   "source": [
    "inter_ret1 = []\n",
    "for i in range (0, const_count):\n",
    "    inter_ret1.append(run_model_RMSE(1, i+1))\n",
    "    print(\"Done: \", i + 1)"
   ]
  },
  {
   "cell_type": "code",
   "execution_count": 9,
   "id": "e00bc935",
   "metadata": {},
   "outputs": [
    {
     "name": "stdout",
     "output_type": "stream",
     "text": [
      "[4.546503991279597, 4.544257249376269, 4.54016207670742]\n",
      "4.543641105787762\n"
     ]
    }
   ],
   "source": [
    "print(inter_ret1)\n",
    "print(sum(inter_ret1)/3)"
   ]
  },
  {
   "cell_type": "code",
   "execution_count": null,
   "id": "3f1262fb",
   "metadata": {},
   "outputs": [],
   "source": []
  }
 ],
 "metadata": {
  "kernelspec": {
   "display_name": "research1",
   "language": "python",
   "name": "research1"
  },
  "language_info": {
   "codemirror_mode": {
    "name": "ipython",
    "version": 3
   },
   "file_extension": ".py",
   "mimetype": "text/x-python",
   "name": "python",
   "nbconvert_exporter": "python",
   "pygments_lexer": "ipython3",
   "version": "3.8.12"
  }
 },
 "nbformat": 4,
 "nbformat_minor": 5
}
