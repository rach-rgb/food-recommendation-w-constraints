{
 "cells": [
  {
   "cell_type": "code",
   "execution_count": 1,
   "id": "caa049bc",
   "metadata": {},
   "outputs": [],
   "source": [
    "# import modules\n",
    "import copy\n",
    "import time\n",
    "from sys import path\n",
    "from collections import defaultdict"
   ]
  },
  {
   "cell_type": "code",
   "execution_count": 2,
   "id": "7c6bf895",
   "metadata": {},
   "outputs": [],
   "source": [
    "import pandas as pd\n",
    "from surprise import SVD, Reader, Dataset, accuracy\n",
    "from surprise.model_selection import train_test_split\n",
    "from surprise.prediction_algorithms.predictions import Prediction"
   ]
  },
  {
   "cell_type": "code",
   "execution_count": 3,
   "id": "768abc36",
   "metadata": {},
   "outputs": [],
   "source": [
    "path.append('../code/src')"
   ]
  },
  {
   "cell_type": "code",
   "execution_count": 4,
   "id": "11dad818",
   "metadata": {},
   "outputs": [],
   "source": [
    "import svd_constraint\n",
    "from post_rec import PostRec\n",
    "from inter_rec import InterRec\n",
    "from evaluate import Evaluation as ev"
   ]
  },
  {
   "cell_type": "code",
   "execution_count": 5,
   "id": "17bbc840",
   "metadata": {},
   "outputs": [],
   "source": [
    "# constants\n",
    "# file path\n",
    "input_path = \"../data/\"\n",
    "output_path = '../result/'\n",
    "rate_file = 'reduced_rating_data.csv'\n",
    "attr_file = 'recipe_data.csv'\n",
    "\n",
    "# user/item max\n",
    "user_max = 1000\n",
    "food_max = 5000\n",
    "\n",
    "# const count\n",
    "const_count = 3"
   ]
  },
  {
   "cell_type": "code",
   "execution_count": 6,
   "id": "89168bd3",
   "metadata": {},
   "outputs": [],
   "source": [
    "# Dictionary keys\n",
    "rs2 = 'Post-Single-'\n",
    "rs3 = 'Inter-Single-'\n",
    "rs4 = 'Post-Mixed'\n",
    "rs5 = 'Inter-Mixed'\n",
    "val_r1 = 'RMSE'\n",
    "val_r2 = 'RMSE_filter'"
   ]
  },
  {
   "cell_type": "code",
   "execution_count": 7,
   "id": "9e2968ee",
   "metadata": {},
   "outputs": [],
   "source": [
    "val_dict = {\n",
    "    val_r1: 0,\n",
    "    val_r2: 0\n",
    "}\n",
    "\n",
    "keys = []\n",
    "keys = keys + [rs2 + str(i) for i in range (1, 4)]\n",
    "keys = keys + [rs3 + str(i) for i in range (1, 4)]\n",
    "keys = keys + [rs4]\n",
    "keys = keys + [rs5]\n",
    "\n",
    "result = {key: copy.deepcopy(val_dict) for key in keys}"
   ]
  },
  {
   "cell_type": "code",
   "execution_count": null,
   "id": "84521431",
   "metadata": {
    "scrolled": true
   },
   "outputs": [],
   "source": [
    "# read previous result\n",
    "result_df = pd.read_csv(output_path + 'evaluation_rmse.csv', index_col = 0).transpose()\n",
    "result.update(result_df.to_dict())\n",
    "result"
   ]
  },
  {
   "cell_type": "markdown",
   "id": "237ae21e",
   "metadata": {},
   "source": [
    "# Post-Rec Single"
   ]
  },
  {
   "cell_type": "code",
   "execution_count": 10,
   "id": "9ab4fe87",
   "metadata": {},
   "outputs": [],
   "source": [
    "def run_post_single(ctype, idx):    \n",
    "    # PostRec applies constraint after the rating of each item is predicted\n",
    "    rec = PostRec(input_path + rate_file, input_path + attr_file, \n",
    "                           input_path + 'const_' + str(ctype) + '.' + str(idx) + '.csv',\n",
    "                            need_test = True)\n",
    "    \n",
    "    rec.get_data()  # get rating, attribute, recipe data\n",
    "    rec.train()  \n",
    "\n",
    "    # predict rating for test-set\n",
    "    predict_test = rec.test_rmse()\n",
    "    filtered = rec.filter_set(predict_test)\n",
    "    \n",
    "    r1 = ev.calculate_rmse(predict_test)\n",
    "    r2 = ev.calculate_rmse(filtered)\n",
    "     \n",
    "    return r1, r2"
   ]
  },
  {
   "cell_type": "code",
   "execution_count": 11,
   "id": "72f0af88",
   "metadata": {},
   "outputs": [
    {
     "name": "stdout",
     "output_type": "stream",
     "text": [
      "Const_1.1 done\n",
      "Const_1.2 done\n",
      "Const_1.3 done\n",
      "Const_2.1 done\n",
      "Const_2.2 done\n",
      "Const_2.3 done\n",
      "Const_3.1 done\n",
      "Const_3.2 done\n",
      "Const_3.3 done\n"
     ]
    }
   ],
   "source": [
    "for i in range (1, 4):\n",
    "    r1_sum = 0\n",
    "    r2_sum = 0\n",
    "    for j in range (1, const_count + 1):\n",
    "        r1, r2 = run_post_single(i, j)\n",
    "        r1_sum = r1_sum + r1\n",
    "        r2_sum = r2_sum + r2\n",
    "        print('Const_'+str(i)+'.'+str(j)+\" done\")\n",
    "        \n",
    "    result[rs2+str(i)][val_r1] = r1_sum/const_count\n",
    "    result[rs2+str(i)][val_r2] = r2_sum/const_count"
   ]
  },
  {
   "cell_type": "markdown",
   "id": "5bbd22bf",
   "metadata": {},
   "source": [
    "# Inter-Rec Single"
   ]
  },
  {
   "cell_type": "code",
   "execution_count": 13,
   "id": "cac22fb8",
   "metadata": {},
   "outputs": [],
   "source": [
    "def run_inter_single(ctype, idx):    \n",
    "    # PostRec applies constraint after the rating of each item is predicted\n",
    "    rec = InterRec(input_path + rate_file, input_path + attr_file, \n",
    "                           input_path + 'const_' + str(ctype) + '.' + str(idx) + '.csv', \n",
    "                            svd_constraint.CnstSVD(), need_test = True)\n",
    "\n",
    "    rec.get_data()  # get rating, attribute, recipe data\n",
    "    rec.train()  \n",
    "\n",
    "    # predict rating for test-set\n",
    "    predict_test = rec.test_rmse()\n",
    "    filtered = rec.filter_set(predict_test)\n",
    "    \n",
    "    r1 = ev.calculate_rmse(predict_test)\n",
    "    r2 = ev.calculate_rmse(filtered)\n",
    "     \n",
    "    return r1, r2"
   ]
  },
  {
   "cell_type": "code",
   "execution_count": 14,
   "id": "bf523b83",
   "metadata": {},
   "outputs": [
    {
     "name": "stdout",
     "output_type": "stream",
     "text": [
      "Const_1.1 done\n",
      "Const_1.2 done\n",
      "Const_1.3 done\n",
      "Const_2.1 done\n",
      "Const_2.2 done\n",
      "Const_2.3 done\n",
      "Const_3.1 done\n",
      "Const_3.2 done\n",
      "Const_3.3 done\n"
     ]
    }
   ],
   "source": [
    "for i in range (1, 4):\n",
    "    r1_sum = 0\n",
    "    r2_sum = 0\n",
    "    for j in range (1, const_count + 1): \n",
    "        r1, r2 = run_inter_single(i, j)\n",
    "        r1_sum = r1_sum + r1\n",
    "        r2_sum = r2_sum + r2\n",
    "        print('Const_'+str(i)+'.'+str(j)+\" done\")\n",
    "        \n",
    "    result[rs3+str(i)][val_r1] = r1_sum/const_count\n",
    "    result[rs3+str(i)][val_r2] = r2_sum/const_count"
   ]
  },
  {
   "cell_type": "markdown",
   "id": "3106b3c5",
   "metadata": {},
   "source": [
    "# Post-Rec Mixed"
   ]
  },
  {
   "cell_type": "code",
   "execution_count": 16,
   "id": "cf31ca0f",
   "metadata": {},
   "outputs": [],
   "source": [
    "def run_post(idx):    \n",
    "    # PostRec applies constraint after the rating of each item is predicted\n",
    "    rec = PostRec(input_path + rate_file, input_path + attr_file, \n",
    "                           input_path + 'const' + '.' + str(idx) + '.csv',\n",
    "                            need_test = True)\n",
    "    \n",
    "    rec.get_data()  # get rating, attribute, recipe data\n",
    "    rec.train()  \n",
    "\n",
    "    # predict rating for test-set\n",
    "    predict_test = rec.test_rmse()\n",
    "    filtered = rec.filter_set(predict_test)\n",
    "    \n",
    "    r1 = ev.calculate_rmse(predict_test)\n",
    "    r2 = ev.calculate_rmse(filtered)\n",
    "     \n",
    "    return r1, r2"
   ]
  },
  {
   "cell_type": "code",
   "execution_count": 17,
   "id": "0e1063ad",
   "metadata": {},
   "outputs": [
    {
     "name": "stdout",
     "output_type": "stream",
     "text": [
      "Const.1 done\n",
      "Const.2 done\n",
      "Const.3 done\n"
     ]
    }
   ],
   "source": [
    "r1_sum = 0\n",
    "r2_sum = 0\n",
    "for j in range (1, const_count + 1):\n",
    "    r1, r2  = run_post(j)\n",
    "    r1_sum = r1_sum + r1\n",
    "    r2_sum = r2_sum + r2\n",
    "    print('Const'+'.'+str(j)+\" done\")\n",
    "\n",
    "result[rs4][val_r1] = r1_sum/const_count\n",
    "result[rs4][val_r2] = r2_sum/const_count"
   ]
  },
  {
   "cell_type": "markdown",
   "id": "b4c44cf4",
   "metadata": {},
   "source": [
    "# Inter-Rec Mixed"
   ]
  },
  {
   "cell_type": "code",
   "execution_count": 18,
   "id": "69a26136",
   "metadata": {},
   "outputs": [],
   "source": [
    "def run_inter(idx):    \n",
    "    # InterRec applies constraint during the rating of each item is predicted\n",
    "    rec = InterRec(input_path + rate_file, input_path + attr_file, \n",
    "                           input_path + 'const' + '.' + str(idx) + '.csv', \n",
    "                            svd_constraint.CnstSVD(), need_test = True)\n",
    "    \n",
    "    rec.get_data()  # get rating, attribute, recipe data\n",
    "    rec.train()  \n",
    "\n",
    "    # predict rating for test-set\n",
    "    predict_test = rec.test_rmse()\n",
    "    filtered = rec.filter_set(predict_test)\n",
    "    \n",
    "    r1 = ev.calculate_rmse(predict_test)\n",
    "    r2 = ev.calculate_rmse(filtered)\n",
    "     \n",
    "    return r1, r2"
   ]
  },
  {
   "cell_type": "code",
   "execution_count": 21,
   "id": "a5539a3f",
   "metadata": {},
   "outputs": [
    {
     "name": "stdout",
     "output_type": "stream",
     "text": [
      "Const.1 done\n",
      "Const.2 done\n",
      "Const.3 done\n"
     ]
    }
   ],
   "source": [
    "r1_sum = 0\n",
    "r2_sum = 0\n",
    "for j in range (1, const_count + 1):\n",
    "    r1, r2  = run_inter(j)\n",
    "    r1_sum = r1_sum + r1\n",
    "    r2_sum = r2_sum + r2\n",
    "    print('Const'+'.'+str(j)+\" done\")\n",
    "\n",
    "result[rs5][val_r1] = r1_sum/const_count\n",
    "result[rs5][val_r2] = r2_sum/const_count"
   ]
  },
  {
   "cell_type": "markdown",
   "id": "3be6a485",
   "metadata": {},
   "source": [
    "# result"
   ]
  },
  {
   "cell_type": "code",
   "execution_count": 15,
   "id": "22c7972e",
   "metadata": {},
   "outputs": [
    {
     "data": {
      "text/plain": [
       "{'Post-Single-1': {'RMSE': 4.592453002304395,\n",
       "  'RMSE_filter': 0.5287663497411557},\n",
       " 'Post-Single-2': {'RMSE': 0.9879374977136214,\n",
       "  'RMSE_filter': 0.7622853376587843},\n",
       " 'Post-Single-3': {'RMSE': 0.8401123859236184,\n",
       "  'RMSE_filter': 0.8383658016993903},\n",
       " 'Inter-Single-1': {'RMSE': 3.897424252227903,\n",
       "  'RMSE_filter': 0.5229552105203664},\n",
       " 'Inter-Single-2': {'RMSE': 0.9258899533820216,\n",
       "  'RMSE_filter': 0.7617867227228471},\n",
       " 'Inter-Single-3': {'RMSE': 0.8279185841737985,\n",
       "  'RMSE_filter': 0.8261491282428216},\n",
       " 'Post-Mixed': {'RMSE': 0, 'RMSE_filter': 0},\n",
       " 'Inter-Mixed': {'RMSE': 0, 'RMSE_filter': 0}}"
      ]
     },
     "execution_count": 15,
     "metadata": {},
     "output_type": "execute_result"
    }
   ],
   "source": [
    "result"
   ]
  },
  {
   "cell_type": "code",
   "execution_count": 22,
   "id": "220cb943",
   "metadata": {},
   "outputs": [
    {
     "data": {
      "text/html": [
       "<div>\n",
       "<style scoped>\n",
       "    .dataframe tbody tr th:only-of-type {\n",
       "        vertical-align: middle;\n",
       "    }\n",
       "\n",
       "    .dataframe tbody tr th {\n",
       "        vertical-align: top;\n",
       "    }\n",
       "\n",
       "    .dataframe thead th {\n",
       "        text-align: right;\n",
       "    }\n",
       "</style>\n",
       "<table border=\"1\" class=\"dataframe\">\n",
       "  <thead>\n",
       "    <tr style=\"text-align: right;\">\n",
       "      <th></th>\n",
       "      <th>RMSE</th>\n",
       "      <th>RMSE_filter</th>\n",
       "    </tr>\n",
       "  </thead>\n",
       "  <tbody>\n",
       "    <tr>\n",
       "      <th>Post-Single-1</th>\n",
       "      <td>4.592453</td>\n",
       "      <td>0.528766</td>\n",
       "    </tr>\n",
       "    <tr>\n",
       "      <th>Post-Single-2</th>\n",
       "      <td>0.987937</td>\n",
       "      <td>0.762285</td>\n",
       "    </tr>\n",
       "    <tr>\n",
       "      <th>Post-Single-3</th>\n",
       "      <td>0.840112</td>\n",
       "      <td>0.838366</td>\n",
       "    </tr>\n",
       "    <tr>\n",
       "      <th>Inter-Single-1</th>\n",
       "      <td>3.897424</td>\n",
       "      <td>0.522955</td>\n",
       "    </tr>\n",
       "    <tr>\n",
       "      <th>Inter-Single-2</th>\n",
       "      <td>0.925890</td>\n",
       "      <td>0.761787</td>\n",
       "    </tr>\n",
       "    <tr>\n",
       "      <th>Inter-Single-3</th>\n",
       "      <td>0.827919</td>\n",
       "      <td>0.826149</td>\n",
       "    </tr>\n",
       "    <tr>\n",
       "      <th>Post-Mixed</th>\n",
       "      <td>3.184157</td>\n",
       "      <td>0.768818</td>\n",
       "    </tr>\n",
       "    <tr>\n",
       "      <th>Inter-Mixed</th>\n",
       "      <td>2.755669</td>\n",
       "      <td>0.765353</td>\n",
       "    </tr>\n",
       "  </tbody>\n",
       "</table>\n",
       "</div>"
      ],
      "text/plain": [
       "                    RMSE  RMSE_filter\n",
       "Post-Single-1   4.592453     0.528766\n",
       "Post-Single-2   0.987937     0.762285\n",
       "Post-Single-3   0.840112     0.838366\n",
       "Inter-Single-1  3.897424     0.522955\n",
       "Inter-Single-2  0.925890     0.761787\n",
       "Inter-Single-3  0.827919     0.826149\n",
       "Post-Mixed      3.184157     0.768818\n",
       "Inter-Mixed     2.755669     0.765353"
      ]
     },
     "execution_count": 22,
     "metadata": {},
     "output_type": "execute_result"
    }
   ],
   "source": [
    "result_df = pd.DataFrame.from_dict(result, orient='index', columns=['RMSE', 'RMSE_filter'])\n",
    "result_df.to_csv(output_path + 'evaluation_rmse.csv')\n",
    "result_df"
   ]
  },
  {
   "cell_type": "code",
   "execution_count": null,
   "id": "0f3cefdb",
   "metadata": {},
   "outputs": [],
   "source": []
  }
 ],
 "metadata": {
  "kernelspec": {
   "display_name": "research1",
   "language": "python",
   "name": "research1"
  },
  "language_info": {
   "codemirror_mode": {
    "name": "ipython",
    "version": 3
   },
   "file_extension": ".py",
   "mimetype": "text/x-python",
   "name": "python",
   "nbconvert_exporter": "python",
   "pygments_lexer": "ipython3",
   "version": "3.8.12"
  }
 },
 "nbformat": 4,
 "nbformat_minor": 5
}
