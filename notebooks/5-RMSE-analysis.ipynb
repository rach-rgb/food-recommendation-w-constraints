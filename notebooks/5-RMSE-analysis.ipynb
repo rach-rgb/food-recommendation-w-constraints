{
 "cells": [
  {
   "cell_type": "code",
   "execution_count": 1,
   "id": "caa049bc",
   "metadata": {},
   "outputs": [],
   "source": [
    "# import modules\n",
    "import copy\n",
    "import time\n",
    "from sys import path\n",
    "from collections import defaultdict"
   ]
  },
  {
   "cell_type": "code",
   "execution_count": 2,
   "id": "7c6bf895",
   "metadata": {},
   "outputs": [],
   "source": [
    "import pandas as pd\n",
    "from surprise import SVD, Reader, Dataset, accuracy\n",
    "from surprise.model_selection import train_test_split"
   ]
  },
  {
   "cell_type": "code",
   "execution_count": 3,
   "id": "768abc36",
   "metadata": {},
   "outputs": [],
   "source": [
    "path.append('../code/src')"
   ]
  },
  {
   "cell_type": "code",
   "execution_count": 4,
   "id": "11dad818",
   "metadata": {},
   "outputs": [],
   "source": [
    "import svd_constraint\n",
    "from post_rec import PostRec\n",
    "from inter_rec import InterRec\n",
    "from evaluate import Evaluation as ev"
   ]
  },
  {
   "cell_type": "code",
   "execution_count": 5,
   "id": "17bbc840",
   "metadata": {},
   "outputs": [],
   "source": [
    "# constants\n",
    "# file path\n",
    "input_path = \"../data/\"\n",
    "output_path = '../result/'\n",
    "rate_file = 'reduced_rating_data.csv'\n",
    "attr_file = 'recipe_data.csv'\n",
    "\n",
    "# user/item max\n",
    "user_max = 1000\n",
    "food_max = 5000\n",
    "\n",
    "# const count\n",
    "const_count = 3"
   ]
  },
  {
   "cell_type": "code",
   "execution_count": 17,
   "id": "89168bd3",
   "metadata": {},
   "outputs": [],
   "source": [
    "# Dictionary keys\n",
    "rs2 = 'Post-Single-'\n",
    "rs3 = 'Inter-Single-'\n",
    "rs4 = 'Post-Mixed'\n",
    "rs5 = 'Inter-Mixed'\n",
    "val_r1 = 'RMSE_filter'\n",
    "val_r2 = 'nDCG(100)'\n",
    "val_r3 = 'nDCG(1000)'\n",
    "val_t1 = 'train time(s)'\n",
    "val_t2 = 'exec time(s)'"
   ]
  },
  {
   "cell_type": "code",
   "execution_count": 23,
   "id": "9e2968ee",
   "metadata": {},
   "outputs": [],
   "source": [
    "val_dict = {\n",
    "    val_r1: 0,\n",
    "    val_r2: 0,\n",
    "    val_r3: 0,\n",
    "    val_t1: 0,\n",
    "    val_t2: 0\n",
    "}\n",
    "\n",
    "keys = []\n",
    "keys = keys + [rs2 + str(i) for i in range (1, 4)]\n",
    "keys = keys + [rs3 + str(i) for i in range (1, 4)]\n",
    "keys = keys + [rs4]\n",
    "keys = keys + [rs5]\n",
    "\n",
    "result = {key: copy.deepcopy(val_dict) for key in keys}"
   ]
  },
  {
   "cell_type": "code",
   "execution_count": 24,
   "id": "84521431",
   "metadata": {
    "scrolled": true
   },
   "outputs": [
    {
     "ename": "FileNotFoundError",
     "evalue": "[Errno 2] No such file or directory: '../result/evaluation_adv.csv'",
     "output_type": "error",
     "traceback": [
      "\u001b[1;31m---------------------------------------------------------------------------\u001b[0m",
      "\u001b[1;31mFileNotFoundError\u001b[0m                         Traceback (most recent call last)",
      "\u001b[1;32m~\\AppData\\Local\\Temp/ipykernel_22968/1198241029.py\u001b[0m in \u001b[0;36m<module>\u001b[1;34m\u001b[0m\n\u001b[0;32m      1\u001b[0m \u001b[1;31m# read previous result\u001b[0m\u001b[1;33m\u001b[0m\u001b[1;33m\u001b[0m\u001b[1;33m\u001b[0m\u001b[0m\n\u001b[1;32m----> 2\u001b[1;33m \u001b[0mresult_df\u001b[0m \u001b[1;33m=\u001b[0m \u001b[0mpd\u001b[0m\u001b[1;33m.\u001b[0m\u001b[0mread_csv\u001b[0m\u001b[1;33m(\u001b[0m\u001b[0moutput_path\u001b[0m \u001b[1;33m+\u001b[0m \u001b[1;34m'evaluation_adv.csv'\u001b[0m\u001b[1;33m,\u001b[0m \u001b[0mindex_col\u001b[0m \u001b[1;33m=\u001b[0m \u001b[1;36m0\u001b[0m\u001b[1;33m)\u001b[0m\u001b[1;33m.\u001b[0m\u001b[0mtranspose\u001b[0m\u001b[1;33m(\u001b[0m\u001b[1;33m)\u001b[0m\u001b[1;33m\u001b[0m\u001b[1;33m\u001b[0m\u001b[0m\n\u001b[0m\u001b[0;32m      3\u001b[0m \u001b[0mresult\u001b[0m\u001b[1;33m.\u001b[0m\u001b[0mupdate\u001b[0m\u001b[1;33m(\u001b[0m\u001b[0mresult_df\u001b[0m\u001b[1;33m.\u001b[0m\u001b[0mto_dict\u001b[0m\u001b[1;33m(\u001b[0m\u001b[1;33m)\u001b[0m\u001b[1;33m)\u001b[0m\u001b[1;33m\u001b[0m\u001b[1;33m\u001b[0m\u001b[0m\n\u001b[0;32m      4\u001b[0m \u001b[0mresult\u001b[0m\u001b[1;33m\u001b[0m\u001b[1;33m\u001b[0m\u001b[0m\n",
      "\u001b[1;32m~\\.conda\\envs\\research1\\lib\\site-packages\\pandas\\util\\_decorators.py\u001b[0m in \u001b[0;36mwrapper\u001b[1;34m(*args, **kwargs)\u001b[0m\n\u001b[0;32m    309\u001b[0m                     \u001b[0mstacklevel\u001b[0m\u001b[1;33m=\u001b[0m\u001b[0mstacklevel\u001b[0m\u001b[1;33m,\u001b[0m\u001b[1;33m\u001b[0m\u001b[1;33m\u001b[0m\u001b[0m\n\u001b[0;32m    310\u001b[0m                 )\n\u001b[1;32m--> 311\u001b[1;33m             \u001b[1;32mreturn\u001b[0m \u001b[0mfunc\u001b[0m\u001b[1;33m(\u001b[0m\u001b[1;33m*\u001b[0m\u001b[0margs\u001b[0m\u001b[1;33m,\u001b[0m \u001b[1;33m**\u001b[0m\u001b[0mkwargs\u001b[0m\u001b[1;33m)\u001b[0m\u001b[1;33m\u001b[0m\u001b[1;33m\u001b[0m\u001b[0m\n\u001b[0m\u001b[0;32m    312\u001b[0m \u001b[1;33m\u001b[0m\u001b[0m\n\u001b[0;32m    313\u001b[0m         \u001b[1;32mreturn\u001b[0m \u001b[0mwrapper\u001b[0m\u001b[1;33m\u001b[0m\u001b[1;33m\u001b[0m\u001b[0m\n",
      "\u001b[1;32m~\\.conda\\envs\\research1\\lib\\site-packages\\pandas\\io\\parsers\\readers.py\u001b[0m in \u001b[0;36mread_csv\u001b[1;34m(filepath_or_buffer, sep, delimiter, header, names, index_col, usecols, squeeze, prefix, mangle_dupe_cols, dtype, engine, converters, true_values, false_values, skipinitialspace, skiprows, skipfooter, nrows, na_values, keep_default_na, na_filter, verbose, skip_blank_lines, parse_dates, infer_datetime_format, keep_date_col, date_parser, dayfirst, cache_dates, iterator, chunksize, compression, thousands, decimal, lineterminator, quotechar, quoting, doublequote, escapechar, comment, encoding, encoding_errors, dialect, error_bad_lines, warn_bad_lines, on_bad_lines, delim_whitespace, low_memory, memory_map, float_precision, storage_options)\u001b[0m\n\u001b[0;32m    584\u001b[0m     \u001b[0mkwds\u001b[0m\u001b[1;33m.\u001b[0m\u001b[0mupdate\u001b[0m\u001b[1;33m(\u001b[0m\u001b[0mkwds_defaults\u001b[0m\u001b[1;33m)\u001b[0m\u001b[1;33m\u001b[0m\u001b[1;33m\u001b[0m\u001b[0m\n\u001b[0;32m    585\u001b[0m \u001b[1;33m\u001b[0m\u001b[0m\n\u001b[1;32m--> 586\u001b[1;33m     \u001b[1;32mreturn\u001b[0m \u001b[0m_read\u001b[0m\u001b[1;33m(\u001b[0m\u001b[0mfilepath_or_buffer\u001b[0m\u001b[1;33m,\u001b[0m \u001b[0mkwds\u001b[0m\u001b[1;33m)\u001b[0m\u001b[1;33m\u001b[0m\u001b[1;33m\u001b[0m\u001b[0m\n\u001b[0m\u001b[0;32m    587\u001b[0m \u001b[1;33m\u001b[0m\u001b[0m\n\u001b[0;32m    588\u001b[0m \u001b[1;33m\u001b[0m\u001b[0m\n",
      "\u001b[1;32m~\\.conda\\envs\\research1\\lib\\site-packages\\pandas\\io\\parsers\\readers.py\u001b[0m in \u001b[0;36m_read\u001b[1;34m(filepath_or_buffer, kwds)\u001b[0m\n\u001b[0;32m    480\u001b[0m \u001b[1;33m\u001b[0m\u001b[0m\n\u001b[0;32m    481\u001b[0m     \u001b[1;31m# Create the parser.\u001b[0m\u001b[1;33m\u001b[0m\u001b[1;33m\u001b[0m\u001b[1;33m\u001b[0m\u001b[0m\n\u001b[1;32m--> 482\u001b[1;33m     \u001b[0mparser\u001b[0m \u001b[1;33m=\u001b[0m \u001b[0mTextFileReader\u001b[0m\u001b[1;33m(\u001b[0m\u001b[0mfilepath_or_buffer\u001b[0m\u001b[1;33m,\u001b[0m \u001b[1;33m**\u001b[0m\u001b[0mkwds\u001b[0m\u001b[1;33m)\u001b[0m\u001b[1;33m\u001b[0m\u001b[1;33m\u001b[0m\u001b[0m\n\u001b[0m\u001b[0;32m    483\u001b[0m \u001b[1;33m\u001b[0m\u001b[0m\n\u001b[0;32m    484\u001b[0m     \u001b[1;32mif\u001b[0m \u001b[0mchunksize\u001b[0m \u001b[1;32mor\u001b[0m \u001b[0miterator\u001b[0m\u001b[1;33m:\u001b[0m\u001b[1;33m\u001b[0m\u001b[1;33m\u001b[0m\u001b[0m\n",
      "\u001b[1;32m~\\.conda\\envs\\research1\\lib\\site-packages\\pandas\\io\\parsers\\readers.py\u001b[0m in \u001b[0;36m__init__\u001b[1;34m(self, f, engine, **kwds)\u001b[0m\n\u001b[0;32m    809\u001b[0m             \u001b[0mself\u001b[0m\u001b[1;33m.\u001b[0m\u001b[0moptions\u001b[0m\u001b[1;33m[\u001b[0m\u001b[1;34m\"has_index_names\"\u001b[0m\u001b[1;33m]\u001b[0m \u001b[1;33m=\u001b[0m \u001b[0mkwds\u001b[0m\u001b[1;33m[\u001b[0m\u001b[1;34m\"has_index_names\"\u001b[0m\u001b[1;33m]\u001b[0m\u001b[1;33m\u001b[0m\u001b[1;33m\u001b[0m\u001b[0m\n\u001b[0;32m    810\u001b[0m \u001b[1;33m\u001b[0m\u001b[0m\n\u001b[1;32m--> 811\u001b[1;33m         \u001b[0mself\u001b[0m\u001b[1;33m.\u001b[0m\u001b[0m_engine\u001b[0m \u001b[1;33m=\u001b[0m \u001b[0mself\u001b[0m\u001b[1;33m.\u001b[0m\u001b[0m_make_engine\u001b[0m\u001b[1;33m(\u001b[0m\u001b[0mself\u001b[0m\u001b[1;33m.\u001b[0m\u001b[0mengine\u001b[0m\u001b[1;33m)\u001b[0m\u001b[1;33m\u001b[0m\u001b[1;33m\u001b[0m\u001b[0m\n\u001b[0m\u001b[0;32m    812\u001b[0m \u001b[1;33m\u001b[0m\u001b[0m\n\u001b[0;32m    813\u001b[0m     \u001b[1;32mdef\u001b[0m \u001b[0mclose\u001b[0m\u001b[1;33m(\u001b[0m\u001b[0mself\u001b[0m\u001b[1;33m)\u001b[0m\u001b[1;33m:\u001b[0m\u001b[1;33m\u001b[0m\u001b[1;33m\u001b[0m\u001b[0m\n",
      "\u001b[1;32m~\\.conda\\envs\\research1\\lib\\site-packages\\pandas\\io\\parsers\\readers.py\u001b[0m in \u001b[0;36m_make_engine\u001b[1;34m(self, engine)\u001b[0m\n\u001b[0;32m   1038\u001b[0m             )\n\u001b[0;32m   1039\u001b[0m         \u001b[1;31m# error: Too many arguments for \"ParserBase\"\u001b[0m\u001b[1;33m\u001b[0m\u001b[1;33m\u001b[0m\u001b[1;33m\u001b[0m\u001b[0m\n\u001b[1;32m-> 1040\u001b[1;33m         \u001b[1;32mreturn\u001b[0m \u001b[0mmapping\u001b[0m\u001b[1;33m[\u001b[0m\u001b[0mengine\u001b[0m\u001b[1;33m]\u001b[0m\u001b[1;33m(\u001b[0m\u001b[0mself\u001b[0m\u001b[1;33m.\u001b[0m\u001b[0mf\u001b[0m\u001b[1;33m,\u001b[0m \u001b[1;33m**\u001b[0m\u001b[0mself\u001b[0m\u001b[1;33m.\u001b[0m\u001b[0moptions\u001b[0m\u001b[1;33m)\u001b[0m  \u001b[1;31m# type: ignore[call-arg]\u001b[0m\u001b[1;33m\u001b[0m\u001b[1;33m\u001b[0m\u001b[0m\n\u001b[0m\u001b[0;32m   1041\u001b[0m \u001b[1;33m\u001b[0m\u001b[0m\n\u001b[0;32m   1042\u001b[0m     \u001b[1;32mdef\u001b[0m \u001b[0m_failover_to_python\u001b[0m\u001b[1;33m(\u001b[0m\u001b[0mself\u001b[0m\u001b[1;33m)\u001b[0m\u001b[1;33m:\u001b[0m\u001b[1;33m\u001b[0m\u001b[1;33m\u001b[0m\u001b[0m\n",
      "\u001b[1;32m~\\.conda\\envs\\research1\\lib\\site-packages\\pandas\\io\\parsers\\c_parser_wrapper.py\u001b[0m in \u001b[0;36m__init__\u001b[1;34m(self, src, **kwds)\u001b[0m\n\u001b[0;32m     49\u001b[0m \u001b[1;33m\u001b[0m\u001b[0m\n\u001b[0;32m     50\u001b[0m         \u001b[1;31m# open handles\u001b[0m\u001b[1;33m\u001b[0m\u001b[1;33m\u001b[0m\u001b[1;33m\u001b[0m\u001b[0m\n\u001b[1;32m---> 51\u001b[1;33m         \u001b[0mself\u001b[0m\u001b[1;33m.\u001b[0m\u001b[0m_open_handles\u001b[0m\u001b[1;33m(\u001b[0m\u001b[0msrc\u001b[0m\u001b[1;33m,\u001b[0m \u001b[0mkwds\u001b[0m\u001b[1;33m)\u001b[0m\u001b[1;33m\u001b[0m\u001b[1;33m\u001b[0m\u001b[0m\n\u001b[0m\u001b[0;32m     52\u001b[0m         \u001b[1;32massert\u001b[0m \u001b[0mself\u001b[0m\u001b[1;33m.\u001b[0m\u001b[0mhandles\u001b[0m \u001b[1;32mis\u001b[0m \u001b[1;32mnot\u001b[0m \u001b[1;32mNone\u001b[0m\u001b[1;33m\u001b[0m\u001b[1;33m\u001b[0m\u001b[0m\n\u001b[0;32m     53\u001b[0m \u001b[1;33m\u001b[0m\u001b[0m\n",
      "\u001b[1;32m~\\.conda\\envs\\research1\\lib\\site-packages\\pandas\\io\\parsers\\base_parser.py\u001b[0m in \u001b[0;36m_open_handles\u001b[1;34m(self, src, kwds)\u001b[0m\n\u001b[0;32m    220\u001b[0m         \u001b[0mLet\u001b[0m \u001b[0mthe\u001b[0m \u001b[0mreaders\u001b[0m \u001b[0mopen\u001b[0m \u001b[0mIOHandles\u001b[0m \u001b[0mafter\u001b[0m \u001b[0mthey\u001b[0m \u001b[0mare\u001b[0m \u001b[0mdone\u001b[0m \u001b[1;32mwith\u001b[0m \u001b[0mtheir\u001b[0m \u001b[0mpotential\u001b[0m \u001b[0mraises\u001b[0m\u001b[1;33m.\u001b[0m\u001b[1;33m\u001b[0m\u001b[1;33m\u001b[0m\u001b[0m\n\u001b[0;32m    221\u001b[0m         \"\"\"\n\u001b[1;32m--> 222\u001b[1;33m         self.handles = get_handle(\n\u001b[0m\u001b[0;32m    223\u001b[0m             \u001b[0msrc\u001b[0m\u001b[1;33m,\u001b[0m\u001b[1;33m\u001b[0m\u001b[1;33m\u001b[0m\u001b[0m\n\u001b[0;32m    224\u001b[0m             \u001b[1;34m\"r\"\u001b[0m\u001b[1;33m,\u001b[0m\u001b[1;33m\u001b[0m\u001b[1;33m\u001b[0m\u001b[0m\n",
      "\u001b[1;32m~\\.conda\\envs\\research1\\lib\\site-packages\\pandas\\io\\common.py\u001b[0m in \u001b[0;36mget_handle\u001b[1;34m(path_or_buf, mode, encoding, compression, memory_map, is_text, errors, storage_options)\u001b[0m\n\u001b[0;32m    700\u001b[0m         \u001b[1;32mif\u001b[0m \u001b[0mioargs\u001b[0m\u001b[1;33m.\u001b[0m\u001b[0mencoding\u001b[0m \u001b[1;32mand\u001b[0m \u001b[1;34m\"b\"\u001b[0m \u001b[1;32mnot\u001b[0m \u001b[1;32min\u001b[0m \u001b[0mioargs\u001b[0m\u001b[1;33m.\u001b[0m\u001b[0mmode\u001b[0m\u001b[1;33m:\u001b[0m\u001b[1;33m\u001b[0m\u001b[1;33m\u001b[0m\u001b[0m\n\u001b[0;32m    701\u001b[0m             \u001b[1;31m# Encoding\u001b[0m\u001b[1;33m\u001b[0m\u001b[1;33m\u001b[0m\u001b[1;33m\u001b[0m\u001b[0m\n\u001b[1;32m--> 702\u001b[1;33m             handle = open(\n\u001b[0m\u001b[0;32m    703\u001b[0m                 \u001b[0mhandle\u001b[0m\u001b[1;33m,\u001b[0m\u001b[1;33m\u001b[0m\u001b[1;33m\u001b[0m\u001b[0m\n\u001b[0;32m    704\u001b[0m                 \u001b[0mioargs\u001b[0m\u001b[1;33m.\u001b[0m\u001b[0mmode\u001b[0m\u001b[1;33m,\u001b[0m\u001b[1;33m\u001b[0m\u001b[1;33m\u001b[0m\u001b[0m\n",
      "\u001b[1;31mFileNotFoundError\u001b[0m: [Errno 2] No such file or directory: '../result/evaluation_adv.csv'"
     ]
    }
   ],
   "source": [
    "# read previous result\n",
    "result_df = pd.read_csv(output_path + 'evaluation_adv.csv', index_col = 0).transpose()\n",
    "result.update(result_df.to_dict())\n",
    "result"
   ]
  },
  {
   "cell_type": "code",
   "execution_count": 25,
   "id": "c012fe38",
   "metadata": {},
   "outputs": [
    {
     "data": {
      "text/plain": [
       "{'Post-Single-1': {'RMSE_filter': 0,\n",
       "  'nDCG(100)': 0,\n",
       "  'nDCG(1000)': 0,\n",
       "  'train time(s)': 0,\n",
       "  'exec time(s)': 0},\n",
       " 'Post-Single-2': {'RMSE_filter': 0,\n",
       "  'nDCG(100)': 0,\n",
       "  'nDCG(1000)': 0,\n",
       "  'train time(s)': 0,\n",
       "  'exec time(s)': 0},\n",
       " 'Post-Single-3': {'RMSE_filter': 0,\n",
       "  'nDCG(100)': 0,\n",
       "  'nDCG(1000)': 0,\n",
       "  'train time(s)': 0,\n",
       "  'exec time(s)': 0},\n",
       " 'Inter-Single-1': {'RMSE_filter': 0,\n",
       "  'nDCG(100)': 0,\n",
       "  'nDCG(1000)': 0,\n",
       "  'train time(s)': 0,\n",
       "  'exec time(s)': 0},\n",
       " 'Inter-Single-2': {'RMSE_filter': 0,\n",
       "  'nDCG(100)': 0,\n",
       "  'nDCG(1000)': 0,\n",
       "  'train time(s)': 0,\n",
       "  'exec time(s)': 0},\n",
       " 'Inter-Single-3': {'RMSE_filter': 0,\n",
       "  'nDCG(100)': 0,\n",
       "  'nDCG(1000)': 0,\n",
       "  'train time(s)': 0,\n",
       "  'exec time(s)': 0},\n",
       " 'Post-Mixed': {'RMSE_filter': 0,\n",
       "  'nDCG(100)': 0,\n",
       "  'nDCG(1000)': 0,\n",
       "  'train time(s)': 0,\n",
       "  'exec time(s)': 0},\n",
       " 'Inter-Mixed': {'RMSE_filter': 0,\n",
       "  'nDCG(100)': 0,\n",
       "  'nDCG(1000)': 0,\n",
       "  'train time(s)': 0,\n",
       "  'exec time(s)': 0}}"
      ]
     },
     "execution_count": 25,
     "metadata": {},
     "output_type": "execute_result"
    }
   ],
   "source": [
    "result"
   ]
  },
  {
   "cell_type": "markdown",
   "id": "237ae21e",
   "metadata": {},
   "source": [
    "# Post Rec Single"
   ]
  },
  {
   "cell_type": "code",
   "execution_count": 26,
   "id": "9ab4fe87",
   "metadata": {},
   "outputs": [],
   "source": [
    "def run_post_single(ctype, idx):    \n",
    "    # PostRec applies constraint after the rating of each item is predicted\n",
    "    rec = PostRec(input_path + rate_file, input_path + attr_file, \n",
    "                           input_path + 'const_' + str(ctype) + '.' + str(idx) + '.csv',\n",
    "                            need_test = True)\n",
    "    rec.result_N = 1000\n",
    "    \n",
    "    rec.get_data()  # get rating, attribute, recipe data\n",
    "    \n",
    "    # train with data\n",
    "    start = time.time()\n",
    "    rec.train()  \n",
    "    t1 = time.time() - start\n",
    "    \n",
    "    # predict rating for test-set\n",
    "    predict_test = rec.test_rmse()\n",
    "    r1 = ev.calculate_rmse(rec.filter(predict_test))\n",
    "       \n",
    "    # get top-n for anti-test-set\n",
    "    start = time.time()\n",
    "    rec.test()\n",
    "    top_n_df = rec.get_top_n()\n",
    "    t2 = time.time() - start\n",
    "    \n",
    "    # calculate ndcg\n",
    "    r2 = ev.calculate_ndcg(rec.get_rel(), top_n_df, 100)\n",
    "    r3 = ev.calculate_ndcg(rec.get_rel(), top_n_df, 1000)\n",
    "     \n",
    "    return r1, r2, r3, t1, t2"
   ]
  },
  {
   "cell_type": "code",
   "execution_count": 27,
   "id": "72f0af88",
   "metadata": {},
   "outputs": [
    {
     "name": "stdout",
     "output_type": "stream",
     "text": [
      "Const_1.1 done\n",
      "Const_2.1 done\n",
      "Const_3.1 done\n"
     ]
    }
   ],
   "source": [
    "for i in range (1, 4):\n",
    "    r1, r2, r3, t1, t2 = run_post_single(i, 1)\n",
    "    print('Const_'+str(i)+'.'+str(1)+\" done\")\n",
    "\n",
    "    result[rs2+str(i)][val_r1] = r1\n",
    "    result[rs2+str(i)][val_r2] = r2\n",
    "    result[rs2+str(i)][val_r3] = r3\n",
    "    result[rs2+str(i)][val_t1] = t1\n",
    "    result[rs2+str(i)][val_t2] = t2"
   ]
  },
  {
   "cell_type": "markdown",
   "id": "5bbd22bf",
   "metadata": {},
   "source": [
    "# Inter Rec Mixed"
   ]
  },
  {
   "cell_type": "code",
   "execution_count": 29,
   "id": "cac22fb8",
   "metadata": {},
   "outputs": [],
   "source": [
    "def run_inter_single(ctype, idx):    \n",
    "    # PostRec applies constraint after the rating of each item is predicted\n",
    "    rec = InterRec(input_path + rate_file, input_path + attr_file, \n",
    "                           input_path + 'const_' + str(ctype) + '.' + str(idx) + '.csv', \n",
    "                            svd_constraint.CnstSVD(), need_test = True)\n",
    "    rec.result_N = 1000\n",
    "    \n",
    "    rec.get_data()  # get rating, attribute, recipe data\n",
    "    \n",
    "    # train with data\n",
    "    start = time.time()\n",
    "    rec.train()  \n",
    "    t1 = time.time() - start\n",
    "    \n",
    "    # predict rating for test-set\n",
    "    predict_test = rec.test_rmse()\n",
    "    r1 = ev.calculate_rmse(rec.filter(predict_test))\n",
    "    \n",
    "    # get top-n for anti-test-set\n",
    "    start = time.time()\n",
    "    rec.test()\n",
    "    top_n_df = rec.get_top_n()\n",
    "    t2 = time.time() - start\n",
    "\n",
    "    # calculate ndcg\n",
    "    r2 = ev.calculate_ndcg(rec.get_rel(), top_n_df, 100)\n",
    "    r3 = ev.calculate_ndcg(rec.get_rel(), top_n_df, 1000)\n",
    "       \n",
    "    return r1, r2, r3, t1, t2"
   ]
  },
  {
   "cell_type": "code",
   "execution_count": 30,
   "id": "bf523b83",
   "metadata": {},
   "outputs": [
    {
     "name": "stdout",
     "output_type": "stream",
     "text": [
      "Const_1.1 done\n",
      "Const_2.1 done\n",
      "Const_3.1 done\n"
     ]
    }
   ],
   "source": [
    "for i in range (1, 4):\n",
    "    r1, r2, r3, t1, t2 = run_inter_single(i, 1)\n",
    "    print('Const_'+str(i)+'.'+str(1)+\" done\")\n",
    "\n",
    "    result[rs3+str(i)][val_r1] = r1\n",
    "    result[rs3+str(i)][val_r2] = r2\n",
    "    result[rs3+str(i)][val_r3] = r3\n",
    "    result[rs3+str(i)][val_t1] = t1\n",
    "    result[rs3+str(i)][val_t2] = t2"
   ]
  },
  {
   "cell_type": "markdown",
   "id": "3106b3c5",
   "metadata": {},
   "source": [
    "# Post-Rec Mixed"
   ]
  },
  {
   "cell_type": "code",
   "execution_count": 31,
   "id": "cf31ca0f",
   "metadata": {},
   "outputs": [],
   "source": [
    "def run_post(idx):    \n",
    "    # PostRec applies constraint after the rating of each item is predicted\n",
    "    rec = PostRec(input_path + rate_file, input_path + attr_file, \n",
    "                           input_path + 'const' + '.' + str(idx) + '.csv',\n",
    "                            need_test = True)\n",
    "    rec.result_N = 1000\n",
    "    \n",
    "    rec.get_data()  # get rating, attribute, recipe data\n",
    "    \n",
    "    # train with data\n",
    "    start = time.time()\n",
    "    rec.train()  \n",
    "    t1 = time.time() - start\n",
    "    \n",
    "    # predict rating for test-set\n",
    "    predict_test = rec.test_rmse()\n",
    "    r1 = ev.calculate_rmse(rec.filter(predict_test))\n",
    "       \n",
    "    # get top-n for anti-test-set\n",
    "    start = time.time()\n",
    "    rec.test()\n",
    "    top_n_df = rec.get_top_n()\n",
    "    t2 = time.time() - start\n",
    "    \n",
    "    # calculate ndcg\n",
    "    r2 = ev.calculate_ndcg(rec.get_rel(), top_n_df, 100)\n",
    "    r3 = ev.calculate_ndcg(rec.get_rel(), top_n_df, 1000)\n",
    "        \n",
    "    return r1, r2, r3, t1, t2"
   ]
  },
  {
   "cell_type": "code",
   "execution_count": 33,
   "id": "0e1063ad",
   "metadata": {},
   "outputs": [
    {
     "name": "stdout",
     "output_type": "stream",
     "text": [
      "Const_3.1 done\n"
     ]
    }
   ],
   "source": [
    "r1, r2, r3, t1, t2 = run_post(i)\n",
    "print('Const_'+str(i)+'.'+str(1)+\" done\")\n",
    "\n",
    "result[rs4][val_r1] = r1\n",
    "result[rs4][val_r2] = r2\n",
    "result[rs4][val_r3] = r3\n",
    "result[rs4][val_t1] = t1\n",
    "result[rs4][val_t2] = t2"
   ]
  },
  {
   "cell_type": "markdown",
   "id": "b4c44cf4",
   "metadata": {},
   "source": [
    "# Inter-Rec Mixed"
   ]
  },
  {
   "cell_type": "code",
   "execution_count": 34,
   "id": "69a26136",
   "metadata": {},
   "outputs": [],
   "source": [
    "def run_inter(idx):    \n",
    "    # InterRec applies constraint during the rating of each item is predicted\n",
    "    rec = InterRec(input_path + rate_file, input_path + attr_file, \n",
    "                           input_path + 'const' + '.' + str(idx) + '.csv', \n",
    "                            svd_constraint.CnstSVD(), need_test = True)\n",
    "    \n",
    "    rec.get_data()  # get rating, attribute, recipe data\n",
    "    \n",
    "    # train with data\n",
    "    start = time.time()\n",
    "    rec.train()  \n",
    "    t1 = time.time() - start\n",
    "    \n",
    "    # predict rating for test-set\n",
    "    predict_test = rec.test_rmse()\n",
    "    r1 = ev.calculate_rmse(rec.filter(predict_test))\n",
    "    \n",
    "    # get top-n for anti-test-set\n",
    "    start = time.time()\n",
    "    rec.test()\n",
    "    top_n_df = rec.get_top_n()\n",
    "    t2 = time.time() - start\n",
    "\n",
    "    # calculate ndcg\n",
    "    r2 = ev.calculate_ndcg(rec.get_rel(), top_n_df, 100)\n",
    "    r3 = ev.calculate_ndcg(rec.get_rel(), top_n_df, 1000)\n",
    "        \n",
    "    return r1, r2, r3, t1, t2"
   ]
  },
  {
   "cell_type": "code",
   "execution_count": 36,
   "id": "a5539a3f",
   "metadata": {},
   "outputs": [
    {
     "name": "stdout",
     "output_type": "stream",
     "text": [
      "Const_3.1 done\n"
     ]
    }
   ],
   "source": [
    "r1, r2, r3, t1, t2 = run_inter(i)\n",
    "print('Const_'+str(i)+'.'+str(1)+\" done\")\n",
    "\n",
    "result[rs5][val_r1] = r1\n",
    "result[rs5][val_r2] = r2\n",
    "result[rs5][val_r3] = r3\n",
    "result[rs5][val_t1] = t1\n",
    "result[rs5][val_t2] = t2"
   ]
  },
  {
   "cell_type": "markdown",
   "id": "3be6a485",
   "metadata": {},
   "source": [
    "# result"
   ]
  },
  {
   "cell_type": "code",
   "execution_count": 37,
   "id": "22c7972e",
   "metadata": {},
   "outputs": [
    {
     "data": {
      "text/plain": [
       "{'Post-Single-1': {'RMSE_filter': 4.591328343606354,\n",
       "  'nDCG(100)': 0.15491540164486076,\n",
       "  'nDCG(1000)': 0.2093510543762797,\n",
       "  'train time(s)': 0.2563142776489258,\n",
       "  'exec time(s)': 253.03286123275757},\n",
       " 'Post-Single-2': {'RMSE_filter': 1.022436225700596,\n",
       "  'nDCG(100)': 0.023654106468480585,\n",
       "  'nDCG(1000)': 0.08639112040429298,\n",
       "  'train time(s)': 0.25830936431884766,\n",
       "  'exec time(s)': 126.68394017219543},\n",
       " 'Post-Single-3': {'RMSE_filter': 0.846855053114996,\n",
       "  'nDCG(100)': 0.04265655649402933,\n",
       "  'nDCG(1000)': 0.09527679847872073,\n",
       "  'train time(s)': 0.25531744956970215,\n",
       "  'exec time(s)': 251.2007508277893},\n",
       " 'Inter-Single-1': {'RMSE_filter': 3.9030095864579653,\n",
       "  'nDCG(100)': 0.18369048146188013,\n",
       "  'nDCG(1000)': 0.2299706653792887,\n",
       "  'train time(s)': 258.4037415981293,\n",
       "  'exec time(s)': 9.900744915008545},\n",
       " 'Inter-Single-2': {'RMSE_filter': 0.9359296052574421,\n",
       "  'nDCG(100)': 0.03197563989412377,\n",
       "  'nDCG(1000)': 0.08869732735956162,\n",
       "  'train time(s)': 267.8210301399231,\n",
       "  'exec time(s)': 15.809841632843018},\n",
       " 'Inter-Single-3': {'RMSE_filter': 0.8335784668084815,\n",
       "  'nDCG(100)': 0.04473860663929649,\n",
       "  'nDCG(1000)': 0.09824450314090974,\n",
       "  'train time(s)': 386.190673828125,\n",
       "  'exec time(s)': 18.778376579284668},\n",
       " 'Post-Mixed': {'RMSE_filter': 3.1769947930084808,\n",
       "  'nDCG(100)': 0.05889861991156964,\n",
       "  'nDCG(1000)': 0.11015678753596259,\n",
       "  'train time(s)': 0.25836849212646484,\n",
       "  'exec time(s)': 223.69677996635437},\n",
       " 'Inter-Mixed': {'RMSE_filter': 2.7437619200106966,\n",
       "  'nDCG(100)': 0.03268639826742613,\n",
       "  'nDCG(1000)': 0.03268639826742613,\n",
       "  'train time(s)': 288.5864405632019,\n",
       "  'exec time(s)': 13.235717058181763}}"
      ]
     },
     "execution_count": 37,
     "metadata": {},
     "output_type": "execute_result"
    }
   ],
   "source": [
    "result"
   ]
  },
  {
   "cell_type": "code",
   "execution_count": 39,
   "id": "220cb943",
   "metadata": {},
   "outputs": [
    {
     "data": {
      "text/html": [
       "<div>\n",
       "<style scoped>\n",
       "    .dataframe tbody tr th:only-of-type {\n",
       "        vertical-align: middle;\n",
       "    }\n",
       "\n",
       "    .dataframe tbody tr th {\n",
       "        vertical-align: top;\n",
       "    }\n",
       "\n",
       "    .dataframe thead th {\n",
       "        text-align: right;\n",
       "    }\n",
       "</style>\n",
       "<table border=\"1\" class=\"dataframe\">\n",
       "  <thead>\n",
       "    <tr style=\"text-align: right;\">\n",
       "      <th></th>\n",
       "      <th>RMSE_filter</th>\n",
       "      <th>nDCG(100)</th>\n",
       "      <th>nDCG(1000)</th>\n",
       "      <th>train time(s)</th>\n",
       "      <th>exec time(s)</th>\n",
       "    </tr>\n",
       "  </thead>\n",
       "  <tbody>\n",
       "    <tr>\n",
       "      <th>Post-Single-1</th>\n",
       "      <td>4.591328</td>\n",
       "      <td>0.154915</td>\n",
       "      <td>0.209351</td>\n",
       "      <td>0.256314</td>\n",
       "      <td>253.032861</td>\n",
       "    </tr>\n",
       "    <tr>\n",
       "      <th>Post-Single-2</th>\n",
       "      <td>1.022436</td>\n",
       "      <td>0.023654</td>\n",
       "      <td>0.086391</td>\n",
       "      <td>0.258309</td>\n",
       "      <td>126.683940</td>\n",
       "    </tr>\n",
       "    <tr>\n",
       "      <th>Post-Single-3</th>\n",
       "      <td>0.846855</td>\n",
       "      <td>0.042657</td>\n",
       "      <td>0.095277</td>\n",
       "      <td>0.255317</td>\n",
       "      <td>251.200751</td>\n",
       "    </tr>\n",
       "    <tr>\n",
       "      <th>Inter-Single-1</th>\n",
       "      <td>3.903010</td>\n",
       "      <td>0.183690</td>\n",
       "      <td>0.229971</td>\n",
       "      <td>258.403742</td>\n",
       "      <td>9.900745</td>\n",
       "    </tr>\n",
       "    <tr>\n",
       "      <th>Inter-Single-2</th>\n",
       "      <td>0.935930</td>\n",
       "      <td>0.031976</td>\n",
       "      <td>0.088697</td>\n",
       "      <td>267.821030</td>\n",
       "      <td>15.809842</td>\n",
       "    </tr>\n",
       "    <tr>\n",
       "      <th>Inter-Single-3</th>\n",
       "      <td>0.833578</td>\n",
       "      <td>0.044739</td>\n",
       "      <td>0.098245</td>\n",
       "      <td>386.190674</td>\n",
       "      <td>18.778377</td>\n",
       "    </tr>\n",
       "    <tr>\n",
       "      <th>Post-Mixed</th>\n",
       "      <td>3.176995</td>\n",
       "      <td>0.058899</td>\n",
       "      <td>0.110157</td>\n",
       "      <td>0.258368</td>\n",
       "      <td>223.696780</td>\n",
       "    </tr>\n",
       "    <tr>\n",
       "      <th>Inter-Mixed</th>\n",
       "      <td>2.743762</td>\n",
       "      <td>0.032686</td>\n",
       "      <td>0.032686</td>\n",
       "      <td>288.586441</td>\n",
       "      <td>13.235717</td>\n",
       "    </tr>\n",
       "  </tbody>\n",
       "</table>\n",
       "</div>"
      ],
      "text/plain": [
       "                RMSE_filter  nDCG(100)  nDCG(1000)  train time(s)  \\\n",
       "Post-Single-1      4.591328   0.154915    0.209351       0.256314   \n",
       "Post-Single-2      1.022436   0.023654    0.086391       0.258309   \n",
       "Post-Single-3      0.846855   0.042657    0.095277       0.255317   \n",
       "Inter-Single-1     3.903010   0.183690    0.229971     258.403742   \n",
       "Inter-Single-2     0.935930   0.031976    0.088697     267.821030   \n",
       "Inter-Single-3     0.833578   0.044739    0.098245     386.190674   \n",
       "Post-Mixed         3.176995   0.058899    0.110157       0.258368   \n",
       "Inter-Mixed        2.743762   0.032686    0.032686     288.586441   \n",
       "\n",
       "                exec time(s)  \n",
       "Post-Single-1     253.032861  \n",
       "Post-Single-2     126.683940  \n",
       "Post-Single-3     251.200751  \n",
       "Inter-Single-1      9.900745  \n",
       "Inter-Single-2     15.809842  \n",
       "Inter-Single-3     18.778377  \n",
       "Post-Mixed        223.696780  \n",
       "Inter-Mixed        13.235717  "
      ]
     },
     "execution_count": 39,
     "metadata": {},
     "output_type": "execute_result"
    }
   ],
   "source": [
    "result_df = pd.DataFrame.from_dict(result, orient='index', columns=['RMSE_filter', 'nDCG(100)', 'nDCG(1000)', 'train time(s)', 'exec time(s)'])\n",
    "result_df.to_csv(output_path + 'evaluation_adv.csv')\n",
    "result_df"
   ]
  },
  {
   "cell_type": "code",
   "execution_count": null,
   "id": "0f3cefdb",
   "metadata": {},
   "outputs": [],
   "source": []
  }
 ],
 "metadata": {
  "kernelspec": {
   "display_name": "research1",
   "language": "python",
   "name": "research1"
  },
  "language_info": {
   "codemirror_mode": {
    "name": "ipython",
    "version": 3
   },
   "file_extension": ".py",
   "mimetype": "text/x-python",
   "name": "python",
   "nbconvert_exporter": "python",
   "pygments_lexer": "ipython3",
   "version": "3.8.12"
  }
 },
 "nbformat": 4,
 "nbformat_minor": 5
}
