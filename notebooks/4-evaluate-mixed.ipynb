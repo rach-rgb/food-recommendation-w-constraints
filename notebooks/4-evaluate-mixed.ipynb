{
 "cells": [
  {
   "cell_type": "code",
   "execution_count": 1,
   "id": "a46e6281",
   "metadata": {},
   "outputs": [],
   "source": [
    "# import modules\n",
    "import copy\n",
    "import time\n",
    "from sys import path\n",
    "from collections import defaultdict"
   ]
  },
  {
   "cell_type": "code",
   "execution_count": 2,
   "id": "4ee4f3ba",
   "metadata": {},
   "outputs": [],
   "source": [
    "import pandas as pd\n",
    "from surprise import SVD, Reader, Dataset, accuracy\n",
    "from surprise.model_selection import train_test_split"
   ]
  },
  {
   "cell_type": "code",
   "execution_count": 3,
   "id": "00bf8df4",
   "metadata": {},
   "outputs": [],
   "source": [
    "path.append('../code/src')"
   ]
  },
  {
   "cell_type": "code",
   "execution_count": 4,
   "id": "2b02a448",
   "metadata": {},
   "outputs": [],
   "source": [
    "import svd_constraint\n",
    "from post_rec import PostRec\n",
    "from inter_rec import InterRec\n",
    "from evaluate import Evaluation as ev"
   ]
  },
  {
   "cell_type": "code",
   "execution_count": 5,
   "id": "0af9de64",
   "metadata": {},
   "outputs": [],
   "source": [
    "# constants\n",
    "# file path\n",
    "input_path = \"../data/\"\n",
    "output_path = '../result/'\n",
    "rate_file = 'reduced_rating_data.csv'\n",
    "attr_file = 'recipe_data.csv'\n",
    "\n",
    "# user/item max\n",
    "user_max = 1000\n",
    "food_max = 5000\n",
    "\n",
    "# const count\n",
    "const_count = 3"
   ]
  },
  {
   "cell_type": "code",
   "execution_count": 6,
   "id": "4a4467fd",
   "metadata": {},
   "outputs": [],
   "source": [
    "# Dictionary keys\n",
    "rs1 = 'w/o Constraint'\n",
    "rs2 = 'Post-Single-'\n",
    "rs3 = 'Inter-Single-'\n",
    "rs4 = 'Post-Mixed'\n",
    "rs5 = 'Inter-Mixed'\n",
    "val_r1 = 'RMSE'\n",
    "val_r2 = 'nDCG'\n",
    "val_t1 = 'train time(s)'\n",
    "val_t2 = 'exec time(s)'"
   ]
  },
  {
   "cell_type": "code",
   "execution_count": 7,
   "id": "60956408",
   "metadata": {},
   "outputs": [],
   "source": [
    "val_dict = {\n",
    "    val_r1: 0,\n",
    "    val_r2: 0,\n",
    "    val_t1: 0,\n",
    "    val_t2: 0\n",
    "}\n",
    "\n",
    "keys = [rs1]\n",
    "keys = keys + [rs2 + str(i) for i in range (1, 4)]\n",
    "keys = keys + [rs3 + str(i) for i in range (1, 4)]\n",
    "keys = keys + [rs4]\n",
    "keys = keys + [rs5]\n",
    "\n",
    "result = {key: copy.deepcopy(val_dict) for key in keys}"
   ]
  },
  {
   "cell_type": "code",
   "execution_count": 14,
   "id": "3128f4c7",
   "metadata": {},
   "outputs": [
    {
     "data": {
      "text/plain": [
       "{'w/o Constraint': {'RMSE': 0.706073395020865,\n",
       "  'nDCG': 0.0461308504465657,\n",
       "  'train time(s)': 0.2697818279266357,\n",
       "  'exec time(s)': 14.747427940368652},\n",
       " 'Post-Single-1': {'RMSE': 4.5924920826302165,\n",
       "  'nDCG': 0.2149249591323901,\n",
       "  'train time(s)': 0.2659465471903483,\n",
       "  'exec time(s)': 250.6309250195821},\n",
       " 'Post-Single-2': {'RMSE': 0.9891677322380804,\n",
       "  'nDCG': 0.0553929970168118,\n",
       "  'train time(s)': 0.2662857373555501,\n",
       "  'exec time(s)': 69.36238193511963},\n",
       " 'Post-Single-3': {'RMSE': 0.8392288178488778,\n",
       "  'nDCG': 0.0658242065858615,\n",
       "  'train time(s)': 0.2596391042073567,\n",
       "  'exec time(s)': 176.79050389925638},\n",
       " 'Inter-Single-1': {'RMSE': 3.8974948840491046,\n",
       "  'nDCG': 0.2242529658185136,\n",
       "  'train time(s)': 258.3454844156901,\n",
       "  'exec time(s)': 10.339447975158691},\n",
       " 'Inter-Single-2': {'RMSE': 0.927025030714022,\n",
       "  'nDCG': 0.0613347070384644,\n",
       "  'train time(s)': 268.81026641527814,\n",
       "  'exec time(s)': 16.657366673151653},\n",
       " 'Inter-Single-3': {'RMSE': 0.8274412369937522,\n",
       "  'nDCG': 0.0666729185156121,\n",
       "  'train time(s)': 381.436334212621,\n",
       "  'exec time(s)': 19.53156383832296},\n",
       " 'Post-Mixed': {'RMSE': 3.184274855722536,\n",
       "  'nDCG': 0.08009927560128416,\n",
       "  'train time(s)': 0.26210784912109375,\n",
       "  'exec time(s)': 198.56274191538492},\n",
       " 'Inter-Mixed': {'RMSE': 2.7556018954738133,\n",
       "  'nDCG': 0.07878876200462577,\n",
       "  'train time(s)': 289.8324848016103,\n",
       "  'exec time(s)': 13.684746980667114}}"
      ]
     },
     "execution_count": 14,
     "metadata": {},
     "output_type": "execute_result"
    }
   ],
   "source": [
    "# read previous result\n",
    "result_df = pd.read_csv(output_path + 'evaluation_single.csv', index_col = 0).transpose()\n",
    "result.update(result_df.to_dict())\n",
    "result"
   ]
  },
  {
   "cell_type": "markdown",
   "id": "bb4755d9",
   "metadata": {},
   "source": [
    "# Evaluate Post-Rec w/ Mixed Type Constraint"
   ]
  },
  {
   "cell_type": "code",
   "execution_count": 8,
   "id": "0aa21dc5",
   "metadata": {},
   "outputs": [],
   "source": [
    "def run_post(idx, k, save_result = True):    \n",
    "    # PostRec applies constraint after the rating of each item is predicted\n",
    "    rec = PostRec(input_path + rate_file, input_path + attr_file, \n",
    "                           input_path + 'const' + '.' + str(idx) + '.csv',\n",
    "                            need_test = True)\n",
    "    \n",
    "    rec.get_data()  # get rating, attribute, recipe data\n",
    "    rec.set_result_n(k)\n",
    "    \n",
    "    # train with data\n",
    "    start = time.time()\n",
    "    rec.train()  \n",
    "    t1 = time.time() - start\n",
    "    \n",
    "    # predict rating for test-set\n",
    "    predict_test = rec.test_rmse()\n",
    "    r1 = ev.calculate_rmse(predict_test)\n",
    "       \n",
    "    # get top-n for anti-test-set\n",
    "    start = time.time()\n",
    "    rec.test()\n",
    "    top_n_df = rec.get_top_n()\n",
    "    t2 = time.time() - start\n",
    "    \n",
    "    # calculate ndcg\n",
    "    r2 = ev.calculate_ndcg(rec.get_rel(), top_n_df, k)\n",
    "    \n",
    "    if save_result:       \n",
    "        top_n_df.to_csv(output_path + 'PostRec' + '.' + str(idx) + '.csv')\n",
    "        \n",
    "    return r1, r2, t1, t2"
   ]
  },
  {
   "cell_type": "code",
   "execution_count": 9,
   "id": "2bcc0352",
   "metadata": {},
   "outputs": [
    {
     "name": "stdout",
     "output_type": "stream",
     "text": [
      "Const.1 done\n",
      "Const.2 done\n",
      "Const.3 done\n"
     ]
    }
   ],
   "source": [
    "r1_sum = 0\n",
    "r2_sum = 0\n",
    "t1_sum = 0\n",
    "t2_sum = 0\n",
    "for j in range (1, const_count + 1):\n",
    "    r1, r2, t1, t2 = run_post(j, 500, False)\n",
    "    r1_sum = r1_sum + r1\n",
    "    r2_sum = r2_sum + r2\n",
    "    t1_sum = t1_sum + t1\n",
    "    t2_sum = t2_sum + t2\n",
    "    print('Const'+'.'+str(j)+\" done\")\n",
    "\n",
    "result[rs4][val_r1] = r1_sum/const_count\n",
    "result[rs4][val_r2] = r2_sum/const_count\n",
    "result[rs4][val_t1] = t1_sum/const_count\n",
    "result[rs4][val_t2] = t2_sum/const_count"
   ]
  },
  {
   "cell_type": "markdown",
   "id": "66485154",
   "metadata": {},
   "source": [
    "# Evaluate Inter-Rec w/ Mixed Type Constraint"
   ]
  },
  {
   "cell_type": "code",
   "execution_count": 10,
   "id": "30e670a6",
   "metadata": {},
   "outputs": [],
   "source": [
    "def run_inter(idx, k, save_result = True):    \n",
    "    # InterRec applies constraint during the rating of each item is predicted\n",
    "    rec = InterRec(input_path + rate_file, input_path + attr_file, \n",
    "                           input_path + 'const' + '.' + str(idx) + '.csv', \n",
    "                            svd_constraint.CnstSVD(), need_test = True)\n",
    "    \n",
    "    rec.get_data()  # get rating, attribute, recipe data\n",
    "    rec.set_result_n(k)\n",
    "    \n",
    "    # train with data\n",
    "    start = time.time()\n",
    "    rec.train()  \n",
    "    t1 = time.time() - start\n",
    "    \n",
    "    # predict rating for test-set\n",
    "    predict_test = rec.test_rmse()\n",
    "    r1 = ev.calculate_rmse(predict_test)\n",
    "    \n",
    "    # get top-n for anti-test-set\n",
    "    start = time.time()\n",
    "    rec.test()\n",
    "    top_n_df = rec.get_top_n()\n",
    "    t2 = time.time() - start\n",
    "\n",
    "    # calculate nDCG\n",
    "    r2 = ev.calculate_ndcg(rec.get_rel(), top_n_df, k)\n",
    "    \n",
    "    if save_result:       \n",
    "        top_n_df.to_csv(output_path + 'InterRec' + '.' + str(idx) + '.csv')\n",
    "        \n",
    "    return r1, r2, t1, t2"
   ]
  },
  {
   "cell_type": "code",
   "execution_count": 11,
   "id": "51437676",
   "metadata": {},
   "outputs": [
    {
     "name": "stdout",
     "output_type": "stream",
     "text": [
      "Const.1 done\n",
      "Const.2 done\n",
      "Const.3 done\n"
     ]
    }
   ],
   "source": [
    "r1_sum = 0\n",
    "r2_sum = 0\n",
    "t1_sum = 0\n",
    "t2_sum = 0\n",
    "for j in range (1, const_count + 1):\n",
    "    r1, r2, t1, t2 = run_inter(j, 500, False)\n",
    "    r1_sum = r1_sum + r1\n",
    "    r2_sum = r2_sum + r2\n",
    "    t1_sum = t1_sum + t1\n",
    "    t2_sum = t2_sum + t2\n",
    "    print('Const'+'.'+str(j)+\" done\")\n",
    "\n",
    "result[rs5][val_r1] = r1_sum/const_count\n",
    "result[rs5][val_r2] = r2_sum/const_count\n",
    "result[rs5][val_t1] = t1_sum/const_count\n",
    "result[rs5][val_t2] = t2_sum/const_count"
   ]
  },
  {
   "cell_type": "markdown",
   "id": "34bfefa1",
   "metadata": {},
   "source": [
    "# Result"
   ]
  },
  {
   "cell_type": "code",
   "execution_count": 15,
   "id": "aee4082f",
   "metadata": {},
   "outputs": [
    {
     "data": {
      "text/html": [
       "<div>\n",
       "<style scoped>\n",
       "    .dataframe tbody tr th:only-of-type {\n",
       "        vertical-align: middle;\n",
       "    }\n",
       "\n",
       "    .dataframe tbody tr th {\n",
       "        vertical-align: top;\n",
       "    }\n",
       "\n",
       "    .dataframe thead th {\n",
       "        text-align: right;\n",
       "    }\n",
       "</style>\n",
       "<table border=\"1\" class=\"dataframe\">\n",
       "  <thead>\n",
       "    <tr style=\"text-align: right;\">\n",
       "      <th></th>\n",
       "      <th>RMSE</th>\n",
       "      <th>nDCG</th>\n",
       "      <th>train time(s)</th>\n",
       "      <th>exec time(s)</th>\n",
       "    </tr>\n",
       "  </thead>\n",
       "  <tbody>\n",
       "    <tr>\n",
       "      <th>w/o Constraint</th>\n",
       "      <td>0.706073</td>\n",
       "      <td>0.046131</td>\n",
       "      <td>0.269782</td>\n",
       "      <td>14.747428</td>\n",
       "    </tr>\n",
       "    <tr>\n",
       "      <th>Post-Single-1</th>\n",
       "      <td>4.592492</td>\n",
       "      <td>0.214925</td>\n",
       "      <td>0.265947</td>\n",
       "      <td>250.630925</td>\n",
       "    </tr>\n",
       "    <tr>\n",
       "      <th>Post-Single-2</th>\n",
       "      <td>0.989168</td>\n",
       "      <td>0.055393</td>\n",
       "      <td>0.266286</td>\n",
       "      <td>69.362382</td>\n",
       "    </tr>\n",
       "    <tr>\n",
       "      <th>Post-Single-3</th>\n",
       "      <td>0.839229</td>\n",
       "      <td>0.065824</td>\n",
       "      <td>0.259639</td>\n",
       "      <td>176.790504</td>\n",
       "    </tr>\n",
       "    <tr>\n",
       "      <th>Inter-Single-1</th>\n",
       "      <td>3.897495</td>\n",
       "      <td>0.224253</td>\n",
       "      <td>258.345484</td>\n",
       "      <td>10.339448</td>\n",
       "    </tr>\n",
       "    <tr>\n",
       "      <th>Inter-Single-2</th>\n",
       "      <td>0.927025</td>\n",
       "      <td>0.061335</td>\n",
       "      <td>268.810266</td>\n",
       "      <td>16.657367</td>\n",
       "    </tr>\n",
       "    <tr>\n",
       "      <th>Inter-Single-3</th>\n",
       "      <td>0.827441</td>\n",
       "      <td>0.066673</td>\n",
       "      <td>381.436334</td>\n",
       "      <td>19.531564</td>\n",
       "    </tr>\n",
       "    <tr>\n",
       "      <th>Post-Mixed</th>\n",
       "      <td>3.184275</td>\n",
       "      <td>0.080099</td>\n",
       "      <td>0.262108</td>\n",
       "      <td>198.562742</td>\n",
       "    </tr>\n",
       "    <tr>\n",
       "      <th>Inter-Mixed</th>\n",
       "      <td>2.755602</td>\n",
       "      <td>0.078789</td>\n",
       "      <td>289.832485</td>\n",
       "      <td>13.684747</td>\n",
       "    </tr>\n",
       "  </tbody>\n",
       "</table>\n",
       "</div>"
      ],
      "text/plain": [
       "                    RMSE      nDCG  train time(s)  exec time(s)\n",
       "w/o Constraint  0.706073  0.046131       0.269782     14.747428\n",
       "Post-Single-1   4.592492  0.214925       0.265947    250.630925\n",
       "Post-Single-2   0.989168  0.055393       0.266286     69.362382\n",
       "Post-Single-3   0.839229  0.065824       0.259639    176.790504\n",
       "Inter-Single-1  3.897495  0.224253     258.345484     10.339448\n",
       "Inter-Single-2  0.927025  0.061335     268.810266     16.657367\n",
       "Inter-Single-3  0.827441  0.066673     381.436334     19.531564\n",
       "Post-Mixed      3.184275  0.080099       0.262108    198.562742\n",
       "Inter-Mixed     2.755602  0.078789     289.832485     13.684747"
      ]
     },
     "execution_count": 15,
     "metadata": {},
     "output_type": "execute_result"
    }
   ],
   "source": [
    "result_df = pd.DataFrame.from_dict(result, orient='index', columns=['RMSE', 'nDCG', 'train time(s)', 'exec time(s)'])\n",
    "result_df.to_csv(output_path + 'evaluation_mixed.csv')\n",
    "result_df"
   ]
  },
  {
   "cell_type": "code",
   "execution_count": null,
   "id": "b82ee1e2",
   "metadata": {},
   "outputs": [],
   "source": []
  }
 ],
 "metadata": {
  "kernelspec": {
   "display_name": "research1",
   "language": "python",
   "name": "research1"
  },
  "language_info": {
   "codemirror_mode": {
    "name": "ipython",
    "version": 3
   },
   "file_extension": ".py",
   "mimetype": "text/x-python",
   "name": "python",
   "nbconvert_exporter": "python",
   "pygments_lexer": "ipython3",
   "version": "3.8.12"
  }
 },
 "nbformat": 4,
 "nbformat_minor": 5
}
